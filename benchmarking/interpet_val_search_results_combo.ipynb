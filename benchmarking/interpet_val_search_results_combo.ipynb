{
 "cells": [
  {
   "cell_type": "code",
   "execution_count": 1,
   "id": "0393fcf7",
   "metadata": {},
   "outputs": [],
   "source": [
    "import numpy as np\n",
    "from matplotlib import pyplot as plt\n",
    "import pickle"
   ]
  },
  {
   "cell_type": "code",
   "execution_count": 2,
   "id": "a03d399e",
   "metadata": {},
   "outputs": [
    {
     "name": "stdout",
     "output_type": "stream",
     "text": [
      "('3Di_3Dn', '-10.0', '-0.5', '0.6')\n",
      "('3Di_3Dn', '-6.0', '-0.5', '0.6')\n",
      "('3Di_3Dn', '-8.0', '-0.5', '0.6')\n",
      "('3Di_3Dn_aa', '-2.0', '-0.5', '0.4', '0.2', '0.4')\n",
      "('3Di_3Dn_aa', '-4.0', '-0.5', '0.4', '0.2', '0.4')\n",
      "('3Di_3Dn_aa', '-4.0', '-0.5', '0.4', '0.3', '0.3')\n",
      "('3Di_3Dn_aa', '-4.0', '-0.5', '0.5', '0.2', '0.3')\n",
      "('3Di_3Dn_aa', '-4.0', '-0.5', '0.6', '0.2', '0.2')\n",
      "('3Di_3Dn_aa', '-6.0', '-0.5', '0.3', '0.3', '0.4')\n",
      "('3Di_3Dn_aa', '-6.0', '-0.5', '0.4', '0.2', '0.4')\n",
      "('3Di_3Dn_aa', '-6.0', '-0.5', '0.4', '0.3', '0.3')\n",
      "('3Di_3Dn_aa', '-6.0', '-0.5', '0.5', '0.2', '0.3')\n",
      "('3Di_3Dn_aa', '-6.0', '-0.5', '0.5', '0.3', '0.2')\n",
      "('3Di_3Dn_aa', '-6.0', '-0.5', '0.6', '0.2', '0.2')\n",
      "('3Di_3Dn_aa', '-8.0', '-0.5', '0.4', '0.3', '0.3')\n",
      "('3Di_3Dn_aa', '-8.0', '-0.5', '0.5', '0.3', '0.2')\n",
      "('aa_3Dn', '-4.0', '-0.5', '0.6')\n",
      "('aa_3Dn', '-6.0', '-0.5', '0.6')\n",
      "('aa_3Dn', '-8.0', '-0.5', '0.4')\n",
      "19\n"
     ]
    }
   ],
   "source": [
    "# Initialize the dictionary to store the data\n",
    "results_dict = {}\n",
    "validity_dict = {}\n",
    "\n",
    "# Open the file in read mode\n",
    "with open('val_results_SUTTFFP_combo.txt', 'r') as file:\n",
    "    # Read lines in chunks of three\n",
    "    while True:\n",
    "        # Read the next three lines\n",
    "        line1 = file.readline().strip()\n",
    "        line2 = file.readline().strip()\n",
    "        line3 = file.readline().strip()\n",
    "        \n",
    "        # Break the loop if EOF is reached\n",
    "        if not line3:\n",
    "            break\n",
    "        \n",
    "        # Extract key components from the first line\n",
    "        # Format: Processing val_search/MI/MI_-6.0_-1.5_config_results\n",
    "        #print(parts)\n",
    "        parts = line1.split('/')\n",
    "        identifier = parts[1]  # Extract 'MI'\n",
    "        if parts[2].split('_')[2] ==\"aa\":\n",
    "            config = parts[2].split('_')[-7:-2]\n",
    "            key = (identifier, config[0],config[1],config[2],config[3],config[4])\n",
    "\n",
    "        else: \n",
    "            config = parts[2].split('_')[-5:-2]\n",
    "            key = (identifier, config[0],config[1],config[2])\n",
    "        print(key)\n",
    "        # Extract the values from the third line\n",
    "        values = tuple(map(float, line3.split()))\n",
    "        \n",
    "        # Add to the dictionary\n",
    "        results_dict[key] = values\n",
    "        \n",
    "        # Check if the second line contains \"93\" and add to the validity dictionary\n",
    "        is_valid = '93.00' in line2\n",
    "        validity_dict[key] = is_valid\n",
    "\n",
    "# Print the resulting dictionary\n",
    "#print(results_dict)\n",
    "#print(validity_dict)\n",
    "print(len(results_dict.keys()))"
   ]
  },
  {
   "cell_type": "code",
   "execution_count": 3,
   "id": "83597af0",
   "metadata": {},
   "outputs": [
    {
     "data": {
      "text/plain": [
       "dict_items([(('3Di_3Dn', '-10.0', '-0.5', '0.6'), (0.904508, 0.697676, 0.202689)), (('3Di_3Dn', '-6.0', '-0.5', '0.6'), (0.899048, 0.697536, 0.207623)), (('3Di_3Dn', '-8.0', '-0.5', '0.6'), (0.900413, 0.694708, 0.206029)), (('3Di_3Dn_aa', '-2.0', '-0.5', '0.4', '0.2', '0.4'), (0.931468, 0.727108, 0.205407)), (('3Di_3Dn_aa', '-4.0', '-0.5', '0.4', '0.2', '0.4'), (0.913893, 0.705988, 0.222852)), (('3Di_3Dn_aa', '-4.0', '-0.5', '0.4', '0.3', '0.3'), (0.901096, 0.709412, 0.21778)), (('3Di_3Dn_aa', '-4.0', '-0.5', '0.5', '0.2', '0.3'), (0.909286, 0.701641, 0.211354)), (('3Di_3Dn_aa', '-4.0', '-0.5', '0.6', '0.2', '0.2'), (0.904679, 0.702036, 0.205997)), (('3Di_3Dn_aa', '-6.0', '-0.5', '0.3', '0.3', '0.4'), (0.904338, 0.68749, 0.1942)), (('3Di_3Dn_aa', '-6.0', '-0.5', '0.4', '0.2', '0.4'), (0.904508, 0.692422, 0.199577)), (('3Di_3Dn_aa', '-6.0', '-0.5', '0.4', '0.3', '0.3'), (0.895806, 0.688541, 0.198964)), (('3Di_3Dn_aa', '-6.0', '-0.5', '0.5', '0.2', '0.3'), (0.911675, 0.694783, 0.215865)), (('3Di_3Dn_aa', '-6.0', '-0.5', '0.5', '0.3', '0.2'), (0.909457, 0.68879, 0.209878)), (('3Di_3Dn_aa', '-6.0', '-0.5', '0.6', '0.2', '0.2'), (0.908603, 0.693064, 0.216159)), (('3Di_3Dn_aa', '-8.0', '-0.5', '0.4', '0.3', '0.3'), (0.899731, 0.698915, 0.208289)), (('3Di_3Dn_aa', '-8.0', '-0.5', '0.5', '0.3', '0.2'), (0.90758, 0.696081, 0.206013)), (('aa_3Dn', '-4.0', '-0.5', '0.6'), (0.876013, 0.614655, 0.156417)), (('aa_3Dn', '-6.0', '-0.5', '0.6'), (0.879255, 0.619958, 0.149732)), (('aa_3Dn', '-8.0', '-0.5', '0.4'), (0.881815, 0.616675, 0.152688))])"
      ]
     },
     "execution_count": 3,
     "metadata": {},
     "output_type": "execute_result"
    }
   ],
   "source": [
    "results_dict.items()"
   ]
  },
  {
   "cell_type": "code",
   "execution_count": 4,
   "id": "dbd67de1",
   "metadata": {},
   "outputs": [
    {
     "name": "stdout",
     "output_type": "stream",
     "text": [
      "3Di_3Dn\n",
      "0.9045, 0.6977, 0.2027, ['-10.0', '-0.5', '0.6', True]\n",
      "0.8990, 0.6975, 0.2076, ['-6.0', '-0.5', '0.6', True]\n",
      "0.9004, 0.6947, 0.2060, ['-8.0', '-0.5', '0.6', True]\n",
      "3Di_3Dn_aa\n",
      "0.9315, 0.7271, 0.2054, ['-2.0', '-0.5', '0.4', '0.2', '0.4', True]\n",
      "0.9011, 0.7094, 0.2178, ['-4.0', '-0.5', '0.4', '0.3', '0.3', True]\n",
      "0.9139, 0.7060, 0.2229, ['-4.0', '-0.5', '0.4', '0.2', '0.4', True]\n",
      "0.9047, 0.7020, 0.2060, ['-4.0', '-0.5', '0.6', '0.2', '0.2', True]\n",
      "0.9093, 0.7016, 0.2114, ['-4.0', '-0.5', '0.5', '0.2', '0.3', True]\n",
      "0.8997, 0.6989, 0.2083, ['-8.0', '-0.5', '0.4', '0.3', '0.3', True]\n",
      "0.9076, 0.6961, 0.2060, ['-8.0', '-0.5', '0.5', '0.3', '0.2', True]\n",
      "0.9117, 0.6948, 0.2159, ['-6.0', '-0.5', '0.5', '0.2', '0.3', True]\n",
      "0.9086, 0.6931, 0.2162, ['-6.0', '-0.5', '0.6', '0.2', '0.2', True]\n",
      "0.9045, 0.6924, 0.1996, ['-6.0', '-0.5', '0.4', '0.2', '0.4', True]\n",
      "0.9095, 0.6888, 0.2099, ['-6.0', '-0.5', '0.5', '0.3', '0.2', True]\n",
      "0.8958, 0.6885, 0.1990, ['-6.0', '-0.5', '0.4', '0.3', '0.3', True]\n",
      "0.9043, 0.6875, 0.1942, ['-6.0', '-0.5', '0.3', '0.3', '0.4', True]\n",
      "aa_3Dn\n",
      "0.8793, 0.6200, 0.1497, ['-6.0', '-0.5', '0.6', True]\n",
      "0.8818, 0.6167, 0.1527, ['-8.0', '-0.5', '0.4', True]\n",
      "0.8760, 0.6147, 0.1564, ['-4.0', '-0.5', '0.6', True]\n"
     ]
    }
   ],
   "source": [
    "best_by_method = {}\n",
    "best_params_by_method = {}\n",
    "results_by_method_dict = {}\n",
    "# Iterate over the results dictionary\n",
    "for key, val in results_dict.items():\n",
    "   # if validity_dict[key]:\n",
    "    first_entry = key[0]  # Extract the first part of the key (e.g., 'MI')\n",
    "    if first_entry not in results_by_method_dict:\n",
    "        results_by_method_dict[first_entry] = []\n",
    "    results_by_method_dict[first_entry].append(list(val) + list(key)[1:] + [validity_dict[key]])  # Collect val[0] for this first entry\n",
    "\n",
    "for key, triples in results_by_method_dict.items():\n",
    "    print(key)\n",
    "    sorted_triples = sorted(triples, key=lambda x: x[1], reverse = True)\n",
    "\n",
    "    # Print each triple with values rounded to the 4th decimal\n",
    "    for triple in sorted_triples:\n",
    "        print(f\"{round(triple[0], 4):.4f}, {round(triple[1], 4):.4f}, {round(triple[2], 4):.4f}, {triple[3:]}\")\n",
    "    best_by_method[key]=tuple(sorted_triples[0][:3])\n",
    "    best_params_by_method[key] = tuple(sorted_triples[0][3:-1])\n"
   ]
  },
  {
   "cell_type": "code",
   "execution_count": 5,
   "id": "2893157a",
   "metadata": {},
   "outputs": [
    {
     "name": "stdout",
     "output_type": "stream",
     "text": [
      "        3Di_3Dn 0.9045, 0.6977, 0.2027\n",
      "     3Di_3Dn_aa 0.9315, 0.7271, 0.2054\n",
      "         aa_3Dn 0.8793, 0.6200, 0.1497\n"
     ]
    }
   ],
   "source": [
    "for key,triple in best_by_method.items():\n",
    "    print(f\"{key:>15} {round(triple[0], 4):.4f}, {round(triple[1], 4):.4f}, {round(triple[2], 4):.4f}\")"
   ]
  },
  {
   "cell_type": "code",
   "execution_count": 6,
   "id": "2d7dec10",
   "metadata": {},
   "outputs": [
    {
     "data": {
      "text/plain": [
       "{'3Di_3Dn': ('-10.0', '-0.5', '0.6'),\n",
       " '3Di_3Dn_aa': ('-2.0', '-0.5', '0.4', '0.2', '0.4'),\n",
       " 'aa_3Dn': ('-6.0', '-0.5', '0.6')}"
      ]
     },
     "execution_count": 6,
     "metadata": {},
     "output_type": "execute_result"
    }
   ],
   "source": [
    "best_params_by_method"
   ]
  },
  {
   "cell_type": "code",
   "execution_count": 7,
   "id": "823f9cb8",
   "metadata": {},
   "outputs": [],
   "source": [
    "# foldseek default\n",
    "best_params_by_method[\"3Di_aa\"] = ('-10.0','-1.0','2.1','1.4')"
   ]
  },
  {
   "cell_type": "markdown",
   "id": "4c44e947",
   "metadata": {},
   "source": [
    "## Write config files"
   ]
  },
  {
   "cell_type": "code",
   "execution_count": 8,
   "id": "114715f3",
   "metadata": {},
   "outputs": [
    {
     "name": "stdout",
     "output_type": "stream",
     "text": [
      "-10.0 -0.5 0.6\n",
      "-6.0 -0.5 0.6\n"
     ]
    }
   ],
   "source": [
    "# for two alphabets\n",
    "name = {}\n",
    "name[\"3Di\"] = \"3Di\"\n",
    "name[\"aa\"] = \"aa\"\n",
    "name[\"3Dn\"] = \"graph_clusters\"\n",
    "\n",
    "data_path = \"/cluster/tufts/pettilab/shared/structure_comparison_data\"\n",
    "ref_path =f\"protein_data/ref_names.csv\"\n",
    "query_list_dir_path = f\"protein_data/test_queries_by_10\"\n",
    "coord_path = \"protein_data/allCACoord.npz\"\n",
    "for alphabet,val in best_params_by_method.items():\n",
    "    if alphabet == \"3Di_3Dn_aa\": continue\n",
    "    a1, a2 = alphabet.split('_')\n",
    "    a1 = name[a1]\n",
    "    a2 = name[a2]\n",
    "    p1 = pickle.load(open(f\"{data_path}/alphabets/{a1}_karlin_params.pkl\", \"rb\"))\n",
    "    p2 = pickle.load(open(f\"{data_path}/alphabets/{a2}_karlin_params.pkl\", \"rb\"))\n",
    "    \n",
    "    if alphabet!= \"3Di_aa\":\n",
    "        go,ge,w1 = val\n",
    "        print(go,ge,w1)\n",
    "        w2=1-float(w1)\n",
    "    else:\n",
    "        go,ge,w1, w2 = val\n",
    "    path_to_config = f\"test_search_combos/{alphabet}_{go}_{ge}_{w1}_config\"\n",
    "    with open(path_to_config, 'w') as file:\n",
    "        file.write(f\"data_path: {data_path}\" + '\\n')\n",
    "        file.write(f\"coord_d: {coord_path}\" + '\\n')\n",
    "        file.write(f\"oh_d1: alphabets/{a1}.npz\" +'\\n')\n",
    "        file.write(f\"blosum1: alphabets/{a1}_blosum.npy\" +'\\n')\n",
    "        file.write(f\"oh_d2: alphabets/{a2}.npz\" +'\\n')\n",
    "        file.write(f\"blosum2: alphabets/{a2}_blosum.npy\" +'\\n')\n",
    "        file.write(f\"gap_open: {go}\" + '\\n')\n",
    "        file.write(f\"gap_extend: {ge}\" + '\\n')\n",
    "        file.write(f\"w1: {w1}\" + '\\n')\n",
    "        file.write(f\"w2: {w2}\" + '\\n')\n",
    "        file.write(f\"use_two: True\" + '\\n')\n",
    "        file.write(f\"lam: {p1[\"lam\"]}\" + '\\n')\n",
    "        file.write(f\"k: {p1[\"k\"]}\" + '\\n')\n",
    "        file.write(f\"lam2: {p2[\"lam\"]}\" + '\\n')\n",
    "        file.write(f\"k2: {p2[\"k\"]}\" + '\\n')\n",
    "        file.write(f\"refs: {ref_path}\"+ '\\n')\n",
    "        file.write(f\"query_list_dir: {query_list_dir_path}\"+ '\\n') "
   ]
  },
  {
   "cell_type": "code",
   "execution_count": 9,
   "id": "d5c73fa0",
   "metadata": {},
   "outputs": [],
   "source": [
    "# for three alphabets\n",
    "ref_path =f\"protein_data/ref_names.csv\"\n",
    "query_list_dir_path = f\"protein_data/test_queries_by_10\"\n",
    "coord_path = \"protein_data/allCACoord.npz\"\n",
    "alphabet = \"3Di_3Dn_aa\"\n",
    "a1, a2, a3 = alphabet.split('_')\n",
    "a1 = name[a1]\n",
    "a2 = name[a2]\n",
    "a3 = name[a3]\n",
    "p1 = pickle.load(open(f\"{data_path}/alphabets/{a1}_karlin_params.pkl\", \"rb\"))\n",
    "p2 = pickle.load(open(f\"{data_path}/alphabets/{a2}_karlin_params.pkl\", \"rb\"))\n",
    "p3 = pickle.load(open(f\"{data_path}/alphabets/{a3}_karlin_params.pkl\", \"rb\"))\n",
    "\n",
    "go,ge,w1,w2,w3 = best_params_by_method[alphabet]\n",
    "path_to_config = f\"test_search_combos/{alphabet}_{go}_{ge}_{w1}_{w2}_{w3}_config\"\n",
    "with open(path_to_config, 'w') as file:\n",
    "    file.write(f\"data_path: {data_path}\" + '\\n')\n",
    "    file.write(f\"coord_d: {coord_path}\" + '\\n')\n",
    "    file.write(f\"oh_d1: alphabets/{a1}.npz\" +'\\n')\n",
    "    file.write(f\"blosum1: alphabets/{a1}_blosum.npy\" +'\\n')\n",
    "    file.write(f\"oh_d2: alphabets/{a2}.npz\" +'\\n')\n",
    "    file.write(f\"blosum2: alphabets/{a2}_blosum.npy\" +'\\n')\n",
    "    file.write(f\"oh_d3: alphabets/{a3}.npz\" +'\\n')\n",
    "    file.write(f\"blosum3: alphabets/{a3}_blosum.npy\" +'\\n')\n",
    "    file.write(f\"gap_open: {go}\" + '\\n')\n",
    "    file.write(f\"gap_extend: {ge}\" + '\\n')\n",
    "    file.write(f\"w1: {w1}\" + '\\n')\n",
    "    file.write(f\"w2: {w2}\" + '\\n')\n",
    "    file.write(f\"w3: {w3}\" + '\\n')\n",
    "    file.write(f\"use_three: True\" + '\\n')\n",
    "    file.write(f\"lam: {p1[\"lam\"]}\" + '\\n')\n",
    "    file.write(f\"k: {p1[\"k\"]}\" + '\\n')\n",
    "    file.write(f\"lam2: {p2[\"lam\"]}\" + '\\n')\n",
    "    file.write(f\"k2: {p2[\"k\"]}\" + '\\n')\n",
    "    file.write(f\"lam3: {p3[\"lam\"]}\" + '\\n')\n",
    "    file.write(f\"k3: {p3[\"k\"]}\" + '\\n')\n",
    "    file.write(f\"refs: {ref_path}\"+ '\\n')\n",
    "    file.write(f\"query_list_dir: {query_list_dir_path}\"+ '\\n') "
   ]
  },
  {
   "cell_type": "code",
   "execution_count": null,
   "id": "f643b978",
   "metadata": {},
   "outputs": [],
   "source": []
  },
  {
   "cell_type": "code",
   "execution_count": null,
   "id": "d9d7b7d8",
   "metadata": {},
   "outputs": [],
   "source": []
  }
 ],
 "metadata": {
  "kernelspec": {
   "display_name": "jax3",
   "language": "python",
   "name": "jax3"
  },
  "language_info": {
   "codemirror_mode": {
    "name": "ipython",
    "version": 3
   },
   "file_extension": ".py",
   "mimetype": "text/x-python",
   "name": "python",
   "nbconvert_exporter": "python",
   "pygments_lexer": "ipython3",
   "version": "3.12.7"
  }
 },
 "nbformat": 4,
 "nbformat_minor": 5
}
