{
 "cells": [
  {
   "cell_type": "code",
   "execution_count": 12,
   "id": "6575b363",
   "metadata": {},
   "outputs": [],
   "source": [
    "import numpy as np\n",
    "from matplotlib import pyplot as plt\n",
    "import re\n",
    "import os\n",
    "import seaborn as sns\n",
    "import pickle"
   ]
  },
  {
   "cell_type": "code",
   "execution_count": 13,
   "id": "a1808e09",
   "metadata": {},
   "outputs": [],
   "source": [
    "data_path = \"/cluster/tufts/pettilab/shared/structure_comparison_data\"\n",
    "alphabet_dir = f\"{data_path}/alphabets_blosum_coordinates/VQVAEs\"\n"
   ]
  },
  {
   "cell_type": "code",
   "execution_count": 14,
   "id": "15ef1c2c",
   "metadata": {},
   "outputs": [],
   "source": [
    "# Dictionary to store n values as keys and lists of spearman values as values\n",
    "spearman_dict = {}\n",
    "mlddt_dict ={}  \n",
    "# Regular expression to extract n from filenames of the form DIMn_si_params.pkl\n",
    "pattern = re.compile(r\"DIM(\\d+)_s\\d+_params.pkl\")\n",
    "\n",
    "# Iterate over all files in the directory\n",
    "for filename in os.listdir(alphabet_dir):\n",
    "    if filename.endswith(\"_params.pkl\"):\n",
    "        # Extract the 'n' value from the filename using regex\n",
    "        match = pattern.match(filename)\n",
    "        if match:\n",
    "            n_value = int(match.group(1))  # Extracted n as an integer\n",
    "            file_path = os.path.join(alphabet_dir, filename)\n",
    "            \n",
    "            # Load the dictionary from the .pkl file\n",
    "            with open(file_path, 'rb') as f:\n",
    "                data = pickle.load(f)\n",
    "            \n",
    "            # Get the 'spearman' value from the dictionary\n",
    "            spearman_value = data.get(\"spearman\")\n",
    "            # If the n_value is already a key, append the spearman to the list; otherwise, create a new list\n",
    "            if n_value in spearman_dict:\n",
    "                spearman_dict[n_value].append(spearman_value)\n",
    "            else:\n",
    "                spearman_dict[n_value] = [spearman_value]\n",
    "                \n",
    "            # Get the mean value from the dictionary\n",
    "            mlddt_value = data.get('mean_lddt')\n",
    "            # If the n_value is already a key, append the spearman to the list; otherwise, create a new list\n",
    "            if n_value in mlddt_dict:\n",
    "                mlddt_dict[n_value].append(mlddt_value)\n",
    "            else:\n",
    "                mlddt_dict[n_value] = [mlddt_value]"
   ]
  },
  {
   "cell_type": "code",
   "execution_count": 15,
   "id": "30e1f173",
   "metadata": {},
   "outputs": [
    {
     "data": {
      "text/plain": [
       "{'open-extend': (-8, -2.5),\n",
       " 'lam': 0.3133305311203003,\n",
       " 'k': 0.27614858267733705,\n",
       " 'spearman': 0.8739464461422152,\n",
       " 'mean_lddt': 0.4162152308546603}"
      ]
     },
     "execution_count": 15,
     "metadata": {},
     "output_type": "execute_result"
    }
   ],
   "source": [
    "data"
   ]
  },
  {
   "cell_type": "code",
   "execution_count": 16,
   "id": "4811feeb",
   "metadata": {},
   "outputs": [
    {
     "data": {
      "text/plain": [
       "{128: [0.8733742298891972,\n",
       "  0.865028694891853,\n",
       "  0.8726460199287601,\n",
       "  0.8603984372469821],\n",
       " 20: [0.8537225645015899,\n",
       "  0.864259066929891,\n",
       "  0.8562771147879558,\n",
       "  0.8579331817461452],\n",
       " 256: [0.8387180508056956,\n",
       "  0.8628312492341058,\n",
       "  0.835918576256576,\n",
       "  0.8478852455970767],\n",
       " 32: [0.8682546424389325,\n",
       "  0.8540872334398077,\n",
       "  0.8632890297275267,\n",
       "  0.8545033434604632],\n",
       " 64: [0.8649355317123713,\n",
       "  0.8616383479130307,\n",
       "  0.8627408946361778,\n",
       "  0.8739464461422152]}"
      ]
     },
     "execution_count": 16,
     "metadata": {},
     "output_type": "execute_result"
    }
   ],
   "source": [
    "spearman_dict"
   ]
  },
  {
   "cell_type": "code",
   "execution_count": 17,
   "id": "ffaa9323",
   "metadata": {},
   "outputs": [
    {
     "data": {
      "text/plain": [
       "{128: [0.41228892682088586,\n",
       "  0.3867486613488888,\n",
       "  0.403575074253651,\n",
       "  0.3877973104259057],\n",
       " 20: [0.4242965603604674,\n",
       "  0.42979366446952205,\n",
       "  0.42146405171219115,\n",
       "  0.40014540196386783],\n",
       " 256: [0.3992310444385001,\n",
       "  0.38302248216450685,\n",
       "  0.3812459060962708,\n",
       "  0.37508700372282144],\n",
       " 32: [0.41411127834098715,\n",
       "  0.41862116105851815,\n",
       "  0.4180273698268633,\n",
       "  0.40904768257376956],\n",
       " 64: [0.4151015341247548,\n",
       "  0.4098222616605774,\n",
       "  0.4214333709240741,\n",
       "  0.4162152308546603]}"
      ]
     },
     "execution_count": 17,
     "metadata": {},
     "output_type": "execute_result"
    }
   ],
   "source": [
    "mlddt_dict"
   ]
  },
  {
   "cell_type": "code",
   "execution_count": 21,
   "id": "34961d75",
   "metadata": {},
   "outputs": [],
   "source": [
    "\n",
    "def plot_spearman_distribution(spearman_dict):\n",
    "    # Prepare data for plotting\n",
    "    data = []\n",
    "    labels = []\n",
    "    \n",
    "    for n_value, spearman_values in sorted(spearman_dict.items()):\n",
    "        data.append(spearman_values)  # Add the list of spearman values\n",
    "        labels.append(n_value)        # Add the corresponding n value\n",
    "    \n",
    "    # Create the figure and axis\n",
    "    plt.figure(figsize=(10, 6))\n",
    "    \n",
    "    # Create the boxplot (box and whiskers plot)\n",
    "    sns.boxplot(data=data)\n",
    "    \n",
    "    # Set the x-axis labels to the n values\n",
    "    plt.xticks(ticks=range(len(labels)), labels=labels)\n",
    "    \n",
    "    # Add horizontal lines at y=0.933 (3Di) and y=0.950 (blurry)\n",
    "    plt.axhline(y=0.933, color='red', linestyle='--', label=\"3Di\")\n",
    "    plt.axhline(y=0.950, color='blue', linestyle='--', label=\"blurry\")\n",
    "    \n",
    "    # Add labels for the lines\n",
    "    plt.text(len(labels) - 1, 0.933, '3Di', color='red', va='bottom', ha='right', fontsize=10)\n",
    "    plt.text(len(labels) - 1, 0.950, 'blurry', color='blue', va='bottom', ha='right', fontsize=10)\n",
    "    \n",
    "    # Add labels and title\n",
    "    plt.xlabel(\"n values\")\n",
    "    plt.ylabel(\"Spearman values\")\n",
    "    plt.title(\"Distribution of Spearman Values for Each n\")\n",
    "    \n",
    "    # Show the plot with tight layout\n",
    "    plt.tight_layout()\n",
    "    plt.show()"
   ]
  },
  {
   "cell_type": "code",
   "execution_count": 22,
   "id": "6a405bfd",
   "metadata": {},
   "outputs": [
    {
     "data": {
      "image/png": "[encoded data removed]",
      "text/plain": [
       "<Figure size 720x432 with 1 Axes>"
      ]
     },
     "metadata": {
      "needs_background": "light"
     },
     "output_type": "display_data"
    }
   ],
   "source": [
    "plot_spearman_distribution(spearman_dict)"
   ]
  },
  {
   "cell_type": "code",
   "execution_count": 20,
   "id": "4af8081a",
   "metadata": {},
   "outputs": [
    {
     "data": {
      "image/png": "[encoded data removed]",
      "text/plain": [
       "<Figure size 720x432 with 1 Axes>"
      ]
     },
     "metadata": {
      "needs_background": "light"
     },
     "output_type": "display_data"
    }
   ],
   "source": [
    "plot_spearman_distribution(mlddt_dict)"
   ]
  },
  {
   "cell_type": "code",
   "execution_count": null,
   "id": "7d69d6cb",
   "metadata": {},
   "outputs": [],
   "source": []
  }
 ],
 "metadata": {
  "kernelspec": {
   "display_name": "Python 3",
   "language": "python",
   "name": "python3"
  },
  "language_info": {
   "codemirror_mode": {
    "name": "ipython",
    "version": 3
   },
   "file_extension": ".py",
   "mimetype": "text/x-python",
   "name": "python",
   "nbconvert_exporter": "python",
   "pygments_lexer": "ipython3",
   "version": "3.8.8"
  }
 },
 "nbformat": 4,
 "nbformat_minor": 5
}
