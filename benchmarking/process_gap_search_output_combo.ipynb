{
 "cells": [
  {
   "cell_type": "code",
   "execution_count": 1,
   "id": "e943bab0",
   "metadata": {},
   "outputs": [],
   "source": [
    "import numpy as np\n",
    "import jax\n",
    "import jax.numpy as jnp\n",
    "from jax import lax\n",
    "import argparse\n",
    "import sys\n",
    "import os\n",
    "import csv\n",
    "import matplotlib.pyplot as plt\n",
    "import seaborn as sns\n",
    "import pickle\n",
    "import scipy.stats as ss\n",
    "from utils import *"
   ]
  },
  {
   "cell_type": "code",
   "execution_count": 2,
   "id": "84eadcaa",
   "metadata": {},
   "outputs": [
    {
     "data": {
      "text/plain": [
       "[CudaDevice(id=0)]"
      ]
     },
     "execution_count": 2,
     "metadata": {},
     "output_type": "execute_result"
    }
   ],
   "source": [
    "jax.devices()"
   ]
  },
  {
   "cell_type": "markdown",
   "id": "15e32107",
   "metadata": {},
   "source": [
    "# Load data to get given lddt list in right order"
   ]
  },
  {
   "cell_type": "code",
   "execution_count": 3,
   "id": "b565455a",
   "metadata": {},
   "outputs": [],
   "source": [
    "data_path = \"/cluster/tufts/pettilab/shared/structure_comparison_data\""
   ]
  },
  {
   "cell_type": "code",
   "execution_count": 4,
   "id": "c7af7937",
   "metadata": {},
   "outputs": [],
   "source": [
    "val_aln_path = f\"{data_path}/protein_data/given_validation_alignments.npz\"\n",
    "coord_path = f\"{data_path}/protein_data/allCACoord.npz\"\n",
    "given_lddt_path = f\"{data_path}/protein_data/pairs_validation_lddts.csv\"\n",
    "\n",
    "\n",
    "nh_path = f\"{data_path}/blurry_vec/nHot.npz\"\n",
    "tmat_path = f\"{data_path}/blurry_vec/transition_mtx.npy\"\n",
    "jbl_path = f\"{data_path}/blurry_vec/jaccard_blosum_int.npy\""
   ]
  },
  {
   "cell_type": "markdown",
   "id": "c2eec1ad",
   "metadata": {},
   "source": [
    "## check that databases have same keys and same length sequences"
   ]
  },
  {
   "cell_type": "code",
   "execution_count": 5,
   "id": "23e33125",
   "metadata": {},
   "outputs": [],
   "source": [
    "#hot_d; protien_name: L by alphabet size or num bins + 1; encode sequence in alphabet or nhots\n",
    "#coord_d; protein_name: L by 3; encodes 3D coordinates"
   ]
  },
  {
   "cell_type": "code",
   "execution_count": 6,
   "id": "22009c12",
   "metadata": {},
   "outputs": [
    {
     "name": "stdout",
     "output_type": "stream",
     "text": [
      "in hot_d but not coord_d:\n",
      "set()\n",
      "in coord_d but not hot_d:\n",
      "{'d1o7d.2', 'd1o7d.3'}\n"
     ]
    }
   ],
   "source": [
    "coord_d = np.load(coord_path)\n",
    "oh_d = np.load(nh_path)\n",
    "bad_list = check_keys_and_lengths(oh_d, coord_d)"
   ]
  },
  {
   "cell_type": "code",
   "execution_count": 7,
   "id": "2fd98253",
   "metadata": {},
   "outputs": [],
   "source": [
    "n2l_d = make_name_to_length_d(coord_d)"
   ]
  },
  {
   "cell_type": "code",
   "execution_count": 8,
   "id": "6b5524b4",
   "metadata": {},
   "outputs": [
    {
     "name": "stdout",
     "output_type": "stream",
     "text": [
      "['d1o7d.2', 'd1o7d.3', 'd1e25a_']\n"
     ]
    }
   ],
   "source": [
    "bad_list.append('d1e25a_')\n",
    "print(bad_list)"
   ]
  },
  {
   "cell_type": "code",
   "execution_count": 9,
   "id": "e851f53c",
   "metadata": {},
   "outputs": [
    {
     "name": "stdout",
     "output_type": "stream",
     "text": [
      "1518\n",
      "all keys match\n"
     ]
    },
    {
     "data": {
      "text/plain": [
       "[]"
      ]
     },
     "execution_count": 9,
     "metadata": {},
     "output_type": "execute_result"
    }
   ],
   "source": [
    "# load in validation pairs, their alignments and lddt of them (precomputed in organize_val_and_train)\n",
    "val_aln_d = dict(np.load(val_aln_path))\n",
    "val_aln_d_new = {}\n",
    "for key, val in val_aln_d.items():\n",
    "    val_aln_d_new[tuple(key.split(','))] = val\n",
    "\n",
    "val_aln_d = val_aln_d_new\n",
    "val_aln_d_new = {}\n",
    "given_lddt_d = {}\n",
    "\n",
    "# Open the CSV file for reading\n",
    "with open(given_lddt_path, mode='r') as file:\n",
    "    reader = csv.reader(file)\n",
    "    for row in reader:\n",
    "        a, b, value = row[0], row[1], float(row[2])  # Convert value to float\n",
    "        given_lddt_d[(a, b)] = value\n",
    "        \n",
    "print(len(given_lddt_d.keys()))\n",
    "check_keys(given_lddt_d, val_aln_d)"
   ]
  },
  {
   "cell_type": "code",
   "execution_count": 10,
   "id": "55750284",
   "metadata": {},
   "outputs": [],
   "source": [
    "for key in val_aln_d.keys():\n",
    "    if key[0] in bad_list or key[1] in bad_list:\n",
    "        raise ValueError(f\"pair {key} is bad and should not be used\")"
   ]
  },
  {
   "cell_type": "markdown",
   "id": "d5f617e8",
   "metadata": {},
   "source": [
    "## Sort for better batching"
   ]
  },
  {
   "cell_type": "code",
   "execution_count": 11,
   "id": "8f822c26",
   "metadata": {},
   "outputs": [],
   "source": [
    "# sort pairs by length of longer protein\n",
    "pair_list = sorted(list(val_aln_d.keys())) \n",
    "pair_max_length_pairs = [(pair, max(n2l_d[pair[0]], n2l_d[pair[1]])) for pair in pair_list]\n",
    "sorted_keys = sorted(pair_max_length_pairs, key=lambda x: (x[1],x[0][0],x[0][1]))\n",
    "sorted_pairs = [key for key, shape in sorted_keys]\n",
    "pairs = sorted_pairs\n",
    "given_lddt_list = [given_lddt_d[pair] for pair in pairs]"
   ]
  },
  {
   "cell_type": "markdown",
   "id": "b7b996c0",
   "metadata": {},
   "source": [
    "## Plot results"
   ]
  },
  {
   "cell_type": "code",
   "execution_count": 12,
   "id": "59d12d7f",
   "metadata": {},
   "outputs": [],
   "source": [
    "def plot(lddt_d, mode = \"mean\"):# Example dictionary (replace this with your actual data)\n",
    "    data_dict = lddt_d\n",
    "\n",
    "    # Get all unique x (o) and y (e) values\n",
    "    x_values = sorted(set(o for o, e in data_dict.keys()))\n",
    "    y_values = sorted(set(e for o, e in data_dict.keys()))\n",
    "\n",
    "    # Create an empty 2D array to store the median values\n",
    "    grid = np.zeros((len(y_values), len(x_values)))\n",
    "\n",
    "    # Fill the grid with the median of the lists\n",
    "   \n",
    "    for (o, e), values in data_dict.items():\n",
    "        if mode == \"mean\":\n",
    "            val = np.mean(values)\n",
    "        elif mode == \"median\":\n",
    "            val = np.median(values)\n",
    "        elif mode == \"spearman_lddt\":\n",
    "            val =  ss.spearmanr(values, given_lddt_list).correlation\n",
    "        elif mode == \"spearman_tm\":\n",
    "            val =  ss.spearmanr(values, tm_list).correlation\n",
    "        elif mode == \"geo_mean\":\n",
    "            val=(ss.spearmanr(values, given_lddt_list).correlation*np.mean(values))**(1/2.0)\n",
    "        x_idx = x_values.index(o)\n",
    "        y_idx = y_values.index(e)\n",
    "        grid[y_idx, x_idx] = val\n",
    "    # Create the heatmap\n",
    "    plt.figure(figsize=(5, 3))\n",
    "    sns.heatmap(grid, xticklabels=x_values, yticklabels=y_values, cmap='Blues', annot=True,annot_kws={\"size\": 8})\n",
    "\n",
    "    # Add labels and title\n",
    "    plt.xlabel('o values (x-axis)')\n",
    "    plt.ylabel('e values (y-axis)')\n",
    "    plt.title(f'{mode} heatmap')\n",
    "\n",
    "    # Show the plot\n",
    "    plt.show()"
   ]
  },
  {
   "cell_type": "code",
   "execution_count": 13,
   "id": "5a4d8acf",
   "metadata": {},
   "outputs": [],
   "source": [
    "def get_max_key_by_spearman(your_dict):\n",
    "    return max(your_dict, key=lambda key: ss.spearmanr(your_dict[key], given_lddt_list).correlation)\n",
    "def get_max_key_by_mean(your_dict):\n",
    "    return max(your_dict, key=lambda key: np.mean(your_dict[key]))\n",
    "def get_max_key_by_median(your_dict):\n",
    "    return max(your_dict, key=lambda key: np.median(your_dict[key]))"
   ]
  },
  {
   "cell_type": "code",
   "execution_count": 14,
   "id": "ce26b463",
   "metadata": {},
   "outputs": [],
   "source": [
    "data_path = \"/cluster/tufts/pettilab/shared/structure_comparison_data\"\n",
    "\n",
    "lddt_d_d ={}\n",
    "for alphabet in [\"3Di_3Dn_aa\",\"3Di_3Dn\",\"aa_3Dn\"]:\n",
    "#for alphabet in [\"3Di\",  \"graph_clusters\",  \"MI\"]:\n",
    "    lddt_d_d[alphabet] = pickle.load(open(f\"{data_path}/alphabets/{alphabet}_lddt_grid.pkl\", \"rb\"))"
   ]
  },
  {
   "cell_type": "code",
   "execution_count": 15,
   "id": "f6d8252e",
   "metadata": {},
   "outputs": [
    {
     "name": "stdout",
     "output_type": "stream",
     "text": [
      "3Di_3Dn_aa      0.9545 0.5642 (0.3, 0.0, 0.1) (0.2, 0.1, 0.1)\n",
      "3Di_3Dn         0.9508 0.5601 0.6 0.6\n",
      "aa_3Dn          0.9080 0.5224 0.6 0.6\n"
     ]
    }
   ],
   "source": [
    "for alphabet in lddt_d_d.keys():\n",
    "    lddt_d=lddt_d_d[alphabet]\n",
    "    options = list(lddt_d.keys())\n",
    "    m_key=get_max_key_by_mean(lddt_d)\n",
    "    s_key = get_max_key_by_spearman(lddt_d)\n",
    "    s = ss.spearmanr(lddt_d[s_key], given_lddt_list).correlation\n",
    "    m = np.mean(lddt_d[m_key])\n",
    "    #ns = len(get_pairs_to_search(m_key,s_key, options))\n",
    "    print(f\"{alphabet:<15} {s:.4f} {m:.4f} {s_key[-1]} {m_key[-1]}\")    "
   ]
  },
  {
   "cell_type": "code",
   "execution_count": 16,
   "id": "55916908",
   "metadata": {
    "scrolled": false
   },
   "outputs": [
    {
     "name": "stdout",
     "output_type": "stream",
     "text": [
      "3Di_3Dn_aa      0.9545 0.5642 (0.3, 0.0, 0.1) (0.2, 0.1, 0.1)\n",
      "3Di_3Dn_aa      0.9515 0.5469 (0.1, 0.0, 0.3) \n",
      "3Di_3Dn_aa      0.9432 0.5626 (0.1, 0.1, 0.2) \n",
      "3Di_3Dn_aa      0.9501 0.5630 (0.2, 0.0, 0.2) \n",
      "3Di_3Dn_aa      0.9539 0.5607 (0.2, 0.0, 0.2) \n",
      "3Di_3Dn_aa      0.9522 0.5446 (0.2, 0.0, 0.2) \n",
      "3Di_3Dn_aa      0.9464 0.5633 (0.2, 0.1, 0.1) \n",
      "3Di_3Dn_aa      0.9493 0.5642 (0.2, 0.1, 0.1) \n",
      "3Di_3Dn_aa      0.9518 0.5604 (0.2, 0.1, 0.1) \n",
      "3Di_3Dn_aa      0.9495 0.5625 (0.3, 0.0, 0.1) \n",
      "3Di_3Dn_aa      0.9519 0.5624 (0.3, 0.0, 0.1) \n",
      "3Di_3Dn_aa      0.9545 0.5590 (0.3, 0.0, 0.1) \n",
      "3Di_3Dn_aa      0.9451 0.5615 (0.3, 0.1, 0.0) \n",
      "3Di_3Dn_aa      0.9481 0.5634 (0.3, 0.1, 0.0) \n",
      "3Di_3Dn_aa      0.9507 0.5626 (0.3, 0.1, 0.0) \n",
      "3Di_3Dn_aa      0.9514 0.5572 (0.3, 0.1, 0.0) \n",
      "3Di_3Dn_aa      0.9501 0.5614 (0.4, 0.0, 0.0) \n",
      "3Di_3Dn_aa      0.9526 0.5595 (0.4, 0.0, 0.0) \n",
      "3Di_3Dn_aa      0.9525 0.5523 (0.4, 0.0, 0.0) \n",
      "3Di_3Dn         0.9508 0.5601 0.6 0.6\n",
      "3Di_3Dn         0.9436 0.5592 0.6 \n",
      "3Di_3Dn         0.9462 0.5601 0.6 \n",
      "3Di_3Dn         0.9488 0.5594 0.6 \n",
      "3Di_3Dn         0.9508 0.5563 0.6 \n",
      "3Di_3Dn         0.9466 0.5465 0.6 \n",
      "3Di_3Dn         0.9439 0.5589 0.7 \n",
      "3Di_3Dn         0.9476 0.5599 0.7 \n",
      "3Di_3Dn         0.9488 0.5583 0.7 \n",
      "3Di_3Dn         0.9498 0.5544 0.7 \n",
      "aa_3Dn          0.9080 0.5224 0.6 0.6\n",
      "aa_3Dn          0.8974 0.5204 0.4 \n",
      "aa_3Dn          0.9003 0.5224 0.6 \n",
      "aa_3Dn          0.9080 0.5182 0.6 \n",
      "aa_3Dn          0.9056 0.4968 0.6 \n",
      "aa_3Dn          0.9059 0.5182 0.7 \n",
      "aa_3Dn          0.9052 0.4914 0.7 \n"
     ]
    }
   ],
   "source": [
    "for alphabet in lddt_d_d.keys():\n",
    "    lddt_d=lddt_d_d[alphabet]\n",
    "    options = list(lddt_d.keys())\n",
    "    m_key=get_max_key_by_mean(lddt_d)\n",
    "    s_key = get_max_key_by_spearman(lddt_d)\n",
    "    s = ss.spearmanr(lddt_d[s_key], given_lddt_list).correlation\n",
    "    m = np.mean(lddt_d[m_key])\n",
    "    #ns = len(get_pairs_to_search(m_key,s_key, options))\n",
    "    print(f\"{alphabet:<15} {s:.4f} {m:.4f} {s_key[-1]} {m_key[-1]}\")  \n",
    "    for key,ls in lddt_d.items():\n",
    "        sp=ss.spearmanr(ls, given_lddt_list).correlation\n",
    "        mp=np.mean(ls)\n",
    "        if sp>.995*s or mp>.995*m:\n",
    "            print(f\"{alphabet:<15} {sp:.4f} {mp:.4f} {key[-1]} \") "
   ]
  },
  {
   "cell_type": "markdown",
   "id": "940628af",
   "metadata": {},
   "source": [
    "## Decide what grid to use"
   ]
  },
  {
   "cell_type": "code",
   "execution_count": 17,
   "id": "e3b53c31",
   "metadata": {},
   "outputs": [],
   "source": [
    "def get_pairs_to_search(p1, p2, options):\n",
    "    a,b = p1\n",
    "    c,d = p2\n",
    "    # Get the min and max for ranges\n",
    "    x_min, x_max = min(a, c), max(a, c)\n",
    "    y_min, y_max = min(b, d), max(b, d)\n",
    "\n",
    "    # Filter pairs that satisfy the constraints\n",
    "    return [(x, y) for x,y in options if x_min <= x <= x_max and y_min <= y <= y_max]"
   ]
  },
  {
   "cell_type": "markdown",
   "id": "3dd57948",
   "metadata": {},
   "source": [
    "### 3Di-3Dn"
   ]
  },
  {
   "cell_type": "code",
   "execution_count": 18,
   "id": "76fd7835",
   "metadata": {},
   "outputs": [],
   "source": [
    "# will grid search 3Di_3Dn at .6 only"
   ]
  },
  {
   "cell_type": "code",
   "execution_count": 19,
   "id": "1b75de54",
   "metadata": {},
   "outputs": [
    {
     "name": "stdout",
     "output_type": "stream",
     "text": [
      "(np.int64(-6), np.float64(-0.5), 0.6) (np.int64(-10), np.float64(-0.5), 0.6)\n",
      "3Di_3Dn         0.9508 0.5601 3\n"
     ]
    }
   ],
   "source": [
    "oew_params = {}\n",
    "alphabet=\"3Di_3Dn\"    \n",
    "lddt_d=lddt_d_d[alphabet]\n",
    "options = list(set([_[:-1] for _ in lddt_d.keys()]))\n",
    "m_key=get_max_key_by_mean(lddt_d)\n",
    "s_key = get_max_key_by_spearman(lddt_d)\n",
    "s = ss.spearmanr(lddt_d[s_key], given_lddt_list).correlation\n",
    "print(s_key, m_key)\n",
    "m = np.mean(lddt_d[m_key])\n",
    "params = [(float(k[0]),float(k[1]), 0.6) for k in get_pairs_to_search(m_key[:-1],s_key[:-1], options)]\n",
    "ns = len(params)\n",
    "oew_params[alphabet] = params\n",
    "print(f\"{alphabet:<15} {s:.4f} {m:.4f} {ns}\")    \n"
   ]
  },
  {
   "cell_type": "markdown",
   "id": "9217be33",
   "metadata": {},
   "source": [
    "### aa-3Dn "
   ]
  },
  {
   "cell_type": "code",
   "execution_count": 20,
   "id": "6b43e6a8",
   "metadata": {},
   "outputs": [],
   "source": [
    "# will grid search at .4 and .6"
   ]
  },
  {
   "cell_type": "code",
   "execution_count": 21,
   "id": "b33223b4",
   "metadata": {},
   "outputs": [
    {
     "name": "stdout",
     "output_type": "stream",
     "text": [
      "(np.int64(-4), np.float64(-0.5), 0.6) (np.int64(-6), np.float64(-0.5), 0.6)\n",
      "aa_3Dn          0.9080 0.5224 2\n"
     ]
    }
   ],
   "source": [
    "alphabet=\"aa_3Dn\"    \n",
    "lddt_d=lddt_d_d[alphabet]\n",
    "options = list(set([_[:-1] for _ in lddt_d.keys()]))\n",
    "m_key=get_max_key_by_mean(lddt_d)\n",
    "s_key = get_max_key_by_spearman(lddt_d)\n",
    "s = ss.spearmanr(lddt_d[s_key], given_lddt_list).correlation\n",
    "print(s_key, m_key)\n",
    "m = np.mean(lddt_d[m_key])\n",
    "params = [(float(k[0]),float(k[1]), 0.6) for k in get_pairs_to_search(m_key[:-1],s_key[:-1], options)]\n",
    "ns = len(params)\n",
    "oew_params[alphabet] = params\n",
    "print(f\"{alphabet:<15} {s:.4f} {m:.4f} {ns}\")    "
   ]
  },
  {
   "cell_type": "code",
   "execution_count": 22,
   "id": "f6975b58",
   "metadata": {},
   "outputs": [
    {
     "name": "stdout",
     "output_type": "stream",
     "text": [
      "aa_3Dn          0.9080 0.5224 0.6 0.6\n",
      "aa_3Dn          0.8974 0.5204 (np.int64(-8), np.float64(-0.5), 0.4) \n",
      "aa_3Dn          0.9003 0.5224 (np.int64(-6), np.float64(-0.5), 0.6) \n",
      "aa_3Dn          0.9080 0.5182 (np.int64(-4), np.float64(-0.5), 0.6) \n",
      "aa_3Dn          0.9056 0.4968 (np.int64(-2), np.float64(-1.0), 0.6) \n",
      "aa_3Dn          0.9059 0.5182 (np.int64(-4), np.float64(-0.5), 0.7) \n",
      "aa_3Dn          0.9052 0.4914 (np.int64(-2), np.float64(-0.5), 0.7) \n"
     ]
    }
   ],
   "source": [
    "lddt_d=lddt_d_d[alphabet]\n",
    "options = list(lddt_d.keys())\n",
    "m_key=get_max_key_by_mean(lddt_d)\n",
    "s_key = get_max_key_by_spearman(lddt_d)\n",
    "s = ss.spearmanr(lddt_d[s_key], given_lddt_list).correlation\n",
    "m = np.mean(lddt_d[m_key])\n",
    "#ns = len(get_pairs_to_search(m_key,s_key, options))\n",
    "print(f\"{alphabet:<15} {s:.4f} {m:.4f} {s_key[-1]} {m_key[-1]}\")  \n",
    "for key,ls in lddt_d.items():\n",
    "    sp=ss.spearmanr(ls, given_lddt_list).correlation\n",
    "    mp=np.mean(ls)\n",
    "    if sp>.995*s or mp>.995*m:\n",
    "        print(f\"{alphabet:<15} {sp:.4f} {mp:.4f} {key} \")\n",
    "        if key[-1]==0.4:\n",
    "            oew_params[alphabet].append((float(key[0]),float(key[1]), 0.4))\n"
   ]
  },
  {
   "cell_type": "code",
   "execution_count": 23,
   "id": "6aa5134d",
   "metadata": {},
   "outputs": [
    {
     "data": {
      "text/plain": [
       "{'3Di_3Dn': [(-10.0, -0.5, 0.6), (-6.0, -0.5, 0.6), (-8.0, -0.5, 0.6)],\n",
       " 'aa_3Dn': [(-6.0, -0.5, 0.6), (-4.0, -0.5, 0.6), (-8.0, -0.5, 0.4)]}"
      ]
     },
     "execution_count": 23,
     "metadata": {},
     "output_type": "execute_result"
    }
   ],
   "source": [
    "oew_params"
   ]
  },
  {
   "cell_type": "markdown",
   "id": "a69db998",
   "metadata": {},
   "source": [
    "### 3Di 3Dn aa"
   ]
  },
  {
   "cell_type": "code",
   "execution_count": 24,
   "id": "801f46fa",
   "metadata": {},
   "outputs": [],
   "source": [
    "# will benchmark anything within top .997 of top spearman and top lddt"
   ]
  },
  {
   "cell_type": "code",
   "execution_count": 25,
   "id": "4aa0f50b",
   "metadata": {},
   "outputs": [
    {
     "name": "stdout",
     "output_type": "stream",
     "text": [
      "3Di_3Dn_aa      0.9545 0.5642 (0.3, 0.0, 0.1) (0.2, 0.1, 0.1)\n",
      "3Di_3Dn_aa      0.9432 0.5626 -6 -0.5 (0.1, 0.1, 0.2) \n",
      "3Di_3Dn_aa      0.9501 0.5630 -6 -0.5 (0.2, 0.0, 0.2) \n",
      "3Di_3Dn_aa      0.9539 0.5607 -4 -0.5 (0.2, 0.0, 0.2) \n",
      "3Di_3Dn_aa      0.9522 0.5446 -2 -0.5 (0.2, 0.0, 0.2) \n",
      "3Di_3Dn_aa      0.9464 0.5633 -8 -0.5 (0.2, 0.1, 0.1) \n",
      "3Di_3Dn_aa      0.9493 0.5642 -6 -0.5 (0.2, 0.1, 0.1) \n",
      "3Di_3Dn_aa      0.9518 0.5604 -4 -0.5 (0.2, 0.1, 0.1) \n",
      "3Di_3Dn_aa      0.9519 0.5624 -6 -0.5 (0.3, 0.0, 0.1) \n",
      "3Di_3Dn_aa      0.9545 0.5590 -4 -0.5 (0.3, 0.0, 0.1) \n",
      "3Di_3Dn_aa      0.9481 0.5634 -8 -0.5 (0.3, 0.1, 0.0) \n",
      "3Di_3Dn_aa      0.9507 0.5626 -6 -0.5 (0.3, 0.1, 0.0) \n",
      "3Di_3Dn_aa      0.9526 0.5595 -6 -0.5 (0.4, 0.0, 0.0) \n",
      "3Di_3Dn_aa      0.9525 0.5523 -4 -0.5 (0.4, 0.0, 0.0) \n"
     ]
    }
   ],
   "source": [
    "alphabet = \"3Di_3Dn_aa\"\n",
    "oew_params[alphabet] = []\n",
    "lddt_d=lddt_d_d[alphabet]\n",
    "options = list(lddt_d.keys())\n",
    "m_key=get_max_key_by_mean(lddt_d)\n",
    "s_key = get_max_key_by_spearman(lddt_d)\n",
    "s = ss.spearmanr(lddt_d[s_key], given_lddt_list).correlation\n",
    "m = np.mean(lddt_d[m_key])\n",
    "#ns = len(get_pairs_to_search(m_key,s_key, options))\n",
    "print(f\"{alphabet:<15} {s:.4f} {m:.4f} {s_key[-1]} {m_key[-1]}\")  \n",
    "for key,ls in lddt_d.items():\n",
    "    sp=ss.spearmanr(ls, given_lddt_list).correlation\n",
    "    mp=np.mean(ls)\n",
    "    if sp>.997*s or mp>.997*m:\n",
    "        print(f\"{alphabet:<15} {sp:.4f} {mp:.4f} {key[0]} {key[1]} {key[-1]} \") \n",
    "        oew_params[alphabet].append((float(key[0]),float(key[1]), key[-1]))"
   ]
  },
  {
   "cell_type": "code",
   "execution_count": 26,
   "id": "79aa2291",
   "metadata": {},
   "outputs": [
    {
     "data": {
      "text/plain": [
       "{'3Di_3Dn': [(-10.0, -0.5, 0.6), (-6.0, -0.5, 0.6), (-8.0, -0.5, 0.6)],\n",
       " 'aa_3Dn': [(-6.0, -0.5, 0.6), (-4.0, -0.5, 0.6), (-8.0, -0.5, 0.4)],\n",
       " '3Di_3Dn_aa': [(-6.0, -0.5, (0.1, 0.1, 0.2)),\n",
       "  (-6.0, -0.5, (0.2, 0.0, 0.2)),\n",
       "  (-4.0, -0.5, (0.2, 0.0, 0.2)),\n",
       "  (-2.0, -0.5, (0.2, 0.0, 0.2)),\n",
       "  (-8.0, -0.5, (0.2, 0.1, 0.1)),\n",
       "  (-6.0, -0.5, (0.2, 0.1, 0.1)),\n",
       "  (-4.0, -0.5, (0.2, 0.1, 0.1)),\n",
       "  (-6.0, -0.5, (0.3, 0.0, 0.1)),\n",
       "  (-4.0, -0.5, (0.3, 0.0, 0.1)),\n",
       "  (-8.0, -0.5, (0.3, 0.1, 0.0)),\n",
       "  (-6.0, -0.5, (0.3, 0.1, 0.0)),\n",
       "  (-6.0, -0.5, (0.4, 0.0, 0.0)),\n",
       "  (-4.0, -0.5, (0.4, 0.0, 0.0))]}"
      ]
     },
     "execution_count": 26,
     "metadata": {},
     "output_type": "execute_result"
    }
   ],
   "source": [
    "oew_params"
   ]
  },
  {
   "cell_type": "markdown",
   "id": "a1e91add",
   "metadata": {},
   "source": [
    "## Write config file for each gap/open and extend that we plan to test"
   ]
  },
  {
   "cell_type": "code",
   "execution_count": 31,
   "id": "d74945fb",
   "metadata": {},
   "outputs": [
    {
     "name": "stdout",
     "output_type": "stream",
     "text": [
      "-10.0 -0.5 0.6\n",
      "-6.0 -0.5 0.6\n",
      "-8.0 -0.5 0.6\n",
      "-6.0 -0.5 0.6\n",
      "-4.0 -0.5 0.6\n",
      "-8.0 -0.5 0.4\n"
     ]
    }
   ],
   "source": [
    "# for two alphabets\n",
    "name = {}\n",
    "name[\"3Di\"] = \"3Di\"\n",
    "name[\"aa\"] = \"aa\"\n",
    "name[\"3Dn\"] = \"graph_clusters\"\n",
    "\n",
    "ref_path =f\"protein_data/ref_names_no_test.csv\"\n",
    "query_list_dir_path = f\"protein_data/validation_queries_by_10\"\n",
    "coord_path = \"protein_data/allCACoord.npz\"\n",
    "for alphabet in oew_params.keys():\n",
    "    if alphabet == \"3Di_3Dn_aa\": continue\n",
    "    a1, a2 = alphabet.split('_')\n",
    "    a1 = name[a1]\n",
    "    a2 = name[a2]\n",
    "    p1 = pickle.load(open(f\"{data_path}/alphabets/{a1}_karlin_params.pkl\", \"rb\"))\n",
    "    p2 = pickle.load(open(f\"{data_path}/alphabets/{a2}_karlin_params.pkl\", \"rb\"))\n",
    "    for val in oew_params[alphabet]:\n",
    "        go,ge,w1 = val\n",
    "        print(go,ge,w1)\n",
    "        w2=1-w1\n",
    "        path_to_config = f\"val_search_combos/{alphabet}/{alphabet}_{go}_{ge}_{w1}_config\"\n",
    "        with open(path_to_config, 'w') as file:\n",
    "            file.write(f\"data_path: {data_path}\" + '\\n')\n",
    "            file.write(f\"coord_d: {coord_path}\" + '\\n')\n",
    "            file.write(f\"oh_d1: alphabets/{a1}.npz\" +'\\n')\n",
    "            file.write(f\"blosum1: alphabets/{a1}_blosum.npy\" +'\\n')\n",
    "            file.write(f\"oh_d2: alphabets/{a2}.npz\" +'\\n')\n",
    "            file.write(f\"blosum2: alphabets/{a2}_blosum.npy\" +'\\n')\n",
    "            file.write(f\"gap_open: {go}\" + '\\n')\n",
    "            file.write(f\"gap_extend: {ge}\" + '\\n')\n",
    "            file.write(f\"w1: {w1}\" + '\\n')\n",
    "            file.write(f\"w2: {w2}\" + '\\n')\n",
    "            file.write(f\"use_two: True\" + '\\n')\n",
    "            file.write(f\"lam: {p1[\"lam\"]}\" + '\\n')\n",
    "            file.write(f\"k: {p1[\"k\"]}\" + '\\n')\n",
    "            file.write(f\"lam2: {p2[\"lam\"]}\" + '\\n')\n",
    "            file.write(f\"k2: {p2[\"k\"]}\" + '\\n')\n",
    "            file.write(f\"refs: {ref_path}\"+ '\\n')\n",
    "            file.write(f\"query_list_dir: {query_list_dir_path}\"+ '\\n') "
   ]
  },
  {
   "cell_type": "code",
   "execution_count": 32,
   "id": "61fe8d8b",
   "metadata": {},
   "outputs": [],
   "source": [
    "# for three alphabets\n",
    "ref_path =f\"protein_data/ref_names_no_test.csv\"\n",
    "query_list_dir_path = f\"protein_data/validation_queries_by_10\"\n",
    "coord_path = \"protein_data/allCACoord.npz\"\n",
    "alphabet = \"3Di_3Dn_aa\"\n",
    "a1, a2, a3 = alphabet.split('_')\n",
    "a1 = name[a1]\n",
    "a2 = name[a2]\n",
    "a3 = name[a3]\n",
    "p1 = pickle.load(open(f\"{data_path}/alphabets/{a1}_karlin_params.pkl\", \"rb\"))\n",
    "p2 = pickle.load(open(f\"{data_path}/alphabets/{a2}_karlin_params.pkl\", \"rb\"))\n",
    "p3 = pickle.load(open(f\"{data_path}/alphabets/{a3}_karlin_params.pkl\", \"rb\"))\n",
    "\n",
    "for val in oew_params[alphabet]:\n",
    "    go,ge,ws = val\n",
    "    w1 = .2+ws[0]\n",
    "    w2 = .2+ws[1]\n",
    "    w3 = .2+ws[2]\n",
    "    path_to_config = f\"val_search_combos/{alphabet}/{alphabet}_{go}_{ge}_{w1:.1f}_{w2:.1f}_{w3:.1f}_config\"\n",
    "    with open(path_to_config, 'w') as file:\n",
    "        file.write(f\"data_path: {data_path}\" + '\\n')\n",
    "        file.write(f\"coord_d: {coord_path}\" + '\\n')\n",
    "        file.write(f\"oh_d1: alphabets/{a1}.npz\" +'\\n')\n",
    "        file.write(f\"blosum1: alphabets/{a1}_blosum.npy\" +'\\n')\n",
    "        file.write(f\"oh_d2: alphabets/{a2}.npz\" +'\\n')\n",
    "        file.write(f\"blosum2: alphabets/{a2}_blosum.npy\" +'\\n')\n",
    "        file.write(f\"oh_d3: alphabets/{a3}.npz\" +'\\n')\n",
    "        file.write(f\"blosum3: alphabets/{a3}_blosum.npy\" +'\\n')\n",
    "        file.write(f\"gap_open: {go}\" + '\\n')\n",
    "        file.write(f\"gap_extend: {ge}\" + '\\n')\n",
    "        file.write(f\"w1: {w1}\" + '\\n')\n",
    "        file.write(f\"w2: {w2}\" + '\\n')\n",
    "        file.write(f\"w3: {w3}\" + '\\n')\n",
    "        file.write(f\"use_three: True\" + '\\n')\n",
    "        file.write(f\"lam: {p1[\"lam\"]}\" + '\\n')\n",
    "        file.write(f\"k: {p1[\"k\"]}\" + '\\n')\n",
    "        file.write(f\"lam2: {p2[\"lam\"]}\" + '\\n')\n",
    "        file.write(f\"k2: {p2[\"k\"]}\" + '\\n')\n",
    "        file.write(f\"lam3: {p3[\"lam\"]}\" + '\\n')\n",
    "        file.write(f\"k3: {p3[\"k\"]}\" + '\\n')\n",
    "        file.write(f\"refs: {ref_path}\"+ '\\n')\n",
    "        file.write(f\"query_list_dir: {query_list_dir_path}\"+ '\\n') "
   ]
  },
  {
   "cell_type": "code",
   "execution_count": null,
   "id": "6756e22b",
   "metadata": {},
   "outputs": [],
   "source": []
  }
 ],
 "metadata": {
  "kernelspec": {
   "display_name": "jax3",
   "language": "python",
   "name": "jax3"
  },
  "language_info": {
   "codemirror_mode": {
    "name": "ipython",
    "version": 3
   },
   "file_extension": ".py",
   "mimetype": "text/x-python",
   "name": "python",
   "nbconvert_exporter": "python",
   "pygments_lexer": "ipython3",
   "version": "3.12.7"
  }
 },
 "nbformat": 4,
 "nbformat_minor": 5
}
