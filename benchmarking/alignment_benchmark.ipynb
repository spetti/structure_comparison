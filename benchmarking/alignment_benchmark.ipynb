{
 "cells": [
  {
   "cell_type": "code",
   "execution_count": 2,
   "id": "e943bab0",
   "metadata": {},
   "outputs": [],
   "source": [
    "import numpy as np\n",
    "import jax\n",
    "import jax.numpy as jnp\n",
    "from jax import lax\n",
    "import argparse\n",
    "import sys\n",
    "import os\n",
    "import csv\n",
    "import matplotlib.pyplot as plt\n",
    "import seaborn as sns\n",
    "from utils import *"
   ]
  },
  {
   "cell_type": "markdown",
   "id": "15e32107",
   "metadata": {},
   "source": [
    "## Load data"
   ]
  },
  {
   "cell_type": "code",
   "execution_count": 3,
   "id": "b565455a",
   "metadata": {},
   "outputs": [],
   "source": [
    "data = \"/cluster/tufts/pettilab/shared/structure_comparison_data\""
   ]
  },
  {
   "cell_type": "code",
   "execution_count": 4,
   "id": "c7af7937",
   "metadata": {},
   "outputs": [],
   "source": [
    "pairs_path = f\"{data}/train_test_val/pairs_validation.csv\"\n",
    "coord_path = f\"{data}/alphabets_blosum_coordinates/allCACoord.npz\"\n",
    "oh_path = f\"{data}/alphabets_blosum_coordinates/nH_oh.npz\"\n",
    "blosum_path = f\"{data}/alphabets_blosum_coordinates/nH_mat.npy\"\n",
    "#oh2_path = f\"{data}/alphabets_blosum_coordinates/3Di.npz\"\n",
    "#blosum2_path = f\"{data}/alphabets_blosum_coordinates/mat3di.npy\""
   ]
  },
  {
   "cell_type": "code",
   "execution_count": 5,
   "id": "88e6cb36",
   "metadata": {},
   "outputs": [],
   "source": [
    "coord_d = np.load(coord_path)\n",
    "oh_d = np.load(oh_path)\n",
    "blosum = np.load(blosum_path)[:-1,:-1].astype(float)\n",
    "#oh_d2 = np.load(oh2_path)\n",
    "#blosum2 = np.load(blosum2_path)[:-1,:-1].astype(float)"
   ]
  },
  {
   "cell_type": "code",
   "execution_count": 6,
   "id": "19da0188",
   "metadata": {},
   "outputs": [
    {
     "name": "stdout",
     "output_type": "stream",
     "text": [
      "2900\n"
     ]
    }
   ],
   "source": [
    "pairs = []\n",
    "with open(pairs_path, mode='r') as file:\n",
    "    csv_reader = csv.reader(file)\n",
    "    for row in csv_reader:\n",
    "        #print(row)\n",
    "        pairs.append((row[1],row[2]))\n",
    "pairs = pairs[1:]\n",
    "print(len(pairs))"
   ]
  },
  {
   "cell_type": "markdown",
   "id": "d5f617e8",
   "metadata": {},
   "source": [
    "## Sort for better batching"
   ]
  },
  {
   "cell_type": "code",
   "execution_count": 7,
   "id": "d4d3b7e2",
   "metadata": {},
   "outputs": [],
   "source": [
    "# how long is each protein\n",
    "name_to_length_d ={}\n",
    "for key in oh_d.keys():\n",
    "    name_to_length_d[key]= oh_d[key].shape[0]"
   ]
  },
  {
   "cell_type": "code",
   "execution_count": 8,
   "id": "68b5975f",
   "metadata": {},
   "outputs": [],
   "source": [
    "# check that lengths are the same\n",
    "if False:\n",
    "    name_to_length_d2 ={}\n",
    "    for key in oh_d2.keys():\n",
    "        name_to_length_d2[key]= oh_d2[key].shape[0]\n",
    "\n",
    "    for key in name_to_length_d.keys():\n",
    "        if key in bad_list:\n",
    "            continue\n",
    "        if name_to_length_d[key]!=name_to_length_d2[key]:\n",
    "            print(\"ISSUE\")\n",
    "            print(key)\n",
    "            print(name_to_length_d[key],name_to_length_d2[key])\n",
    "            bad_list.append(key)"
   ]
  },
  {
   "cell_type": "code",
   "execution_count": 9,
   "id": "8f822c26",
   "metadata": {},
   "outputs": [],
   "source": [
    "# sort pairs by length of longer protein\n",
    "pair_max_length_pairs = [(pair, max(name_to_length_d[pair[0]], name_to_length_d[pair[1]])) for pair in pairs]\n",
    "sorted_keys = sorted(pair_max_length_pairs, key=lambda x: x[1])\n",
    "sorted_pairs = [key for key, shape in sorted_keys]\n",
    "pairs = sorted_pairs"
   ]
  },
  {
   "cell_type": "markdown",
   "id": "670ca4e7",
   "metadata": {},
   "source": [
    "## Run alignment benchmark"
   ]
  },
  {
   "cell_type": "code",
   "execution_count": 10,
   "id": "36ea6e08",
   "metadata": {},
   "outputs": [],
   "source": [
    "def run_in_batches(long_list, batch_size, params):\n",
    "    result = []\n",
    "    for i in range(0, len(long_list), batch_size):\n",
    "        batch = long_list[i:i + batch_size]  # Get the current batch\n",
    "        result.extend(run_batch(batch, params))   # Process and extend results\n",
    "        print(f\"finished batch {i}\")\n",
    "    return result\n",
    "\n",
    "def run_batch(pairs, params):\n",
    "\n",
    "     # compute max length of any protein\n",
    "    names=[item for tup in pairs for item in tup]\n",
    "    max_len = max([name_to_length_d[name] for name in names])\n",
    "    pad_to = int(jnp.where(max_len < 1, 1, 2 ** jnp.ceil(jnp.log2(max_len))))\n",
    "    print(pad_to)\n",
    "\n",
    "\n",
    "    # get oh and coords for left and right part of pairs, padded\n",
    "    lefts, left_lengths = pad_and_stack_manual([oh_d[pair[0]] for pair in pairs],pad_to = pad_to)\n",
    "    rights, right_lengths = pad_and_stack_manual([oh_d[pair[1]] for pair in pairs], pad_to = pad_to)\n",
    "    \n",
    "    if params[\"use_two\"]:\n",
    "        lefts2, _ = pad_and_stack_manual([oh_d2[pair[0]] for pair in pairs],pad_to = pad_to)\n",
    "        rights2, _ = pad_and_stack_manual([oh_d2[pair[1]] for pair in pairs], pad_to = pad_to)\n",
    "\n",
    "    left_coords, _ = pad_and_stack_manual([coord_d[pair[0]] for pair in pairs],pad_to = pad_to)\n",
    "    right_coords, _ = pad_and_stack_manual([coord_d[pair[1]] for pair in pairs], pad_to = pad_to)\n",
    "\n",
    "    # make similarity matrices\n",
    "    sim_tensor = vv_sim_mtx(lefts, rights, blosum)\n",
    "    if params[\"use_two\"]:\n",
    "        sim_tensor *= params[\"w1\"]\n",
    "        sim_tensor += params[\"w2\"]*vv_sim_mtx(lefts2, rights2, blosum2)\n",
    "\n",
    "    # align (gap, open, temp)\n",
    "    length_pairs = jnp.column_stack([left_lengths, right_lengths])\n",
    "    aln_tensor = v_aln_w_sw(sim_tensor, length_pairs, params[\"gap_extend\"], params[\"gap_open\"],params[\"temp\"])\n",
    "\n",
    "    # compute lddts \n",
    "    lddts = vv_lddt(left_coords, right_coords, aln_tensor, jnp.sum((aln_tensor>0.95).astype(int), axis = [-2,-1]), jnp.array(left_lengths))\n",
    "\n",
    "    return lddts"
   ]
  },
  {
   "cell_type": "code",
   "execution_count": 11,
   "id": "e8bde46c",
   "metadata": {},
   "outputs": [],
   "source": [
    "params = {}\n",
    "params[\"gap_extend\"] = -1.0\n",
    "params[\"gap_open\"] = -10.0\n",
    "params[\"temp\"] = 0.01\n",
    "params[\"use_two\"]= False\n",
    "params[\"w1\"] =0.5\n",
    "params[\"w2\"] =0.5"
   ]
  },
  {
   "cell_type": "code",
   "execution_count": null,
   "id": "3761de52",
   "metadata": {},
   "outputs": [
    {
     "name": "stderr",
     "output_type": "stream",
     "text": [
      "WARNING:absl:No GPU/TPU found, falling back to CPU. (Set TF_CPP_MIN_LOG_LEVEL=0 and rerun for more info.)\n"
     ]
    },
    {
     "name": "stdout",
     "output_type": "stream",
     "text": [
      "128\n",
      "finished batch 0\n",
      "256\n",
      "finished batch 50\n",
      "256\n",
      "finished batch 100\n",
      "256\n",
      "finished batch 150\n",
      "256\n",
      "finished batch 200\n",
      "256\n",
      "finished batch 250\n",
      "256\n",
      "finished batch 300\n",
      "256\n",
      "finished batch 350\n",
      "256\n",
      "finished batch 400\n",
      "256\n",
      "finished batch 450\n",
      "256\n",
      "finished batch 500\n",
      "256\n",
      "finished batch 550\n",
      "256\n",
      "finished batch 600\n",
      "256\n",
      "finished batch 650\n",
      "256\n",
      "finished batch 700\n",
      "256\n",
      "finished batch 750\n",
      "256\n",
      "finished batch 800\n",
      "256\n",
      "finished batch 850\n",
      "256\n",
      "finished batch 900\n",
      "256\n",
      "finished batch 950\n",
      "256\n",
      "finished batch 1000\n",
      "256\n",
      "finished batch 1050\n",
      "512\n",
      "finished batch 1100\n",
      "512\n",
      "finished batch 1150\n",
      "512\n",
      "finished batch 1200\n",
      "512\n",
      "finished batch 1250\n",
      "512\n",
      "finished batch 1300\n",
      "512\n",
      "finished batch 1350\n",
      "512\n",
      "finished batch 1400\n",
      "512\n",
      "finished batch 1450\n",
      "512\n",
      "finished batch 1500\n",
      "512\n",
      "finished batch 1550\n",
      "512\n",
      "finished batch 1600\n",
      "512\n",
      "finished batch 1650\n",
      "512\n",
      "finished batch 1700\n",
      "512\n",
      "finished batch 1750\n",
      "512\n",
      "finished batch 1800\n",
      "512\n",
      "finished batch 1850\n",
      "512\n",
      "finished batch 1900\n",
      "512\n",
      "finished batch 1950\n",
      "512\n",
      "finished batch 2000\n",
      "512\n",
      "finished batch 2050\n",
      "512\n",
      "finished batch 2100\n",
      "512\n",
      "finished batch 2150\n",
      "512\n",
      "finished batch 2200\n",
      "512\n",
      "finished batch 2250\n",
      "512\n",
      "finished batch 2300\n",
      "512\n",
      "finished batch 2350\n",
      "512\n",
      "finished batch 2400\n",
      "512\n",
      "finished batch 2450\n",
      "512\n",
      "finished batch 2500\n",
      "512\n",
      "finished batch 2550\n",
      "512\n",
      "finished batch 2600\n",
      "512\n",
      "finished batch 2650\n",
      "512\n",
      "finished batch 2700\n",
      "512\n",
      "finished batch 2750\n",
      "512\n",
      "finished batch 2800\n",
      "1024\n"
     ]
    }
   ],
   "source": [
    "%%time\n",
    "# faster with batch size 200 if you have sufficient memory for it\n",
    "lddts=run_in_batches(pairs, 50, params)"
   ]
  },
  {
   "cell_type": "markdown",
   "id": "261574ee",
   "metadata": {},
   "source": [
    "## Mini-grid search "
   ]
  },
  {
   "cell_type": "code",
   "execution_count": null,
   "id": "59d12d7f",
   "metadata": {},
   "outputs": [],
   "source": [
    "def plot(lddt_d):# Example dictionary (replace this with your actual data)\n",
    "    data_dict = lddt_d\n",
    "\n",
    "    # Get all unique x (o) and y (e) values\n",
    "    x_values = sorted(set(o for o, e in data_dict.keys()))\n",
    "    y_values = sorted(set(e for o, e in data_dict.keys()))\n",
    "\n",
    "    # Create an empty 2D array to store the median values\n",
    "    grid = np.zeros((len(y_values), len(x_values)))\n",
    "\n",
    "    # Fill the grid with the median of the lists\n",
    "    for (o, e), values in data_dict.items():\n",
    "        median_value = np.mean(values)\n",
    "        x_idx = x_values.index(o)\n",
    "        y_idx = y_values.index(e)\n",
    "        grid[y_idx, x_idx] = median_value\n",
    "\n",
    "    # Create the heatmap\n",
    "    plt.figure(figsize=(8, 6))\n",
    "    sns.heatmap(grid, xticklabels=x_values, yticklabels=y_values, cmap='coolwarm', annot=True)\n",
    "\n",
    "    # Add labels and title\n",
    "    plt.xlabel('o values (x-axis)')\n",
    "    plt.ylabel('e values (y-axis)')\n",
    "    plt.title('Mean Value Heatmap')\n",
    "\n",
    "    # Show the plot\n",
    "    plt.show()"
   ]
  },
  {
   "cell_type": "markdown",
   "id": "d84e5dbe",
   "metadata": {},
   "source": [
    "### Just n-hot"
   ]
  },
  {
   "cell_type": "code",
   "execution_count": null,
   "id": "1163212b",
   "metadata": {
    "scrolled": true
   },
   "outputs": [],
   "source": [
    "%%time\n",
    "lddt_d = {}\n",
    "open_choices = [-15.0,-10.0,-5.0, -1.0]\n",
    "extend_choices =[-1.0,-2.0,-3.0]\n",
    "\n",
    "params = {}\n",
    "params[\"temp\"] = 0.01\n",
    "params[\"use_two\"]= False\n",
    "params[\"w1\"] =0.0\n",
    "params[\"w2\"] =0.0\n",
    "\n",
    "for o in open_choices:\n",
    "    for e in extend_choices:\n",
    "        params[\"gap_extend\"] = e\n",
    "        params[\"gap_open\"] = o\n",
    "        lddt_d[(o,e)] = run_in_batches(pairs, 100, params)\n"
   ]
  },
  {
   "cell_type": "code",
   "execution_count": null,
   "id": "69671795",
   "metadata": {},
   "outputs": [],
   "source": [
    "plot(lddt_d)"
   ]
  },
  {
   "cell_type": "code",
   "execution_count": 14,
   "id": "53725473",
   "metadata": {},
   "outputs": [],
   "source": [
    "#to do with spearman correlation with the lddts from the dali alignments and with TM scores"
   ]
  },
  {
   "cell_type": "markdown",
   "id": "f1b829e4",
   "metadata": {},
   "source": [
    "### 3di and nhot with equal weights (in progress)"
   ]
  },
  {
   "cell_type": "code",
   "execution_count": 15,
   "id": "1ffb688f",
   "metadata": {},
   "outputs": [
    {
     "name": "stdout",
     "output_type": "stream",
     "text": [
      "256\n"
     ]
    },
    {
     "ename": "ValueError",
     "evalue": "index can't contain negative values",
     "output_type": "error",
     "traceback": [
      "\u001b[0;31m---------------------------------------------------------------------------\u001b[0m",
      "\u001b[0;31mValueError\u001b[0m                                Traceback (most recent call last)",
      "\u001b[0;32m<timed exec>\u001b[0m in \u001b[0;36m<module>\u001b[0;34m\u001b[0m\n",
      "\u001b[0;32m<ipython-input-7-6422642c9056>\u001b[0m in \u001b[0;36mrun_in_batches\u001b[0;34m(long_list, batch_size, params)\u001b[0m\n\u001b[1;32m      3\u001b[0m     \u001b[0;32mfor\u001b[0m \u001b[0mi\u001b[0m \u001b[0;32min\u001b[0m \u001b[0mrange\u001b[0m\u001b[0;34m(\u001b[0m\u001b[0;36m0\u001b[0m\u001b[0;34m,\u001b[0m \u001b[0mlen\u001b[0m\u001b[0;34m(\u001b[0m\u001b[0mlong_list\u001b[0m\u001b[0;34m)\u001b[0m\u001b[0;34m,\u001b[0m \u001b[0mbatch_size\u001b[0m\u001b[0;34m)\u001b[0m\u001b[0;34m:\u001b[0m\u001b[0;34m\u001b[0m\u001b[0;34m\u001b[0m\u001b[0m\n\u001b[1;32m      4\u001b[0m         \u001b[0mbatch\u001b[0m \u001b[0;34m=\u001b[0m \u001b[0mlong_list\u001b[0m\u001b[0;34m[\u001b[0m\u001b[0mi\u001b[0m\u001b[0;34m:\u001b[0m\u001b[0mi\u001b[0m \u001b[0;34m+\u001b[0m \u001b[0mbatch_size\u001b[0m\u001b[0;34m]\u001b[0m  \u001b[0;31m# Get the current batch\u001b[0m\u001b[0;34m\u001b[0m\u001b[0;34m\u001b[0m\u001b[0m\n\u001b[0;32m----> 5\u001b[0;31m         \u001b[0mresult\u001b[0m\u001b[0;34m.\u001b[0m\u001b[0mextend\u001b[0m\u001b[0;34m(\u001b[0m\u001b[0mrun_batch\u001b[0m\u001b[0;34m(\u001b[0m\u001b[0mbatch\u001b[0m\u001b[0;34m,\u001b[0m \u001b[0mparams\u001b[0m\u001b[0;34m)\u001b[0m\u001b[0;34m)\u001b[0m   \u001b[0;31m# Process and extend results\u001b[0m\u001b[0;34m\u001b[0m\u001b[0;34m\u001b[0m\u001b[0m\n\u001b[0m\u001b[1;32m      6\u001b[0m         \u001b[0mprint\u001b[0m\u001b[0;34m(\u001b[0m\u001b[0;34mf\"finished batch {i}\"\u001b[0m\u001b[0;34m)\u001b[0m\u001b[0;34m\u001b[0m\u001b[0;34m\u001b[0m\u001b[0m\n\u001b[1;32m      7\u001b[0m     \u001b[0;32mreturn\u001b[0m \u001b[0mresult\u001b[0m\u001b[0;34m\u001b[0m\u001b[0;34m\u001b[0m\u001b[0m\n",
      "\u001b[0;32m<ipython-input-7-6422642c9056>\u001b[0m in \u001b[0;36mrun_batch\u001b[0;34m(pairs, params)\u001b[0m\n\u001b[1;32m     21\u001b[0m \u001b[0;34m\u001b[0m\u001b[0m\n\u001b[1;32m     22\u001b[0m     \u001b[0;32mif\u001b[0m \u001b[0mparams\u001b[0m\u001b[0;34m[\u001b[0m\u001b[0;34m\"use_two\"\u001b[0m\u001b[0;34m]\u001b[0m\u001b[0;34m:\u001b[0m\u001b[0;34m\u001b[0m\u001b[0;34m\u001b[0m\u001b[0m\n\u001b[0;32m---> 23\u001b[0;31m         \u001b[0mlefts2\u001b[0m\u001b[0;34m,\u001b[0m \u001b[0m_\u001b[0m \u001b[0;34m=\u001b[0m \u001b[0mpad_and_stack_manual\u001b[0m\u001b[0;34m(\u001b[0m\u001b[0;34m[\u001b[0m\u001b[0moh_d2\u001b[0m\u001b[0;34m[\u001b[0m\u001b[0mpair\u001b[0m\u001b[0;34m[\u001b[0m\u001b[0;36m0\u001b[0m\u001b[0;34m]\u001b[0m\u001b[0;34m]\u001b[0m \u001b[0;32mfor\u001b[0m \u001b[0mpair\u001b[0m \u001b[0;32min\u001b[0m \u001b[0mpairs\u001b[0m\u001b[0;34m]\u001b[0m\u001b[0;34m,\u001b[0m\u001b[0mpad_to\u001b[0m \u001b[0;34m=\u001b[0m \u001b[0mpad_to\u001b[0m\u001b[0;34m)\u001b[0m\u001b[0;34m\u001b[0m\u001b[0;34m\u001b[0m\u001b[0m\n\u001b[0m\u001b[1;32m     24\u001b[0m         \u001b[0mrights2\u001b[0m\u001b[0;34m,\u001b[0m \u001b[0m_\u001b[0m \u001b[0;34m=\u001b[0m \u001b[0mpad_and_stack_manual\u001b[0m\u001b[0;34m(\u001b[0m\u001b[0;34m[\u001b[0m\u001b[0moh_d2\u001b[0m\u001b[0;34m[\u001b[0m\u001b[0mpair\u001b[0m\u001b[0;34m[\u001b[0m\u001b[0;36m1\u001b[0m\u001b[0;34m]\u001b[0m\u001b[0;34m]\u001b[0m \u001b[0;32mfor\u001b[0m \u001b[0mpair\u001b[0m \u001b[0;32min\u001b[0m \u001b[0mpairs\u001b[0m\u001b[0;34m]\u001b[0m\u001b[0;34m,\u001b[0m \u001b[0mpad_to\u001b[0m \u001b[0;34m=\u001b[0m \u001b[0mpad_to\u001b[0m\u001b[0;34m)\u001b[0m\u001b[0;34m\u001b[0m\u001b[0;34m\u001b[0m\u001b[0m\n\u001b[1;32m     25\u001b[0m \u001b[0;34m\u001b[0m\u001b[0m\n",
      "\u001b[0;32m/cluster/tufts/pettilab/spetti04/structure_comparison/benchmarking/utils.py\u001b[0m in \u001b[0;36mpad_and_stack_manual\u001b[0;34m(matrices, pad_to, pad_value)\u001b[0m\n\u001b[1;32m     43\u001b[0m \u001b[0;34m\u001b[0m\u001b[0m\n\u001b[1;32m     44\u001b[0m     \u001b[0;31m# Pad each matrix to have the same first dimension length (max_len)\u001b[0m\u001b[0;34m\u001b[0m\u001b[0;34m\u001b[0m\u001b[0;34m\u001b[0m\u001b[0m\n\u001b[0;32m---> 45\u001b[0;31m     padded_matrices = [\n\u001b[0m\u001b[1;32m     46\u001b[0m         \u001b[0mjnp\u001b[0m\u001b[0;34m.\u001b[0m\u001b[0mpad\u001b[0m\u001b[0;34m(\u001b[0m\u001b[0mmatrix\u001b[0m\u001b[0;34m,\u001b[0m \u001b[0;34m(\u001b[0m\u001b[0;34m(\u001b[0m\u001b[0;36m0\u001b[0m\u001b[0;34m,\u001b[0m \u001b[0mpad_to\u001b[0m \u001b[0;34m-\u001b[0m \u001b[0mmatrix\u001b[0m\u001b[0;34m.\u001b[0m\u001b[0mshape\u001b[0m\u001b[0;34m[\u001b[0m\u001b[0;36m0\u001b[0m\u001b[0;34m]\u001b[0m\u001b[0;34m)\u001b[0m\u001b[0;34m,\u001b[0m \u001b[0;34m(\u001b[0m\u001b[0;36m0\u001b[0m\u001b[0;34m,\u001b[0m \u001b[0;36m0\u001b[0m\u001b[0;34m)\u001b[0m\u001b[0;34m)\u001b[0m\u001b[0;34m,\u001b[0m \u001b[0mconstant_values\u001b[0m\u001b[0;34m=\u001b[0m\u001b[0mpad_value\u001b[0m\u001b[0;34m)\u001b[0m\u001b[0;34m\u001b[0m\u001b[0;34m\u001b[0m\u001b[0m\n\u001b[1;32m     47\u001b[0m         \u001b[0;32mfor\u001b[0m \u001b[0mmatrix\u001b[0m \u001b[0;32min\u001b[0m \u001b[0mmatrices\u001b[0m\u001b[0;34m\u001b[0m\u001b[0;34m\u001b[0m\u001b[0m\n",
      "\u001b[0;32m/cluster/tufts/pettilab/spetti04/structure_comparison/benchmarking/utils.py\u001b[0m in \u001b[0;36m<listcomp>\u001b[0;34m(.0)\u001b[0m\n\u001b[1;32m     44\u001b[0m     \u001b[0;31m# Pad each matrix to have the same first dimension length (max_len)\u001b[0m\u001b[0;34m\u001b[0m\u001b[0;34m\u001b[0m\u001b[0;34m\u001b[0m\u001b[0m\n\u001b[1;32m     45\u001b[0m     padded_matrices = [\n\u001b[0;32m---> 46\u001b[0;31m         \u001b[0mjnp\u001b[0m\u001b[0;34m.\u001b[0m\u001b[0mpad\u001b[0m\u001b[0;34m(\u001b[0m\u001b[0mmatrix\u001b[0m\u001b[0;34m,\u001b[0m \u001b[0;34m(\u001b[0m\u001b[0;34m(\u001b[0m\u001b[0;36m0\u001b[0m\u001b[0;34m,\u001b[0m \u001b[0mpad_to\u001b[0m \u001b[0;34m-\u001b[0m \u001b[0mmatrix\u001b[0m\u001b[0;34m.\u001b[0m\u001b[0mshape\u001b[0m\u001b[0;34m[\u001b[0m\u001b[0;36m0\u001b[0m\u001b[0;34m]\u001b[0m\u001b[0;34m)\u001b[0m\u001b[0;34m,\u001b[0m \u001b[0;34m(\u001b[0m\u001b[0;36m0\u001b[0m\u001b[0;34m,\u001b[0m \u001b[0;36m0\u001b[0m\u001b[0;34m)\u001b[0m\u001b[0;34m)\u001b[0m\u001b[0;34m,\u001b[0m \u001b[0mconstant_values\u001b[0m\u001b[0;34m=\u001b[0m\u001b[0mpad_value\u001b[0m\u001b[0;34m)\u001b[0m\u001b[0;34m\u001b[0m\u001b[0;34m\u001b[0m\u001b[0m\n\u001b[0m\u001b[1;32m     47\u001b[0m         \u001b[0;32mfor\u001b[0m \u001b[0mmatrix\u001b[0m \u001b[0;32min\u001b[0m \u001b[0mmatrices\u001b[0m\u001b[0;34m\u001b[0m\u001b[0;34m\u001b[0m\u001b[0m\n\u001b[1;32m     48\u001b[0m     ]\n",
      "\u001b[0;32m/cluster/tufts/hpc/tools/anaconda/202105/lib/python3.8/site-packages/jax/_src/numpy/lax_numpy.py\u001b[0m in \u001b[0;36mpad\u001b[0;34m(array, pad_width, mode, **kwargs)\u001b[0m\n\u001b[1;32m   3324\u001b[0m   \u001b[0mreflect_type\u001b[0m \u001b[0;34m=\u001b[0m \u001b[0mkwargs\u001b[0m\u001b[0;34m.\u001b[0m\u001b[0mget\u001b[0m\u001b[0;34m(\u001b[0m\u001b[0;34m'reflect_type'\u001b[0m\u001b[0;34m,\u001b[0m \u001b[0;34m\"even\"\u001b[0m\u001b[0;34m)\u001b[0m\u001b[0;34m\u001b[0m\u001b[0;34m\u001b[0m\u001b[0m\n\u001b[1;32m   3325\u001b[0m \u001b[0;34m\u001b[0m\u001b[0m\n\u001b[0;32m-> 3326\u001b[0;31m   \u001b[0;32mreturn\u001b[0m \u001b[0m_pad\u001b[0m\u001b[0;34m(\u001b[0m\u001b[0marray\u001b[0m\u001b[0;34m,\u001b[0m \u001b[0mpad_width\u001b[0m\u001b[0;34m,\u001b[0m \u001b[0mmode\u001b[0m\u001b[0;34m,\u001b[0m \u001b[0mconstant_values\u001b[0m\u001b[0;34m,\u001b[0m \u001b[0mstat_length\u001b[0m\u001b[0;34m,\u001b[0m \u001b[0mend_values\u001b[0m\u001b[0;34m,\u001b[0m \u001b[0mreflect_type\u001b[0m\u001b[0;34m)\u001b[0m\u001b[0;34m\u001b[0m\u001b[0;34m\u001b[0m\u001b[0m\n\u001b[0m\u001b[1;32m   3327\u001b[0m \u001b[0;34m\u001b[0m\u001b[0m\n\u001b[1;32m   3328\u001b[0m \u001b[0;34m\u001b[0m\u001b[0m\n",
      "    \u001b[0;31m[... skipping hidden 13 frame]\u001b[0m\n",
      "\u001b[0;32m/cluster/tufts/hpc/tools/anaconda/202105/lib/python3.8/site-packages/jax/_src/numpy/lax_numpy.py\u001b[0m in \u001b[0;36m_pad\u001b[0;34m(array, pad_width, mode, constant_values, stat_length, end_values, reflect_type)\u001b[0m\n\u001b[1;32m   3254\u001b[0m \u001b[0;34m\u001b[0m\u001b[0m\n\u001b[1;32m   3255\u001b[0m   \u001b[0;32mif\u001b[0m \u001b[0mnp\u001b[0m\u001b[0;34m.\u001b[0m\u001b[0many\u001b[0m\u001b[0;34m(\u001b[0m\u001b[0mpad_width\u001b[0m \u001b[0;34m<\u001b[0m \u001b[0;36m0\u001b[0m\u001b[0;34m)\u001b[0m\u001b[0;34m:\u001b[0m\u001b[0;34m\u001b[0m\u001b[0;34m\u001b[0m\u001b[0m\n\u001b[0;32m-> 3256\u001b[0;31m     \u001b[0;32mraise\u001b[0m \u001b[0mValueError\u001b[0m\u001b[0;34m(\u001b[0m\u001b[0;34m\"index can't contain negative values\"\u001b[0m\u001b[0;34m)\u001b[0m\u001b[0;34m\u001b[0m\u001b[0;34m\u001b[0m\u001b[0m\n\u001b[0m\u001b[1;32m   3257\u001b[0m \u001b[0;34m\u001b[0m\u001b[0m\n\u001b[1;32m   3258\u001b[0m   \u001b[0;32mif\u001b[0m \u001b[0mmode\u001b[0m \u001b[0;34m==\u001b[0m \u001b[0;34m\"constant\"\u001b[0m\u001b[0;34m:\u001b[0m\u001b[0;34m\u001b[0m\u001b[0;34m\u001b[0m\u001b[0m\n",
      "\u001b[0;31mValueError\u001b[0m: index can't contain negative values"
     ]
    }
   ],
   "source": [
    "%%time\n",
    "lddt_d = {}\n",
    "open_choices = [-15.0,-10.0,-5.0, -1.0]\n",
    "extend_choices =[-1.0,-2.0,-3.0]\n",
    "\n",
    "params = {}\n",
    "params[\"temp\"] = 0.01\n",
    "params[\"use_two\"]= True\n",
    "params[\"w1\"] = 1.0\n",
    "params[\"w2\"] = 1.0\n",
    "\n",
    "for o in open_choices:\n",
    "    for e in extend_choices:\n",
    "        params[\"gap_extend\"] = e\n",
    "        params[\"gap_open\"] = o\n",
    "        lddt_d[(o,e)] = run_in_batches(pairs, 200, params)"
   ]
  },
  {
   "cell_type": "code",
   "execution_count": 16,
   "id": "79fb061b",
   "metadata": {},
   "outputs": [
    {
     "ename": "ValueError",
     "evalue": "zero-size array to reduction operation fmin which has no identity",
     "output_type": "error",
     "traceback": [
      "\u001b[0;31m---------------------------------------------------------------------------\u001b[0m",
      "\u001b[0;31mValueError\u001b[0m                                Traceback (most recent call last)",
      "\u001b[0;32m<ipython-input-16-c9aebe290a0e>\u001b[0m in \u001b[0;36m<module>\u001b[0;34m\u001b[0m\n\u001b[0;32m----> 1\u001b[0;31m \u001b[0mplot\u001b[0m\u001b[0;34m(\u001b[0m\u001b[0mlddt_d\u001b[0m\u001b[0;34m)\u001b[0m\u001b[0;34m\u001b[0m\u001b[0;34m\u001b[0m\u001b[0m\n\u001b[0m",
      "\u001b[0;32m<ipython-input-11-c8e069942603>\u001b[0m in \u001b[0;36mplot\u001b[0;34m(lddt_d)\u001b[0m\n\u001b[1;32m     18\u001b[0m     \u001b[0;31m# Create the heatmap\u001b[0m\u001b[0;34m\u001b[0m\u001b[0;34m\u001b[0m\u001b[0;34m\u001b[0m\u001b[0m\n\u001b[1;32m     19\u001b[0m     \u001b[0mplt\u001b[0m\u001b[0;34m.\u001b[0m\u001b[0mfigure\u001b[0m\u001b[0;34m(\u001b[0m\u001b[0mfigsize\u001b[0m\u001b[0;34m=\u001b[0m\u001b[0;34m(\u001b[0m\u001b[0;36m8\u001b[0m\u001b[0;34m,\u001b[0m \u001b[0;36m6\u001b[0m\u001b[0;34m)\u001b[0m\u001b[0;34m)\u001b[0m\u001b[0;34m\u001b[0m\u001b[0;34m\u001b[0m\u001b[0m\n\u001b[0;32m---> 20\u001b[0;31m     \u001b[0msns\u001b[0m\u001b[0;34m.\u001b[0m\u001b[0mheatmap\u001b[0m\u001b[0;34m(\u001b[0m\u001b[0mgrid\u001b[0m\u001b[0;34m,\u001b[0m \u001b[0mxticklabels\u001b[0m\u001b[0;34m=\u001b[0m\u001b[0mx_values\u001b[0m\u001b[0;34m,\u001b[0m \u001b[0myticklabels\u001b[0m\u001b[0;34m=\u001b[0m\u001b[0my_values\u001b[0m\u001b[0;34m,\u001b[0m \u001b[0mcmap\u001b[0m\u001b[0;34m=\u001b[0m\u001b[0;34m'coolwarm'\u001b[0m\u001b[0;34m,\u001b[0m \u001b[0mannot\u001b[0m\u001b[0;34m=\u001b[0m\u001b[0;32mTrue\u001b[0m\u001b[0;34m)\u001b[0m\u001b[0;34m\u001b[0m\u001b[0;34m\u001b[0m\u001b[0m\n\u001b[0m\u001b[1;32m     21\u001b[0m \u001b[0;34m\u001b[0m\u001b[0m\n\u001b[1;32m     22\u001b[0m     \u001b[0;31m# Add labels and title\u001b[0m\u001b[0;34m\u001b[0m\u001b[0;34m\u001b[0m\u001b[0;34m\u001b[0m\u001b[0m\n",
      "\u001b[0;32m/cluster/tufts/hpc/tools/anaconda/202105/lib/python3.8/site-packages/seaborn/_decorators.py\u001b[0m in \u001b[0;36minner_f\u001b[0;34m(*args, **kwargs)\u001b[0m\n\u001b[1;32m     44\u001b[0m             )\n\u001b[1;32m     45\u001b[0m         \u001b[0mkwargs\u001b[0m\u001b[0;34m.\u001b[0m\u001b[0mupdate\u001b[0m\u001b[0;34m(\u001b[0m\u001b[0;34m{\u001b[0m\u001b[0mk\u001b[0m\u001b[0;34m:\u001b[0m \u001b[0marg\u001b[0m \u001b[0;32mfor\u001b[0m \u001b[0mk\u001b[0m\u001b[0;34m,\u001b[0m \u001b[0marg\u001b[0m \u001b[0;32min\u001b[0m \u001b[0mzip\u001b[0m\u001b[0;34m(\u001b[0m\u001b[0msig\u001b[0m\u001b[0;34m.\u001b[0m\u001b[0mparameters\u001b[0m\u001b[0;34m,\u001b[0m \u001b[0margs\u001b[0m\u001b[0;34m)\u001b[0m\u001b[0;34m}\u001b[0m\u001b[0;34m)\u001b[0m\u001b[0;34m\u001b[0m\u001b[0;34m\u001b[0m\u001b[0m\n\u001b[0;32m---> 46\u001b[0;31m         \u001b[0;32mreturn\u001b[0m \u001b[0mf\u001b[0m\u001b[0;34m(\u001b[0m\u001b[0;34m**\u001b[0m\u001b[0mkwargs\u001b[0m\u001b[0;34m)\u001b[0m\u001b[0;34m\u001b[0m\u001b[0;34m\u001b[0m\u001b[0m\n\u001b[0m\u001b[1;32m     47\u001b[0m     \u001b[0;32mreturn\u001b[0m \u001b[0minner_f\u001b[0m\u001b[0;34m\u001b[0m\u001b[0;34m\u001b[0m\u001b[0m\n\u001b[1;32m     48\u001b[0m \u001b[0;34m\u001b[0m\u001b[0m\n",
      "\u001b[0;32m/cluster/tufts/hpc/tools/anaconda/202105/lib/python3.8/site-packages/seaborn/matrix.py\u001b[0m in \u001b[0;36mheatmap\u001b[0;34m(data, vmin, vmax, cmap, center, robust, annot, fmt, annot_kws, linewidths, linecolor, cbar, cbar_kws, cbar_ax, square, xticklabels, yticklabels, mask, ax, **kwargs)\u001b[0m\n\u001b[1;32m    533\u001b[0m     \"\"\"\n\u001b[1;32m    534\u001b[0m     \u001b[0;31m# Initialize the plotter object\u001b[0m\u001b[0;34m\u001b[0m\u001b[0;34m\u001b[0m\u001b[0;34m\u001b[0m\u001b[0m\n\u001b[0;32m--> 535\u001b[0;31m     plotter = _HeatMapper(data, vmin, vmax, cmap, center, robust, annot, fmt,\n\u001b[0m\u001b[1;32m    536\u001b[0m                           \u001b[0mannot_kws\u001b[0m\u001b[0;34m,\u001b[0m \u001b[0mcbar\u001b[0m\u001b[0;34m,\u001b[0m \u001b[0mcbar_kws\u001b[0m\u001b[0;34m,\u001b[0m \u001b[0mxticklabels\u001b[0m\u001b[0;34m,\u001b[0m\u001b[0;34m\u001b[0m\u001b[0;34m\u001b[0m\u001b[0m\n\u001b[1;32m    537\u001b[0m                           yticklabels, mask)\n",
      "\u001b[0;32m/cluster/tufts/hpc/tools/anaconda/202105/lib/python3.8/site-packages/seaborn/matrix.py\u001b[0m in \u001b[0;36m__init__\u001b[0;34m(self, data, vmin, vmax, cmap, center, robust, annot, fmt, annot_kws, cbar, cbar_kws, xticklabels, yticklabels, mask)\u001b[0m\n\u001b[1;32m    153\u001b[0m \u001b[0;34m\u001b[0m\u001b[0m\n\u001b[1;32m    154\u001b[0m         \u001b[0;31m# Determine good default values for the colormapping\u001b[0m\u001b[0;34m\u001b[0m\u001b[0;34m\u001b[0m\u001b[0;34m\u001b[0m\u001b[0m\n\u001b[0;32m--> 155\u001b[0;31m         self._determine_cmap_params(plot_data, vmin, vmax,\n\u001b[0m\u001b[1;32m    156\u001b[0m                                     cmap, center, robust)\n\u001b[1;32m    157\u001b[0m \u001b[0;34m\u001b[0m\u001b[0m\n",
      "\u001b[0;32m/cluster/tufts/hpc/tools/anaconda/202105/lib/python3.8/site-packages/seaborn/matrix.py\u001b[0m in \u001b[0;36m_determine_cmap_params\u001b[0;34m(self, plot_data, vmin, vmax, cmap, center, robust)\u001b[0m\n\u001b[1;32m    192\u001b[0m                 \u001b[0mvmin\u001b[0m \u001b[0;34m=\u001b[0m \u001b[0mnp\u001b[0m\u001b[0;34m.\u001b[0m\u001b[0mnanpercentile\u001b[0m\u001b[0;34m(\u001b[0m\u001b[0mcalc_data\u001b[0m\u001b[0;34m,\u001b[0m \u001b[0;36m2\u001b[0m\u001b[0;34m)\u001b[0m\u001b[0;34m\u001b[0m\u001b[0;34m\u001b[0m\u001b[0m\n\u001b[1;32m    193\u001b[0m             \u001b[0;32melse\u001b[0m\u001b[0;34m:\u001b[0m\u001b[0;34m\u001b[0m\u001b[0;34m\u001b[0m\u001b[0m\n\u001b[0;32m--> 194\u001b[0;31m                 \u001b[0mvmin\u001b[0m \u001b[0;34m=\u001b[0m \u001b[0mnp\u001b[0m\u001b[0;34m.\u001b[0m\u001b[0mnanmin\u001b[0m\u001b[0;34m(\u001b[0m\u001b[0mcalc_data\u001b[0m\u001b[0;34m)\u001b[0m\u001b[0;34m\u001b[0m\u001b[0;34m\u001b[0m\u001b[0m\n\u001b[0m\u001b[1;32m    195\u001b[0m         \u001b[0;32mif\u001b[0m \u001b[0mvmax\u001b[0m \u001b[0;32mis\u001b[0m \u001b[0;32mNone\u001b[0m\u001b[0;34m:\u001b[0m\u001b[0;34m\u001b[0m\u001b[0;34m\u001b[0m\u001b[0m\n\u001b[1;32m    196\u001b[0m             \u001b[0;32mif\u001b[0m \u001b[0mrobust\u001b[0m\u001b[0;34m:\u001b[0m\u001b[0;34m\u001b[0m\u001b[0;34m\u001b[0m\u001b[0m\n",
      "\u001b[0;32m<__array_function__ internals>\u001b[0m in \u001b[0;36mnanmin\u001b[0;34m(*args, **kwargs)\u001b[0m\n",
      "\u001b[0;32m/cluster/tufts/hpc/tools/anaconda/202105/lib/python3.8/site-packages/numpy/lib/nanfunctions.py\u001b[0m in \u001b[0;36mnanmin\u001b[0;34m(a, axis, out, keepdims)\u001b[0m\n\u001b[1;32m    317\u001b[0m         \u001b[0;31m# Fast, but not safe for subclasses of ndarray, or object arrays,\u001b[0m\u001b[0;34m\u001b[0m\u001b[0;34m\u001b[0m\u001b[0;34m\u001b[0m\u001b[0m\n\u001b[1;32m    318\u001b[0m         \u001b[0;31m# which do not implement isnan (gh-9009), or fmin correctly (gh-8975)\u001b[0m\u001b[0;34m\u001b[0m\u001b[0;34m\u001b[0m\u001b[0;34m\u001b[0m\u001b[0m\n\u001b[0;32m--> 319\u001b[0;31m         \u001b[0mres\u001b[0m \u001b[0;34m=\u001b[0m \u001b[0mnp\u001b[0m\u001b[0;34m.\u001b[0m\u001b[0mfmin\u001b[0m\u001b[0;34m.\u001b[0m\u001b[0mreduce\u001b[0m\u001b[0;34m(\u001b[0m\u001b[0ma\u001b[0m\u001b[0;34m,\u001b[0m \u001b[0maxis\u001b[0m\u001b[0;34m=\u001b[0m\u001b[0maxis\u001b[0m\u001b[0;34m,\u001b[0m \u001b[0mout\u001b[0m\u001b[0;34m=\u001b[0m\u001b[0mout\u001b[0m\u001b[0;34m,\u001b[0m \u001b[0;34m**\u001b[0m\u001b[0mkwargs\u001b[0m\u001b[0;34m)\u001b[0m\u001b[0;34m\u001b[0m\u001b[0;34m\u001b[0m\u001b[0m\n\u001b[0m\u001b[1;32m    320\u001b[0m         \u001b[0;32mif\u001b[0m \u001b[0mnp\u001b[0m\u001b[0;34m.\u001b[0m\u001b[0misnan\u001b[0m\u001b[0;34m(\u001b[0m\u001b[0mres\u001b[0m\u001b[0;34m)\u001b[0m\u001b[0;34m.\u001b[0m\u001b[0many\u001b[0m\u001b[0;34m(\u001b[0m\u001b[0;34m)\u001b[0m\u001b[0;34m:\u001b[0m\u001b[0;34m\u001b[0m\u001b[0;34m\u001b[0m\u001b[0m\n\u001b[1;32m    321\u001b[0m             warnings.warn(\"All-NaN slice encountered\", RuntimeWarning,\n",
      "\u001b[0;31mValueError\u001b[0m: zero-size array to reduction operation fmin which has no identity"
     ]
    },
    {
     "data": {
      "text/plain": [
       "<Figure size 576x432 with 0 Axes>"
      ]
     },
     "metadata": {},
     "output_type": "display_data"
    }
   ],
   "source": [
    "plot(lddt_d)"
   ]
  },
  {
   "cell_type": "code",
   "execution_count": null,
   "id": "5e8fcbe0",
   "metadata": {},
   "outputs": [],
   "source": []
  }
 ],
 "metadata": {
  "kernelspec": {
   "display_name": "Python 3",
   "language": "python",
   "name": "python3"
  },
  "language_info": {
   "codemirror_mode": {
    "name": "ipython",
    "version": 3
   },
   "file_extension": ".py",
   "mimetype": "text/x-python",
   "name": "python",
   "nbconvert_exporter": "python",
   "pygments_lexer": "ipython3",
   "version": "3.8.8"
  }
 },
 "nbformat": 4,
 "nbformat_minor": 5
}
