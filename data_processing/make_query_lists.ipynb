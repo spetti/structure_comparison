{
 "cells": [
  {
   "cell_type": "code",
   "execution_count": 6,
   "id": "5218806d",
   "metadata": {},
   "outputs": [],
   "source": [
    "import csv\n",
    "import numpy as np\n",
    "import os"
   ]
  },
  {
   "cell_type": "code",
   "execution_count": 7,
   "id": "03a6b87c",
   "metadata": {},
   "outputs": [],
   "source": [
    "def load_csv_to_list(file_path):\n",
    "    with open(file_path, mode='r', newline='') as csvfile:\n",
    "        return [item for row in csv.reader(csvfile) for item in row]\n"
   ]
  },
  {
   "cell_type": "code",
   "execution_count": 8,
   "id": "0a93e139",
   "metadata": {},
   "outputs": [],
   "source": [
    "def split_names_to_csv(names, output_prefix, chunk_size=10):\n",
    "    for i in range(0, len(names), chunk_size):\n",
    "        chunk = names[i:i + chunk_size]\n",
    "        with open(f'{output_prefix}/query_list_{i // chunk_size}.csv', 'w', newline='') as file:\n",
    "            writer = csv.writer(file)\n",
    "            writer.writerows([[name] for name in chunk])  # Write each name in a new row\n"
   ]
  },
  {
   "cell_type": "code",
   "execution_count": 11,
   "id": "03996f8d",
   "metadata": {},
   "outputs": [],
   "source": [
    "def make_query_lists(path_to_queries, path_to_coords, chunk_size, output_prefix):\n",
    "    \n",
    "    if not os.path.exists(output_prefix):\n",
    "        os.makedirs(output_prefix)\n",
    "        \n",
    "        all_queries = load_csv_to_list(\"./test.csv\")\n",
    "        coords = np.load(\"allCACoord.npz\")\n",
    "\n",
    "        # Sort the database by length for better batching\n",
    "        key_shape_pairs = [(key, coords[key].shape[0]) for key in all_queries]\n",
    "        sorted_keys = sorted(key_shape_pairs, key=lambda x: x[1])\n",
    "        sorted_names = [key for key, shape in sorted_keys]\n",
    "\n",
    "        # write csvs\n",
    "        split_names_to_csv(sorted_names, output_prefix, chunk_size)\n",
    "    else:\n",
    "        print(\"already directory there\")\n",
    "    \n",
    "    "
   ]
  },
  {
   "cell_type": "code",
   "execution_count": 12,
   "id": "af83f5bf",
   "metadata": {},
   "outputs": [
    {
     "name": "stdout",
     "output_type": "stream",
     "text": [
      "already directory there\n"
     ]
    }
   ],
   "source": [
    "make_query_lists(\"./test.csv\", \"allCACoord.npz\", 10, \"test_queries_by_10\" )"
   ]
  },
  {
   "cell_type": "code",
   "execution_count": null,
   "id": "a09b2790",
   "metadata": {},
   "outputs": [],
   "source": []
  }
 ],
 "metadata": {
  "kernelspec": {
   "display_name": "Python 3",
   "language": "python",
   "name": "python3"
  },
  "language_info": {
   "codemirror_mode": {
    "name": "ipython",
    "version": 3
   },
   "file_extension": ".py",
   "mimetype": "text/x-python",
   "name": "python",
   "nbconvert_exporter": "python",
   "pygments_lexer": "ipython3",
   "version": "3.8.8"
  }
 },
 "nbformat": 4,
 "nbformat_minor": 5
}
