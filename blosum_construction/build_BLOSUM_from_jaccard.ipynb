{
 "cells": [
  {
   "cell_type": "code",
   "execution_count": 1,
   "id": "47f82b44",
   "metadata": {},
   "outputs": [],
   "source": [
    "import numpy as np\n",
    "import jax\n",
    "import jax.numpy as jnp\n",
    "from jax import lax\n",
    "import argparse\n",
    "import sys\n",
    "import os\n",
    "import csv\n",
    "import matplotlib.pyplot as plt\n",
    "import seaborn as sns\n",
    "import scipy.stats as ss\n",
    "import pickle\n",
    "\n",
    "# Add the path to the directory containing the file\n",
    "sys.path.append(os.path.abspath('../benchmarking/'))\n",
    "from utils import *\n"
   ]
  },
  {
   "cell_type": "markdown",
   "id": "84db2975",
   "metadata": {},
   "source": [
    "## Load in data"
   ]
  },
  {
   "cell_type": "code",
   "execution_count": 2,
   "id": "caf7b124",
   "metadata": {},
   "outputs": [],
   "source": [
    "data = \"/cluster/tufts/pettilab/shared/structure_comparison_data\"\n",
    "pairs_path = f\"{data}/train_test_val/pairs_validation.csv\"\n",
    "coord_path = f\"{data}/alphabets_blosum_coordinates/allCACoord.npz\""
   ]
  },
  {
   "cell_type": "code",
   "execution_count": 3,
   "id": "22d71c70",
   "metadata": {},
   "outputs": [],
   "source": [
    "coord_d = np.load(coord_path)\n",
    "# how long is each protein\n",
    "name_to_length_d ={}\n",
    "for key in coord_d.keys():\n",
    "    name_to_length_d[key]= coord_d[key].shape[0]"
   ]
  },
  {
   "cell_type": "code",
   "execution_count": 4,
   "id": "13007487",
   "metadata": {},
   "outputs": [
    {
     "name": "stdout",
     "output_type": "stream",
     "text": [
      "2828\n"
     ]
    }
   ],
   "source": [
    "# remove anything with 'd1e25a_' since we seem to be having some length issues\n",
    "# remove any pairs with length > 512 \n",
    "\n",
    "pairs = []\n",
    "alns_as_lists = []\n",
    "first = True\n",
    "with open(pairs_path, mode='r') as file:\n",
    "    csv_reader = csv.reader(file)\n",
    "    for row in csv_reader:\n",
    "        pair = (row[1],row[2])\n",
    "        if first:\n",
    "            first = False\n",
    "            continue    \n",
    "        elif pair[0] == 'd1e25a_' or  pair[1]=='d1e25a_':\n",
    "            continue\n",
    "        elif name_to_length_d[pair[0]]>512 or name_to_length_d[pair[1]]>512:\n",
    "            continue\n",
    "        else:\n",
    "            pairs.append(pair)\n",
    "            alns_as_lists.append([int(i) for i in row[-1].strip('[]').split()])\n",
    "\n",
    "print(len(pairs))"
   ]
  },
  {
   "cell_type": "markdown",
   "id": "d420f4db",
   "metadata": {},
   "source": [
    "## Compute counts of Jaccard scores"
   ]
  },
  {
   "cell_type": "code",
   "execution_count": 5,
   "id": "c2a4e140",
   "metadata": {},
   "outputs": [],
   "source": [
    "def aln_list_to_tensor(l1, l2, aln_list):\n",
    "    tensor = jnp.zeros(shape= (l1,l2))\n",
    "    pairs = [(index, value) for index, value in enumerate(aln_list) if value != -1]\n",
    "    indices = jnp.array([i for i, _ in pairs])\n",
    "    values = jnp.array([j for _, j in pairs])\n",
    "    tensor = tensor.at[indices, values].set(1)\n",
    "    return tensor"
   ]
  },
  {
   "cell_type": "code",
   "execution_count": 6,
   "id": "a850f31d",
   "metadata": {},
   "outputs": [],
   "source": [
    "nhot_d = pickle.load(open(f'{data}/allProtSphericalBinsWithSecondaryStruct_1Hot.pkl','rb'))\n",
    "transition_mtx = np.loadtxt(f'{data}/transitionMtx.txt',delimiter = ',')"
   ]
  },
  {
   "cell_type": "code",
   "execution_count": 7,
   "id": "0b909652",
   "metadata": {},
   "outputs": [
    {
     "name": "stdout",
     "output_type": "stream",
     "text": [
      "CPU times: user 53.4 s, sys: 16.2 s, total: 1min 9s\n",
      "Wall time: 3min 6s\n"
     ]
    }
   ],
   "source": [
    "%%time\n",
    "aln_tensors = []\n",
    "for i, pair in enumerate(pairs):\n",
    "    aln_tensors.append(aln_list_to_tensor(name_to_length_d[pair[0]],name_to_length_d[pair[1]], alns_as_lists[i]))"
   ]
  },
  {
   "cell_type": "code",
   "execution_count": 8,
   "id": "0b63460a",
   "metadata": {},
   "outputs": [
    {
     "name": "stdout",
     "output_type": "stream",
     "text": [
      "CPU times: user 2min 53s, sys: 36 s, total: 3min 29s\n",
      "Wall time: 7min 41s\n"
     ]
    }
   ],
   "source": [
    "%%time\n",
    "# construct list of jaccard sim matrices\n",
    "sim_tensors = []\n",
    "for i, pair in enumerate(pairs):\n",
    "    sim_tensors.append(sim_mtx_blurry(nhot_d[pair[0]], nhot_d[pair[1]], transition_mtx))"
   ]
  },
  {
   "cell_type": "code",
   "execution_count": 9,
   "id": "7ec0cf55",
   "metadata": {},
   "outputs": [],
   "source": [
    "jaccards = []\n",
    "aln_pos = []\n",
    "for i in range(len(pairs)):\n",
    "    jaccards+=list(sim_tensors[i].flatten())\n",
    "    aln_pos+=list(aln_tensors[i].flatten())"
   ]
  },
  {
   "cell_type": "code",
   "execution_count": 10,
   "id": "1b5737bf",
   "metadata": {},
   "outputs": [
    {
     "name": "stdout",
     "output_type": "stream",
     "text": [
      "0.0027728565211500374\n"
     ]
    }
   ],
   "source": [
    "# number of aligned positions\n",
    "p = sum(aln_pos)/len(aln_pos)\n",
    "print(p)"
   ]
  },
  {
   "cell_type": "code",
   "execution_count": 11,
   "id": "5839d7ac",
   "metadata": {},
   "outputs": [],
   "source": [
    "# jaccards at the aligned positions\n",
    "aln_jaccards = [jaccards[i] for i in range(len(jaccards)) if aln_pos[i]==1]"
   ]
  },
  {
   "cell_type": "code",
   "execution_count": 12,
   "id": "8f25007d",
   "metadata": {},
   "outputs": [
    {
     "name": "stdout",
     "output_type": "stream",
     "text": [
      "615961.0 615961\n"
     ]
    }
   ],
   "source": [
    "print(sum(aln_pos),len(aln_jaccards)) #should be equal"
   ]
  },
  {
   "cell_type": "code",
   "execution_count": 13,
   "id": "7a0984c2",
   "metadata": {},
   "outputs": [
    {
     "data": {
      "text/plain": [
       "True"
      ]
     },
     "execution_count": 13,
     "metadata": {},
     "output_type": "execute_result"
    }
   ],
   "source": [
    "sum(aln_pos)==len(aln_jaccards) #should be true"
   ]
  },
  {
   "cell_type": "code",
   "execution_count": 20,
   "id": "2d54f01a",
   "metadata": {},
   "outputs": [],
   "source": [
    "def create_count_list(values, lb=0, ub=1, num_bins=100):\n",
    "    # Create 100 bins between 0 and 1 (or as specified by num_bins)\n",
    "    bin_edges = list(np.linspace(lb, ub, num_bins + 1))\n",
    "    #bin_edges = [0]+list(np.linspace(lb, ub, num_bins + 1))+[1.0]  # 101 bin edges for 100 bins\n",
    "    print(bin_edges)\n",
    "    # Compute the histogram\n",
    "    counts, _ = np.histogram(values, bins=bin_edges)   \n",
    "    return counts"
   ]
  },
  {
   "cell_type": "code",
   "execution_count": 24,
   "id": "2f3dfc90",
   "metadata": {},
   "outputs": [
    {
     "name": "stdout",
     "output_type": "stream",
     "text": [
      "[0.0, 0.01, 0.02, 0.03, 0.04, 0.05, 0.06, 0.07, 0.08, 0.09, 0.1, 0.11, 0.12, 0.13, 0.14, 0.15, 0.16, 0.17, 0.18, 0.19, 0.2, 0.21, 0.22, 0.23, 0.24, 0.25, 0.26, 0.27, 0.28, 0.29, 0.3, 0.31, 0.32, 0.33, 0.34, 0.35000000000000003, 0.36, 0.37, 0.38, 0.39, 0.4, 0.41000000000000003, 0.42, 0.43, 0.44, 0.45, 0.46, 0.47000000000000003, 0.48, 0.49, 0.5, 0.51, 0.52, 0.53, 0.54, 0.55, 0.56, 0.5700000000000001, 0.58, 0.59, 0.6, 0.61, 0.62, 0.63, 0.64, 0.65, 0.66, 0.67, 0.68, 0.6900000000000001, 0.7000000000000001, 0.71, 0.72, 0.73, 0.74, 0.75, 0.76, 0.77, 0.78, 0.79, 0.8, 0.81, 0.8200000000000001, 0.8300000000000001, 0.84, 0.85, 0.86, 0.87, 0.88, 0.89, 0.9, 0.91, 0.92, 0.93, 0.9400000000000001, 0.9500000000000001, 0.96, 0.97, 0.98, 0.99, 1.0]\n",
      "[0.0, 0.01, 0.02, 0.03, 0.04, 0.05, 0.06, 0.07, 0.08, 0.09, 0.1, 0.11, 0.12, 0.13, 0.14, 0.15, 0.16, 0.17, 0.18, 0.19, 0.2, 0.21, 0.22, 0.23, 0.24, 0.25, 0.26, 0.27, 0.28, 0.29, 0.3, 0.31, 0.32, 0.33, 0.34, 0.35000000000000003, 0.36, 0.37, 0.38, 0.39, 0.4, 0.41000000000000003, 0.42, 0.43, 0.44, 0.45, 0.46, 0.47000000000000003, 0.48, 0.49, 0.5, 0.51, 0.52, 0.53, 0.54, 0.55, 0.56, 0.5700000000000001, 0.58, 0.59, 0.6, 0.61, 0.62, 0.63, 0.64, 0.65, 0.66, 0.67, 0.68, 0.6900000000000001, 0.7000000000000001, 0.71, 0.72, 0.73, 0.74, 0.75, 0.76, 0.77, 0.78, 0.79, 0.8, 0.81, 0.8200000000000001, 0.8300000000000001, 0.84, 0.85, 0.86, 0.87, 0.88, 0.89, 0.9, 0.91, 0.92, 0.93, 0.9400000000000001, 0.9500000000000001, 0.96, 0.97, 0.98, 0.99, 1.0]\n"
     ]
    }
   ],
   "source": [
    "nbins =100\n",
    "aln_counts = create_count_list(aln_jaccards, 0, 1)\n",
    "total_counts = create_count_list(jaccards)"
   ]
  },
  {
   "cell_type": "code",
   "execution_count": 25,
   "id": "d27acb84",
   "metadata": {},
   "outputs": [
    {
     "data": {
      "text/plain": [
       "(100,)"
      ]
     },
     "execution_count": 25,
     "metadata": {},
     "output_type": "execute_result"
    }
   ],
   "source": [
    "total_counts.shape"
   ]
  },
  {
   "cell_type": "code",
   "execution_count": 26,
   "id": "ec2a4822",
   "metadata": {},
   "outputs": [
    {
     "data": {
      "text/plain": [
       "<matplotlib.collections.PathCollection at 0x149f6b234dc0>"
      ]
     },
     "execution_count": 26,
     "metadata": {},
     "output_type": "execute_result"
    },
    {
     "data": {
      "image/png": "[encoded data removed]",
      "text/plain": [
       "<Figure size 432x288 with 1 Axes>"
      ]
     },
     "metadata": {
      "needs_background": "light"
     },
     "output_type": "display_data"
    }
   ],
   "source": [
    "plt.scatter(range(nbins), total_counts)"
   ]
  },
  {
   "cell_type": "code",
   "execution_count": 27,
   "id": "5cc60b16",
   "metadata": {},
   "outputs": [
    {
     "data": {
      "text/plain": [
       "<matplotlib.collections.PathCollection at 0x149f6b210460>"
      ]
     },
     "execution_count": 27,
     "metadata": {},
     "output_type": "execute_result"
    },
    {
     "data": {
      "image/png": "[encoded data removed]",
      "text/plain": [
       "<Figure size 432x288 with 1 Axes>"
      ]
     },
     "metadata": {
      "needs_background": "light"
     },
     "output_type": "display_data"
    }
   ],
   "source": [
    "plt.scatter(range(nbins), aln_counts)"
   ]
  },
  {
   "cell_type": "code",
   "execution_count": 28,
   "id": "7c9fcdf7",
   "metadata": {},
   "outputs": [
    {
     "name": "stderr",
     "output_type": "stream",
     "text": [
      "<ipython-input-28-ede5cf930259>:1: RuntimeWarning: invalid value encountered in long_scalars\n",
      "  plt.scatter(range(nbins), [aln_counts[i]/total_counts[i] for i in range(nbins)])\n"
     ]
    },
    {
     "data": {
      "text/plain": [
       "<matplotlib.collections.PathCollection at 0x149f6b1e4f70>"
      ]
     },
     "execution_count": 28,
     "metadata": {},
     "output_type": "execute_result"
    },
    {
     "data": {
      "image/png": "[encoded data removed]",
      "text/plain": [
       "<Figure size 432x288 with 1 Axes>"
      ]
     },
     "metadata": {
      "needs_background": "light"
     },
     "output_type": "display_data"
    }
   ],
   "source": [
    "plt.scatter(range(nbins), [aln_counts[i]/total_counts[i] for i in range(nbins)])"
   ]
  },
  {
   "cell_type": "code",
   "execution_count": 29,
   "id": "da79dc4a",
   "metadata": {},
   "outputs": [
    {
     "name": "stderr",
     "output_type": "stream",
     "text": [
      "<ipython-input-29-9e306506c4cf>:1: RuntimeWarning: invalid value encountered in long_scalars\n",
      "  plt.scatter(range(nbins), [aln_counts[i]/total_counts[i] for i in range(nbins)])\n"
     ]
    },
    {
     "data": {
      "text/plain": [
       "(0.0, 0.01)"
      ]
     },
     "execution_count": 29,
     "metadata": {},
     "output_type": "execute_result"
    },
    {
     "data": {
      "image/png": "[encoded data removed]",
      "text/plain": [
       "<Figure size 432x288 with 1 Axes>"
      ]
     },
     "metadata": {
      "needs_background": "light"
     },
     "output_type": "display_data"
    }
   ],
   "source": [
    "plt.scatter(range(nbins), [aln_counts[i]/total_counts[i] for i in range(nbins)])\n",
    "plt.ylim(0,.01)"
   ]
  },
  {
   "cell_type": "markdown",
   "id": "164fe0ec",
   "metadata": {},
   "source": [
    "## Make BLOSUM matrix"
   ]
  },
  {
   "cell_type": "code",
   "execution_count": 30,
   "id": "55c7b859",
   "metadata": {},
   "outputs": [
    {
     "name": "stderr",
     "output_type": "stream",
     "text": [
      "<ipython-input-30-17f8ff386431>:3: RuntimeWarning: invalid value encountered in long_scalars\n",
      "  blosum.append(2* (jnp.log(aln_counts[i]/total_counts[i])-jnp.log(p)).item())\n"
     ]
    }
   ],
   "source": [
    "blosum = []\n",
    "for i in range(nbins):\n",
    "    blosum.append(2* (jnp.log(aln_counts[i]/total_counts[i])-jnp.log(p)).item())"
   ]
  },
  {
   "cell_type": "code",
   "execution_count": 31,
   "id": "8b7b8d7f",
   "metadata": {},
   "outputs": [
    {
     "data": {
      "text/plain": [
       "<matplotlib.collections.PathCollection at 0x149f6b161cd0>"
      ]
     },
     "execution_count": 31,
     "metadata": {},
     "output_type": "execute_result"
    },
    {
     "data": {
      "image/png": "[encoded data removed]",
      "text/plain": [
       "<Figure size 720x720 with 1 Axes>"
      ]
     },
     "metadata": {
      "needs_background": "light"
     },
     "output_type": "display_data"
    }
   ],
   "source": [
    "# comparison to linear scheme\n",
    "plt.figure(figsize = (10,10))\n",
    "plt.scatter([i/nbins for i in range(nbins)], blosum)\n",
    "plt.scatter([i/nbins for i in range(nbins)], [i/10-.4 for i in range(nbins)])"
   ]
  },
  {
   "cell_type": "code",
   "execution_count": 32,
   "id": "0e11f2a7",
   "metadata": {},
   "outputs": [],
   "source": [
    "# manual interpolation since we probably have some low count issues\n",
    "blosum_new = np.zeros(100)\n",
    "# no data here; set to lowest value\n",
    "for i in range(8):\n",
    "    blosum_new[i] = blosum[8]\n",
    "# linearly interpolate in the noisy zone\n",
    "diff = blosum[25]-blosum[8]\n",
    "for i in range(8,25):\n",
    "    blosum_new[i]= (i-8)/(25-8)*diff + blosum[8]\n",
    "# keep middle the same\n",
    "for i in range(25,100-20):\n",
    "    blosum_new[i]= blosum[i]\n",
    "# make values >.8 all equal to the highest score\n",
    "for i in range(100-20,100):\n",
    "    blosum_new[i] = blosum[100-9]\n"
   ]
  },
  {
   "cell_type": "code",
   "execution_count": 41,
   "id": "462da9d6",
   "metadata": {},
   "outputs": [],
   "source": [
    "blosum_int = np.round(blosum_new).astype(int)"
   ]
  },
  {
   "cell_type": "code",
   "execution_count": 42,
   "id": "fbcd07c2",
   "metadata": {},
   "outputs": [
    {
     "data": {
      "text/plain": [
       "array([-10, -10, -10, -10, -10, -10, -10, -10, -10,  -9,  -9,  -8,  -8,\n",
       "        -8,  -7,  -7,  -6,  -6,  -6,  -5,  -5,  -5,  -4,  -4,  -3,  -3,\n",
       "        -3,  -3,  -3,  -3,  -3,  -3,  -3,  -3,  -3,  -3,  -3,  -3,  -2,\n",
       "        -2,  -2,  -2,  -2,  -1,  -1,  -1,   0,   0,   0,   1,   1,   2,\n",
       "         2,   3,   3,   4,   4,   5,   5,   6,   6,   7,   7,   8,   9,\n",
       "         9,  10,  10,  10,  11,  11,  11,  11,  12,  12,  12,  12,  12,\n",
       "        12,  12,  12,  12,  12,  12,  12,  12,  12,  12,  12,  12,  12,\n",
       "        12,  12,  12,  12,  12,  12,  12,  12,  12])"
      ]
     },
     "execution_count": 42,
     "metadata": {},
     "output_type": "execute_result"
    }
   ],
   "source": [
    "blosum_int"
   ]
  },
  {
   "cell_type": "code",
   "execution_count": 43,
   "id": "e2d9ae03",
   "metadata": {},
   "outputs": [
    {
     "data": {
      "text/plain": [
       "<matplotlib.collections.PathCollection at 0x149f6afb7fa0>"
      ]
     },
     "execution_count": 43,
     "metadata": {},
     "output_type": "execute_result"
    },
    {
     "data": {
      "image/png": "[encoded data removed]",
      "text/plain": [
       "<Figure size 720x720 with 1 Axes>"
      ]
     },
     "metadata": {
      "needs_background": "light"
     },
     "output_type": "display_data"
    }
   ],
   "source": [
    "plt.figure(figsize = (10,10))\n",
    "plt.scatter([i/nbins for i in range(nbins)], blosum)\n",
    "plt.scatter([i/nbins for i in range(nbins)], blosum_new)\n",
    "plt.scatter([i/nbins for i in range(nbins)], blosum_int)"
   ]
  },
  {
   "cell_type": "code",
   "execution_count": 45,
   "id": "ed709795",
   "metadata": {},
   "outputs": [],
   "source": [
    "#np.save('jaccard_blosum.npy', blosum_new)\n",
    "np.save(f\"{data}/alphabets_blosum_coordinates/jaccard_blosum_int.npy\", blosum_int)"
   ]
  },
  {
   "cell_type": "markdown",
   "id": "2a6b2073",
   "metadata": {},
   "source": [
    "## compute lambda and k"
   ]
  },
  {
   "cell_type": "code",
   "execution_count": 50,
   "id": "f3266c2d",
   "metadata": {},
   "outputs": [],
   "source": [
    "from compute_lambda_and_k import *"
   ]
  },
  {
   "cell_type": "code",
   "execution_count": 52,
   "id": "6449d99f",
   "metadata": {},
   "outputs": [
    {
     "name": "stdout",
     "output_type": "stream",
     "text": [
      "0.48811590671539307 0.19362170684809096\n"
     ]
    }
   ],
   "source": [
    "probs_of_each_bin = total_counts/sum(total_counts)\n",
    "low = np.min(blosum_int)\n",
    "high = np.max(blosum_int)\n",
    "probs = np.zeros(high-low +1)\n",
    "for i in range(blosum_int.shape[0]):   \n",
    "    probs[blosum_int[i]-low] += probs_of_each_bin[i]\n",
    "       \n",
    "lam, k = call_karlin(low, high, probs)\n",
    "print(lam,k)"
   ]
  },
  {
   "cell_type": "code",
   "execution_count": 57,
   "id": "9b04362f",
   "metadata": {},
   "outputs": [
    {
     "data": {
      "text/plain": [
       "<matplotlib.collections.PathCollection at 0x14addd13ccd0>"
      ]
     },
     "execution_count": 57,
     "metadata": {},
     "output_type": "execute_result"
    },
    {
     "data": {
      "image/png": "[encoded data removed]",
      "text/plain": [
       "<Figure size 432x288 with 1 Axes>"
      ]
     },
     "metadata": {
      "needs_background": "light"
     },
     "output_type": "display_data"
    }
   ],
   "source": [
    "plt.scatter(range(low,high+1), probs)"
   ]
  },
  {
   "cell_type": "code",
   "execution_count": null,
   "id": "80595211",
   "metadata": {},
   "outputs": [],
   "source": [
    "#call_karlin(low, high, pr_array)"
   ]
  }
 ],
 "metadata": {
  "kernelspec": {
   "display_name": "Python 3",
   "language": "python",
   "name": "python3"
  },
  "language_info": {
   "codemirror_mode": {
    "name": "ipython",
    "version": 3
   },
   "file_extension": ".py",
   "mimetype": "text/x-python",
   "name": "python",
   "nbconvert_exporter": "python",
   "pygments_lexer": "ipython3",
   "version": "3.8.8"
  }
 },
 "nbformat": 4,
 "nbformat_minor": 5
}
