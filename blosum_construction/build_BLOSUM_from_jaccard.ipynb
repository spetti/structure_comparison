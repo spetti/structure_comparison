{
 "cells": [
  {
   "cell_type": "code",
   "execution_count": 1,
   "id": "47f82b44",
   "metadata": {},
   "outputs": [],
   "source": [
    "import numpy as np\n",
    "import jax\n",
    "import jax.numpy as jnp\n",
    "from jax import lax\n",
    "import argparse\n",
    "import sys\n",
    "import os\n",
    "import csv\n",
    "import matplotlib.pyplot as plt\n",
    "import scipy.stats as ss\n",
    "import pickle\n",
    "\n",
    "# Add the path to the directory containing the file\n",
    "sys.path.append(os.path.abspath('../benchmarking/'))\n",
    "from utils import *\n"
   ]
  },
  {
   "cell_type": "markdown",
   "id": "84db2975",
   "metadata": {},
   "source": [
    "## Load in data"
   ]
  },
  {
   "cell_type": "code",
   "execution_count": 2,
   "id": "caf7b124",
   "metadata": {},
   "outputs": [],
   "source": [
    "data_path = \"/cluster/tufts/pettilab/shared/structure_comparison_data\"\n",
    "pairs_path = f\"{data_path}/protein_data/pairs_training.csv\"\n",
    "coord_path = f\"{data_path}/protein_data/allCACoord.npz\"\n",
    "nh_path = f\"{data_path}/blurry_vec/nHot.npz\"\n",
    "tmat_path = f\"{data_path}/blurry_vec/transition_mtx.npy\""
   ]
  },
  {
   "cell_type": "code",
   "execution_count": 3,
   "id": "22d71c70",
   "metadata": {},
   "outputs": [],
   "source": [
    "coord_d = np.load(coord_path)\n",
    "# how long is each protein\n",
    "name_to_length_d ={}\n",
    "for key in coord_d.keys():\n",
    "    name_to_length_d[key]= coord_d[key].shape[0]"
   ]
  },
  {
   "cell_type": "code",
   "execution_count": 4,
   "id": "13007487",
   "metadata": {},
   "outputs": [
    {
     "name": "stdout",
     "output_type": "stream",
     "text": [
      "134147\n"
     ]
    }
   ],
   "source": [
    "# remove anything with 'd1e25a_' since we seem to be having some length issues\n",
    "# remove any pairs with length > 512 \n",
    "\n",
    "pairs = []\n",
    "alns_as_lists_d = {}\n",
    "first = True\n",
    "\n",
    "bad_list = ['d1e25a_','d1o7d.2','d1o7d.3']\n",
    "\n",
    "with open(pairs_path, mode='r') as file:\n",
    "    csv_reader = csv.reader(file)\n",
    "    for row in csv_reader:\n",
    "        pair = (row[1],row[2])\n",
    "        if first:\n",
    "            first = False\n",
    "            continue    \n",
    "        elif pair[0] in bad_list or pair[1] in bad_list:\n",
    "            continue\n",
    "        elif name_to_length_d[pair[0]]>512 or name_to_length_d[pair[1]]>512:\n",
    "            continue\n",
    "        else:\n",
    "            pairs.append(pair)\n",
    "            alns_as_lists_d[pair]=[int(i) for i in row[-1].strip('[]').split()]\n",
    "\n",
    "print(len(pairs))"
   ]
  },
  {
   "cell_type": "code",
   "execution_count": 5,
   "id": "c934102e",
   "metadata": {},
   "outputs": [],
   "source": [
    "def random_subsample(original_list, percentage=0.2):\n",
    "    # Calculate the number of items to select\n",
    "    num_to_select = max(1, int(len(original_list) * percentage))  # Ensure at least one item is selected\n",
    "    \n",
    "    # Randomly select indices\n",
    "    np.random.seed(0)\n",
    "    selected_indices = sorted(np.random.choice(range(len(original_list)), num_to_select))\n",
    "    \n",
    "    # Create the subsample based on selected indices\n",
    "    subsample = [original_list[i] for i in selected_indices]\n",
    "    return subsample\n",
    "\n"
   ]
  },
  {
   "cell_type": "code",
   "execution_count": 6,
   "id": "2e627c38",
   "metadata": {},
   "outputs": [],
   "source": [
    "# take 10% of the pairs\n",
    "pairs = random_subsample(pairs, percentage = 0.1)\n"
   ]
  },
  {
   "cell_type": "markdown",
   "id": "d420f4db",
   "metadata": {},
   "source": [
    "## Compute counts of Jaccard scores"
   ]
  },
  {
   "cell_type": "code",
   "execution_count": 7,
   "id": "c2a4e140",
   "metadata": {},
   "outputs": [],
   "source": [
    "def aln_list_to_tensor(l1, l2, aln_list):\n",
    "    tensor = jnp.zeros(shape= (l1,l2))\n",
    "    pairs = [(index, value) for index, value in enumerate(aln_list) if value != -1]\n",
    "    indices = jnp.array([i for i, _ in pairs])\n",
    "    values = jnp.array([j for _, j in pairs])\n",
    "    tensor = tensor.at[indices, values].set(1)\n",
    "    return tensor"
   ]
  },
  {
   "cell_type": "code",
   "execution_count": 8,
   "id": "a850f31d",
   "metadata": {},
   "outputs": [],
   "source": [
    "nhot_d = dict(np.load(nh_path))\n",
    "for key in nhot_d.keys():\n",
    "    nhot_d[key]= jnp.array(nhot_d[key]).astype(float)\n",
    "transition_mtx = np.load(tmat_path)"
   ]
  },
  {
   "cell_type": "code",
   "execution_count": 9,
   "id": "0b909652",
   "metadata": {},
   "outputs": [
    {
     "name": "stdout",
     "output_type": "stream",
     "text": [
      "0\n",
      "100\n",
      "200\n",
      "300\n",
      "400\n",
      "500\n",
      "600\n",
      "700\n",
      "800\n",
      "900\n",
      "1000\n",
      "1100\n",
      "1200\n",
      "1300\n",
      "1400\n",
      "1500\n",
      "1600\n",
      "1700\n",
      "1800\n",
      "1900\n",
      "2000\n",
      "2100\n",
      "2200\n",
      "2300\n",
      "2400\n",
      "2500\n",
      "2600\n",
      "2700\n",
      "2800\n",
      "2900\n",
      "3000\n",
      "3100\n",
      "3200\n",
      "3300\n",
      "3400\n",
      "3500\n",
      "3600\n",
      "3700\n",
      "3800\n",
      "3900\n",
      "4000\n",
      "4100\n",
      "4200\n",
      "4300\n",
      "4400\n",
      "4500\n",
      "4600\n",
      "4700\n",
      "4800\n",
      "4900\n",
      "5000\n",
      "5100\n",
      "5200\n",
      "5300\n",
      "5400\n",
      "5500\n",
      "5600\n",
      "5700\n",
      "5800\n",
      "5900\n",
      "6000\n",
      "6100\n",
      "6200\n",
      "6300\n",
      "6400\n",
      "6500\n",
      "6600\n",
      "6700\n",
      "6800\n",
      "6900\n",
      "7000\n",
      "7100\n",
      "7200\n",
      "7300\n",
      "7400\n",
      "7500\n",
      "7600\n",
      "7700\n",
      "7800\n",
      "7900\n",
      "8000\n",
      "8100\n",
      "8200\n",
      "8300\n",
      "8400\n",
      "8500\n",
      "8600\n",
      "8700\n",
      "8800\n",
      "8900\n",
      "9000\n",
      "9100\n",
      "9200\n",
      "9300\n",
      "9400\n",
      "9500\n",
      "9600\n",
      "9700\n",
      "9800\n",
      "9900\n",
      "10000\n",
      "10100\n",
      "10200\n",
      "10300\n",
      "10400\n",
      "10500\n",
      "10600\n",
      "10700\n",
      "10800\n",
      "10900\n",
      "11000\n",
      "11100\n",
      "11200\n",
      "11300\n",
      "11400\n",
      "11500\n",
      "11600\n",
      "11700\n",
      "11800\n",
      "11900\n",
      "12000\n",
      "12100\n",
      "12200\n",
      "12300\n",
      "12400\n",
      "12500\n",
      "12600\n",
      "12700\n"
     ]
    },
    {
     "name": "stderr",
     "output_type": "stream",
     "text": [
      "E1106 22:39:00.670330 2625416 hlo_lexer.cc:443] Failed to parse int literal: 38597865927171870947\n"
     ]
    },
    {
     "name": "stdout",
     "output_type": "stream",
     "text": [
      "12800\n",
      "12900\n",
      "13000\n",
      "13100\n",
      "13200\n",
      "13300\n",
      "13400\n",
      "CPU times: user 29min 36s, sys: 1min 44s, total: 31min 21s\n",
      "Wall time: 39min 11s\n"
     ]
    }
   ],
   "source": [
    "%%time\n",
    "aln_tensors = []\n",
    "sim_tensors = []\n",
    "for i, pair in enumerate(pairs):\n",
    "    if i%100 == 0: print(i)\n",
    "    aln_tensors.append(aln_list_to_tensor(name_to_length_d[pair[0]], name_to_length_d[pair[1]], alns_as_lists_d[pair]))\n",
    "    sim_tensors.append(sim_mtx_blurry(nhot_d[pair[0]], nhot_d[pair[1]], transition_mtx))"
   ]
  },
  {
   "cell_type": "code",
   "execution_count": 10,
   "id": "591fdc9e",
   "metadata": {},
   "outputs": [],
   "source": [
    "#pickle.dump((aln_tensors,sim_tensors), open(\"aln_and_sim_tensors.pkl\",\"wb\") )"
   ]
  },
  {
   "cell_type": "code",
   "execution_count": 7,
   "id": "bf209546",
   "metadata": {},
   "outputs": [],
   "source": [
    "aln_tensors,sim_tensors = pickle.load( open(\"aln_and_sim_tensors.pkl\",\"rb\") )"
   ]
  },
  {
   "cell_type": "code",
   "execution_count": 8,
   "id": "7ec0cf55",
   "metadata": {
    "scrolled": true
   },
   "outputs": [
    {
     "name": "stdout",
     "output_type": "stream",
     "text": [
      "0\n",
      "100\n",
      "200\n",
      "300\n",
      "400\n",
      "500\n",
      "600\n",
      "700\n",
      "800\n",
      "900\n",
      "1000\n",
      "1100\n",
      "1200\n",
      "1300\n",
      "1400\n",
      "1500\n",
      "1600\n",
      "1700\n",
      "1800\n",
      "1900\n",
      "2000\n",
      "2100\n",
      "2200\n",
      "2300\n",
      "2400\n",
      "2500\n",
      "2600\n",
      "2700\n",
      "2800\n",
      "2900\n",
      "3000\n",
      "3100\n",
      "3200\n",
      "3300\n",
      "3400\n",
      "3500\n",
      "3600\n",
      "3700\n",
      "3800\n",
      "3900\n",
      "4000\n",
      "4100\n",
      "4200\n",
      "4300\n",
      "4400\n",
      "4500\n",
      "4600\n",
      "4700\n",
      "4800\n",
      "4900\n",
      "5000\n",
      "5100\n",
      "5200\n",
      "5300\n",
      "5400\n",
      "5500\n",
      "5600\n",
      "5700\n",
      "5800\n",
      "5900\n",
      "6000\n",
      "6100\n",
      "6200\n",
      "6300\n",
      "6400\n",
      "6500\n",
      "6600\n",
      "6700\n",
      "6800\n",
      "6900\n",
      "7000\n",
      "7100\n",
      "7200\n",
      "7300\n",
      "7400\n",
      "7500\n",
      "7600\n",
      "7700\n",
      "7800\n",
      "7900\n",
      "8000\n",
      "8100\n",
      "8200\n",
      "8300\n",
      "8400\n",
      "8500\n",
      "8600\n",
      "8700\n",
      "8800\n",
      "8900\n",
      "9000\n",
      "9100\n",
      "9200\n",
      "9300\n",
      "9400\n",
      "9500\n",
      "9600\n",
      "9700\n",
      "9800\n",
      "9900\n",
      "10000\n",
      "10100\n",
      "10200\n",
      "10300\n",
      "10400\n",
      "10500\n",
      "10600\n",
      "10700\n",
      "10800\n",
      "10900\n",
      "11000\n",
      "11100\n",
      "11200\n",
      "11300\n",
      "11400\n",
      "11500\n",
      "11600\n",
      "11700\n",
      "11800\n",
      "11900\n",
      "12000\n",
      "12100\n",
      "12200\n",
      "12300\n",
      "12400\n",
      "12500\n",
      "12600\n",
      "12700\n",
      "12800\n",
      "12900\n",
      "13000\n",
      "13100\n",
      "13200\n",
      "13300\n",
      "13400\n"
     ]
    }
   ],
   "source": [
    "jaccards = []\n",
    "aln_pos = []\n",
    "for i in range(len(pairs)):\n",
    "    if i%100 == 0: print(i)\n",
    "    jaccards+=list(np.array(sim_tensors[i]).flatten())\n",
    "    aln_pos+=list(np.array(aln_tensors[i]).flatten())"
   ]
  },
  {
   "cell_type": "code",
   "execution_count": 9,
   "id": "1b5737bf",
   "metadata": {},
   "outputs": [
    {
     "name": "stdout",
     "output_type": "stream",
     "text": [
      "0.00420188\n"
     ]
    }
   ],
   "source": [
    "# number of aligned positions\n",
    "p = sum(aln_pos)/len(aln_pos)\n",
    "print(p)"
   ]
  },
  {
   "cell_type": "code",
   "execution_count": 10,
   "id": "5839d7ac",
   "metadata": {},
   "outputs": [],
   "source": [
    "# jaccards at the aligned positions\n",
    "aln_jaccards = [jaccards[i] for i in range(len(jaccards)) if aln_pos[i]==1]"
   ]
  },
  {
   "cell_type": "code",
   "execution_count": 11,
   "id": "8f25007d",
   "metadata": {},
   "outputs": [
    {
     "name": "stdout",
     "output_type": "stream",
     "text": [
      "1621766.0 1621766\n"
     ]
    }
   ],
   "source": [
    "print(sum(aln_pos),len(aln_jaccards)) #should be equal"
   ]
  },
  {
   "cell_type": "code",
   "execution_count": 12,
   "id": "7a0984c2",
   "metadata": {},
   "outputs": [
    {
     "data": {
      "text/plain": [
       "np.True_"
      ]
     },
     "execution_count": 12,
     "metadata": {},
     "output_type": "execute_result"
    }
   ],
   "source": [
    "sum(aln_pos)==len(aln_jaccards) #should be true"
   ]
  },
  {
   "cell_type": "code",
   "execution_count": 13,
   "id": "2d54f01a",
   "metadata": {},
   "outputs": [],
   "source": [
    "def create_count_list(values, lb=0, ub=1, num_bins=100):\n",
    "    # Create 100 bins between 0 and 1 (or as specified by num_bins)\n",
    "    bin_edges = list(np.linspace(lb, ub, num_bins + 1))\n",
    "    #bin_edges = [0]+list(np.linspace(lb, ub, num_bins + 1))+[1.0]  # 101 bin edges for 100 bins\n",
    "    print(bin_edges)\n",
    "    # Compute the histogram\n",
    "    counts, _ = np.histogram(values, bins=bin_edges)   \n",
    "    return counts"
   ]
  },
  {
   "cell_type": "code",
   "execution_count": 14,
   "id": "2f3dfc90",
   "metadata": {},
   "outputs": [
    {
     "name": "stdout",
     "output_type": "stream",
     "text": [
      "[np.float64(0.0), np.float64(0.01), np.float64(0.02), np.float64(0.03), np.float64(0.04), np.float64(0.05), np.float64(0.06), np.float64(0.07), np.float64(0.08), np.float64(0.09), np.float64(0.1), np.float64(0.11), np.float64(0.12), np.float64(0.13), np.float64(0.14), np.float64(0.15), np.float64(0.16), np.float64(0.17), np.float64(0.18), np.float64(0.19), np.float64(0.2), np.float64(0.21), np.float64(0.22), np.float64(0.23), np.float64(0.24), np.float64(0.25), np.float64(0.26), np.float64(0.27), np.float64(0.28), np.float64(0.29), np.float64(0.3), np.float64(0.31), np.float64(0.32), np.float64(0.33), np.float64(0.34), np.float64(0.35000000000000003), np.float64(0.36), np.float64(0.37), np.float64(0.38), np.float64(0.39), np.float64(0.4), np.float64(0.41000000000000003), np.float64(0.42), np.float64(0.43), np.float64(0.44), np.float64(0.45), np.float64(0.46), np.float64(0.47000000000000003), np.float64(0.48), np.float64(0.49), np.float64(0.5), np.float64(0.51), np.float64(0.52), np.float64(0.53), np.float64(0.54), np.float64(0.55), np.float64(0.56), np.float64(0.5700000000000001), np.float64(0.58), np.float64(0.59), np.float64(0.6), np.float64(0.61), np.float64(0.62), np.float64(0.63), np.float64(0.64), np.float64(0.65), np.float64(0.66), np.float64(0.67), np.float64(0.68), np.float64(0.6900000000000001), np.float64(0.7000000000000001), np.float64(0.71), np.float64(0.72), np.float64(0.73), np.float64(0.74), np.float64(0.75), np.float64(0.76), np.float64(0.77), np.float64(0.78), np.float64(0.79), np.float64(0.8), np.float64(0.81), np.float64(0.8200000000000001), np.float64(0.8300000000000001), np.float64(0.84), np.float64(0.85), np.float64(0.86), np.float64(0.87), np.float64(0.88), np.float64(0.89), np.float64(0.9), np.float64(0.91), np.float64(0.92), np.float64(0.93), np.float64(0.9400000000000001), np.float64(0.9500000000000001), np.float64(0.96), np.float64(0.97), np.float64(0.98), np.float64(0.99), np.float64(1.0)]\n",
      "[np.float64(0.0), np.float64(0.01), np.float64(0.02), np.float64(0.03), np.float64(0.04), np.float64(0.05), np.float64(0.06), np.float64(0.07), np.float64(0.08), np.float64(0.09), np.float64(0.1), np.float64(0.11), np.float64(0.12), np.float64(0.13), np.float64(0.14), np.float64(0.15), np.float64(0.16), np.float64(0.17), np.float64(0.18), np.float64(0.19), np.float64(0.2), np.float64(0.21), np.float64(0.22), np.float64(0.23), np.float64(0.24), np.float64(0.25), np.float64(0.26), np.float64(0.27), np.float64(0.28), np.float64(0.29), np.float64(0.3), np.float64(0.31), np.float64(0.32), np.float64(0.33), np.float64(0.34), np.float64(0.35000000000000003), np.float64(0.36), np.float64(0.37), np.float64(0.38), np.float64(0.39), np.float64(0.4), np.float64(0.41000000000000003), np.float64(0.42), np.float64(0.43), np.float64(0.44), np.float64(0.45), np.float64(0.46), np.float64(0.47000000000000003), np.float64(0.48), np.float64(0.49), np.float64(0.5), np.float64(0.51), np.float64(0.52), np.float64(0.53), np.float64(0.54), np.float64(0.55), np.float64(0.56), np.float64(0.5700000000000001), np.float64(0.58), np.float64(0.59), np.float64(0.6), np.float64(0.61), np.float64(0.62), np.float64(0.63), np.float64(0.64), np.float64(0.65), np.float64(0.66), np.float64(0.67), np.float64(0.68), np.float64(0.6900000000000001), np.float64(0.7000000000000001), np.float64(0.71), np.float64(0.72), np.float64(0.73), np.float64(0.74), np.float64(0.75), np.float64(0.76), np.float64(0.77), np.float64(0.78), np.float64(0.79), np.float64(0.8), np.float64(0.81), np.float64(0.8200000000000001), np.float64(0.8300000000000001), np.float64(0.84), np.float64(0.85), np.float64(0.86), np.float64(0.87), np.float64(0.88), np.float64(0.89), np.float64(0.9), np.float64(0.91), np.float64(0.92), np.float64(0.93), np.float64(0.9400000000000001), np.float64(0.9500000000000001), np.float64(0.96), np.float64(0.97), np.float64(0.98), np.float64(0.99), np.float64(1.0)]\n"
     ]
    }
   ],
   "source": [
    "nbins =100\n",
    "aln_counts = create_count_list(aln_jaccards, 0, 1)\n",
    "total_counts = create_count_list(jaccards)"
   ]
  },
  {
   "cell_type": "code",
   "execution_count": 15,
   "id": "4c46fb24",
   "metadata": {},
   "outputs": [
    {
     "data": {
      "text/plain": [
       "<matplotlib.collections.PathCollection at 0x152aeadd5160>"
      ]
     },
     "execution_count": 15,
     "metadata": {},
     "output_type": "execute_result"
    },
    {
     "data": {
      "image/png": "[encoded data removed]",
      "text/plain": [
       "<Figure size 640x480 with 1 Axes>"
      ]
     },
     "metadata": {},
     "output_type": "display_data"
    }
   ],
   "source": [
    "plt.scatter(range(nbins), total_counts)"
   ]
  },
  {
   "cell_type": "code",
   "execution_count": 16,
   "id": "5cc60b16",
   "metadata": {},
   "outputs": [
    {
     "data": {
      "text/plain": [
       "<matplotlib.collections.PathCollection at 0x1539d9625be0>"
      ]
     },
     "execution_count": 16,
     "metadata": {},
     "output_type": "execute_result"
    },
    {
     "data": {
      "image/png": "[encoded data removed]",
      "text/plain": [
       "<Figure size 640x480 with 1 Axes>"
      ]
     },
     "metadata": {},
     "output_type": "display_data"
    }
   ],
   "source": [
    "plt.scatter(range(nbins), aln_counts)"
   ]
  },
  {
   "cell_type": "code",
   "execution_count": 17,
   "id": "7c9fcdf7",
   "metadata": {},
   "outputs": [
    {
     "name": "stderr",
     "output_type": "stream",
     "text": [
      "/tmp/ipykernel_2705860/207561450.py:1: RuntimeWarning: invalid value encountered in scalar divide\n",
      "  plt.scatter(range(nbins), [aln_counts[i]/total_counts[i] for i in range(nbins)])\n"
     ]
    },
    {
     "data": {
      "text/plain": [
       "<matplotlib.collections.PathCollection at 0x152b16a9ac30>"
      ]
     },
     "execution_count": 17,
     "metadata": {},
     "output_type": "execute_result"
    },
    {
     "data": {
      "image/png": "[encoded data removed]",
      "text/plain": [
       "<Figure size 640x480 with 1 Axes>"
      ]
     },
     "metadata": {},
     "output_type": "display_data"
    }
   ],
   "source": [
    "plt.scatter(range(nbins), [aln_counts[i]/total_counts[i] for i in range(nbins)])"
   ]
  },
  {
   "cell_type": "code",
   "execution_count": 18,
   "id": "da79dc4a",
   "metadata": {},
   "outputs": [
    {
     "name": "stderr",
     "output_type": "stream",
     "text": [
      "/tmp/ipykernel_2705860/461294496.py:1: RuntimeWarning: invalid value encountered in scalar divide\n",
      "  plt.scatter(range(nbins), [aln_counts[i]/total_counts[i] for i in range(nbins)])\n"
     ]
    },
    {
     "data": {
      "text/plain": [
       "(0.0, 0.01)"
      ]
     },
     "execution_count": 18,
     "metadata": {},
     "output_type": "execute_result"
    },
    {
     "data": {
      "image/png": "[encoded data removed]",
      "text/plain": [
       "<Figure size 640x480 with 1 Axes>"
      ]
     },
     "metadata": {},
     "output_type": "display_data"
    }
   ],
   "source": [
    "plt.scatter(range(nbins), [aln_counts[i]/total_counts[i] for i in range(nbins)])\n",
    "plt.ylim(0,.01)"
   ]
  },
  {
   "cell_type": "markdown",
   "id": "164fe0ec",
   "metadata": {},
   "source": [
    "## Make BLOSUM matrix"
   ]
  },
  {
   "cell_type": "code",
   "execution_count": 19,
   "id": "55c7b859",
   "metadata": {},
   "outputs": [
    {
     "name": "stderr",
     "output_type": "stream",
     "text": [
      "/tmp/ipykernel_2705860/2214760657.py:3: RuntimeWarning: invalid value encountered in scalar divide\n",
      "  blosum.append(2* (jnp.log(aln_counts[i]/total_counts[i])-jnp.log(p)).item())\n"
     ]
    }
   ],
   "source": [
    "blosum = []\n",
    "for i in range(nbins):\n",
    "    blosum.append(2* (jnp.log(aln_counts[i]/total_counts[i])-jnp.log(p)).item())"
   ]
  },
  {
   "cell_type": "code",
   "execution_count": 20,
   "id": "8b7b8d7f",
   "metadata": {},
   "outputs": [
    {
     "data": {
      "text/plain": [
       "<matplotlib.collections.PathCollection at 0x152aea5be900>"
      ]
     },
     "execution_count": 20,
     "metadata": {},
     "output_type": "execute_result"
    },
    {
     "data": {
      "image/png": "[encoded data removed]",
      "text/plain": [
       "<Figure size 1000x1000 with 1 Axes>"
      ]
     },
     "metadata": {},
     "output_type": "display_data"
    }
   ],
   "source": [
    "# comparison to linear scheme\n",
    "plt.figure(figsize = (10,10))\n",
    "plt.scatter([i/nbins for i in range(nbins)], blosum)\n",
    "plt.scatter([i/nbins for i in range(nbins)], [i/10-.4 for i in range(nbins)])"
   ]
  },
  {
   "cell_type": "code",
   "execution_count": 27,
   "id": "9d8642cc",
   "metadata": {},
   "outputs": [
    {
     "data": {
      "text/plain": [
       "np.int64(75)"
      ]
     },
     "execution_count": 27,
     "metadata": {},
     "output_type": "execute_result"
    }
   ],
   "source": [
    "np.argmax(blosum[8:-5])+8"
   ]
  },
  {
   "cell_type": "code",
   "execution_count": 40,
   "id": "0e11f2a7",
   "metadata": {},
   "outputs": [],
   "source": [
    "# manual interpolation since we probably have some low count issues\n",
    "blosum_new = np.zeros(100)\n",
    "# no data here; set to lowest value\n",
    "for i in range(8):\n",
    "    blosum_new[i] = blosum[8]\n",
    "# linearly interpolate in the noisy zone\n",
    "diff = blosum[25]-blosum[8]\n",
    "for i in range(8,25):\n",
    "    blosum_new[i]= (i-8)/(25-8)*diff + blosum[8]\n",
    "# keep middle the same\n",
    "for i in range(25,100-25):\n",
    "    blosum_new[i]= blosum[i]\n",
    "# make values >.75 all equal to the highest score\n",
    "for i in range(100-25,100):\n",
    "    blosum_new[i] = blosum[100-25]+.5\n"
   ]
  },
  {
   "cell_type": "code",
   "execution_count": 41,
   "id": "462da9d6",
   "metadata": {},
   "outputs": [],
   "source": [
    "blosum_int = np.round(blosum_new).astype(int)"
   ]
  },
  {
   "cell_type": "code",
   "execution_count": 42,
   "id": "1224010e",
   "metadata": {},
   "outputs": [
    {
     "data": {
      "text/plain": [
       "array([-10, -10, -10, -10, -10, -10, -10, -10, -10,  -9,  -9,  -8,  -8,\n",
       "        -8,  -7,  -7,  -7,  -6,  -6,  -5,  -5,  -5,  -4,  -4,  -4,  -3,\n",
       "        -3,  -3,  -3,  -3,  -3,  -3,  -3,  -3,  -3,  -3,  -2,  -2,  -2,\n",
       "        -2,  -2,  -2,  -1,  -1,  -1,  -1,   0,   0,   1,   1,   1,   2,\n",
       "         2,   3,   3,   4,   5,   5,   6,   6,   7,   7,   7,   8,   8,\n",
       "         9,   9,   9,  10,  10,  10,  10,  10,  10,  10,  11,  11,  11,\n",
       "        11,  11,  11,  11,  11,  11,  11,  11,  11,  11,  11,  11,  11,\n",
       "        11,  11,  11,  11,  11,  11,  11,  11,  11])"
      ]
     },
     "execution_count": 42,
     "metadata": {},
     "output_type": "execute_result"
    }
   ],
   "source": [
    "blosum_int"
   ]
  },
  {
   "cell_type": "code",
   "execution_count": 43,
   "id": "8643f6f7",
   "metadata": {},
   "outputs": [
    {
     "data": {
      "text/plain": [
       "<matplotlib.collections.PathCollection at 0x152ae6c2cbf0>"
      ]
     },
     "execution_count": 43,
     "metadata": {},
     "output_type": "execute_result"
    },
    {
     "data": {
      "image/png": "[encoded data removed]",
      "text/plain": [
       "<Figure size 1000x1000 with 1 Axes>"
      ]
     },
     "metadata": {},
     "output_type": "display_data"
    }
   ],
   "source": [
    "plt.figure(figsize = (10,10))\n",
    "plt.scatter([i/nbins for i in range(nbins)], blosum)\n",
    "plt.scatter([i/nbins for i in range(nbins)], blosum_new)\n",
    "plt.scatter([i/nbins for i in range(nbins)], blosum_int)"
   ]
  },
  {
   "cell_type": "code",
   "execution_count": 45,
   "id": "cfadd1c0",
   "metadata": {},
   "outputs": [],
   "source": [
    "np.save(f\"{data_path}/blurry_vec/jaccard_blosum_int.npy\", blosum_int)"
   ]
  },
  {
   "cell_type": "markdown",
   "id": "2a6b2073",
   "metadata": {},
   "source": [
    "## compute lambda and k"
   ]
  },
  {
   "cell_type": "code",
   "execution_count": 46,
   "id": "f3266c2d",
   "metadata": {},
   "outputs": [],
   "source": [
    "from compute_lambda_and_k import *"
   ]
  },
  {
   "cell_type": "code",
   "execution_count": 47,
   "id": "6449d99f",
   "metadata": {},
   "outputs": [
    {
     "name": "stdout",
     "output_type": "stream",
     "text": [
      "0.4979534447193146 0.2038358684518311\n"
     ]
    }
   ],
   "source": [
    "probs_of_each_bin = total_counts/sum(total_counts)\n",
    "low = np.min(blosum_int)\n",
    "high = np.max(blosum_int)\n",
    "probs = np.zeros(high-low +1)\n",
    "for i in range(blosum_int.shape[0]):   \n",
    "    probs[blosum_int[i]-low] += probs_of_each_bin[i]\n",
    "       \n",
    "lam, k = call_karlin(low, high, probs)\n",
    "print(lam,k)"
   ]
  },
  {
   "cell_type": "code",
   "execution_count": 48,
   "id": "9b04362f",
   "metadata": {},
   "outputs": [
    {
     "data": {
      "text/plain": [
       "<matplotlib.collections.PathCollection at 0x152ae6c2dd60>"
      ]
     },
     "execution_count": 48,
     "metadata": {},
     "output_type": "execute_result"
    },
    {
     "data": {
      "image/png": "[encoded data removed]",
      "text/plain": [
       "<Figure size 640x480 with 1 Axes>"
      ]
     },
     "metadata": {},
     "output_type": "display_data"
    }
   ],
   "source": [
    "plt.scatter(range(low,high+1), probs)"
   ]
  }
 ],
 "metadata": {
  "kernelspec": {
   "display_name": "jax3",
   "language": "python",
   "name": "jax3"
  },
  "language_info": {
   "codemirror_mode": {
    "name": "ipython",
    "version": 3
   },
   "file_extension": ".py",
   "mimetype": "text/x-python",
   "name": "python",
   "nbconvert_exporter": "python",
   "pygments_lexer": "ipython3",
   "version": "3.12.5"
  }
 },
 "nbformat": 4,
 "nbformat_minor": 5
}
