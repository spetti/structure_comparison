{
 "cells": [
  {
   "cell_type": "code",
   "execution_count": 1,
   "id": "0b266ae6",
   "metadata": {},
   "outputs": [],
   "source": [
    "import ctypes\n",
    "import numpy as np\n",
    "import csv\n",
    "from matplotlib import pyplot as plt\n",
    "import sys\n",
    "import os\n"
   ]
  },
  {
   "cell_type": "code",
   "execution_count": null,
   "id": "41d379d9",
   "metadata": {},
   "outputs": [],
   "source": []
  },
  {
   "cell_type": "markdown",
   "id": "a8bad921",
   "metadata": {},
   "source": [
    "## Load in data"
   ]
  },
  {
   "cell_type": "code",
   "execution_count": 2,
   "id": "2b2bb6c3",
   "metadata": {},
   "outputs": [],
   "source": [
    "data_path = \"/cluster/tufts/pettilab/shared/structure_comparison_data\"\n",
    "#oh_path = f\"{data_path}/alphabets_blosum_coordinates/MSE/MSE.npz\"\n",
    "#blosum_path = f\"{data_path}/alphabets_blosum_coordinates/MSE/MSE.npy\"\n",
    "oh_path = f\"{data_path}/alphabets_blosum_coordinates/3Di/3Di.npz\"\n",
    "blosum_path = f\"{data_path}/alphabets_blosum_coordinates/3Di/3Di.npy\"\n",
    "train_path = f\"{data_path}/train_test_val/train.csv\""
   ]
  },
  {
   "cell_type": "code",
   "execution_count": 3,
   "id": "1b524b08",
   "metadata": {},
   "outputs": [],
   "source": [
    "oh_d = np.load(oh_path)\n",
    "blosum = np.load(blosum_path).astype(int)\n",
    "training_names = [row[0] for row in csv.reader(open(train_path, newline=''))]"
   ]
  },
  {
   "cell_type": "markdown",
   "id": "718d4d70",
   "metadata": {},
   "source": [
    "## Function that calls C code for computing lambda and K"
   ]
  },
  {
   "cell_type": "code",
   "execution_count": 4,
   "id": "7cceda18",
   "metadata": {},
   "outputs": [],
   "source": [
    "# Load the shared library\n",
    "lib = ctypes.CDLL('./psublast/libkarlin.so')  # For Windows use '.dll' instead of '.so'\n",
    "\n",
    "\n",
    "\n",
    "# Define the C function prototype\n",
    "lib.karlin.argtypes = [\n",
    "    ctypes.c_int,                   # low (int)\n",
    "    ctypes.c_int,                   # high (int)\n",
    "    ctypes.POINTER(ctypes.c_double),# pr (double *)\n",
    "    ctypes.POINTER(ctypes.c_double),# lambda (double *)\n",
    "    ctypes.POINTER(ctypes.c_double) # K (double *)\n",
    "]\n",
    "\n",
    "lib.karlin.restype = ctypes.c_int    # Return type int\n",
    "\n",
    "# Python function to call the C function\n",
    "def call_karlin(low, high, pr_array):\n",
    "    # Convert pr_array to a ctypes array\n",
    "    pr = (ctypes.c_double * len(pr_array))(*pr_array)\n",
    "    \n",
    "    # Prepare ctypes variables to hold lambda and K\n",
    "    lambda_val = ctypes.c_double()\n",
    "    K_val = ctypes.c_double()\n",
    "    \n",
    "    # Call the C function\n",
    "    result = lib.karlin(low, high, pr, ctypes.byref(lambda_val), ctypes.byref(K_val))\n",
    "    \n",
    "    if result != 1:\n",
    "        raise RuntimeError(\"C function failed\")\n",
    "    \n",
    "    # Return the computed lambda and K\n",
    "    return lambda_val.value, K_val.value\n",
    "\n"
   ]
  },
  {
   "cell_type": "markdown",
   "id": "4b62bd89",
   "metadata": {},
   "source": [
    "# Compute frequencies of each score; run C code"
   ]
  },
  {
   "cell_type": "code",
   "execution_count": 5,
   "id": "f6e100e2",
   "metadata": {},
   "outputs": [
    {
     "name": "stdout",
     "output_type": "stream",
     "text": [
      "skipping d1o7d.3, not in oh_d\n"
     ]
    }
   ],
   "source": [
    "# compute frequency of letters on training set\n",
    "A = blosum.shape[0]\n",
    "counts = np.zeros(A)\n",
    "for name in training_names:\n",
    "    try:\n",
    "        counts += np.sum(oh_d[name], axis = 0)\n",
    "    except:\n",
    "        print(f\"skipping {name}, not in oh_d\")"
   ]
  },
  {
   "cell_type": "code",
   "execution_count": 6,
   "id": "ad8c31f4",
   "metadata": {},
   "outputs": [
    {
     "data": {
      "image/png": "[encoded data removed]",
      "text/plain": [
       "<Figure size 432x288 with 1 Axes>"
      ]
     },
     "metadata": {
      "needs_background": "light"
     },
     "output_type": "display_data"
    }
   ],
   "source": [
    "background_probs = counts/np.sum(counts)\n",
    "plt.hist(background_probs, bins = np.arange(0,1,.02))\n",
    "plt.xlabel(\"background prob\")\n",
    "plt.ylabel(\"counts\")\n",
    "plt.show()"
   ]
  },
  {
   "cell_type": "code",
   "execution_count": 7,
   "id": "52f9e8f0",
   "metadata": {},
   "outputs": [
    {
     "name": "stdout",
     "output_type": "stream",
     "text": [
      "-17 10\n"
     ]
    }
   ],
   "source": [
    "low = np.min(blosum)\n",
    "high = np.max(blosum)\n",
    "print(low,high)\n",
    "probs = np.zeros(high-low +1)\n"
   ]
  },
  {
   "cell_type": "code",
   "execution_count": 8,
   "id": "136a9e80",
   "metadata": {},
   "outputs": [
    {
     "name": "stdout",
     "output_type": "stream",
     "text": [
      "[0.00049211 0.00660876 0.01011775 0.00394956 0.01016498 0.01363762\n",
      " 0.01867133 0.01837697 0.02723538 0.01638292 0.03446626 0.05862708\n",
      " 0.05644269 0.08312119 0.11380365 0.08963852 0.07873698 0.14349429\n",
      " 0.087532   0.01820536 0.05522541 0.02920256 0.00400918 0.01652886\n",
      " 0.00208786 0.00158961 0.00150542 0.00014568]\n",
      "0.9999999999999999\n"
     ]
    }
   ],
   "source": [
    "for i in range(A):\n",
    "    for j in range(A):\n",
    "        probs[blosum[i,j]-low] += background_probs[i]*background_probs[j]\n",
    "print(probs)\n",
    "print(np.sum(probs))\n",
    "        "
   ]
  },
  {
   "cell_type": "code",
   "execution_count": 9,
   "id": "c48c84d9",
   "metadata": {},
   "outputs": [
    {
     "name": "stdout",
     "output_type": "stream",
     "text": [
      "0.3443836271762848 0.2201812227331936\n"
     ]
    }
   ],
   "source": [
    "lam, k = call_karlin(low, high, probs)\n",
    "print(lam, k)"
   ]
  },
  {
   "cell_type": "code",
   "execution_count": 10,
   "id": "e1f1a324",
   "metadata": {},
   "outputs": [
    {
     "name": "stdout",
     "output_type": "stream",
     "text": [
      "0.3443836271762848 0.2201812227331936\n"
     ]
    }
   ],
   "source": [
    "lam, k = call_karlin(low, high, probs)\n",
    "print(lam, k)"
   ]
  },
  {
   "cell_type": "markdown",
   "id": "b973c2f7",
   "metadata": {},
   "source": [
    "## check manually for the hardcoded FS backgrounds"
   ]
  },
  {
   "cell_type": "code",
   "execution_count": 56,
   "id": "71edfb46",
   "metadata": {},
   "outputs": [],
   "source": [
    "fs_backgrounds = [float(_) for _ in \"0.0489372 0.0306991 0.101049 0.0329671 0.0276149 0.0416262 0.0452521 0.030876 0.0297251 0.0607036 0.0150238 0.0215826 0.0783843 0.0512926 0.0264886 0.0610702 0.0201311 0.215998 0.0310265 0.0295417 0.00001\".split(\" \")]"
   ]
  },
  {
   "cell_type": "code",
   "execution_count": 57,
   "id": "f1bb836d",
   "metadata": {},
   "outputs": [
    {
     "data": {
      "text/plain": [
       "(array([ 2., 10.,  4.,  3.,  0.,  1.,  0.,  0.,  0.,  0.,  1.,  0.,  0.,\n",
       "         0.,  0.,  0.,  0.,  0.,  0.,  0.,  0.,  0.,  0.,  0.,  0.,  0.,\n",
       "         0.,  0.,  0.,  0.,  0.,  0.,  0.,  0.,  0.,  0.,  0.,  0.,  0.,\n",
       "         0.,  0.,  0.,  0.,  0.,  0.,  0.,  0.,  0.,  0.]),\n",
       " array([0.  , 0.02, 0.04, 0.06, 0.08, 0.1 , 0.12, 0.14, 0.16, 0.18, 0.2 ,\n",
       "        0.22, 0.24, 0.26, 0.28, 0.3 , 0.32, 0.34, 0.36, 0.38, 0.4 , 0.42,\n",
       "        0.44, 0.46, 0.48, 0.5 , 0.52, 0.54, 0.56, 0.58, 0.6 , 0.62, 0.64,\n",
       "        0.66, 0.68, 0.7 , 0.72, 0.74, 0.76, 0.78, 0.8 , 0.82, 0.84, 0.86,\n",
       "        0.88, 0.9 , 0.92, 0.94, 0.96, 0.98]),\n",
       " <BarContainer object of 49 artists>)"
      ]
     },
     "execution_count": 57,
     "metadata": {},
     "output_type": "execute_result"
    },
    {
     "data": {
      "image/png": "[encoded data removed]",
      "text/plain": [
       "<Figure size 432x288 with 1 Axes>"
      ]
     },
     "metadata": {
      "needs_background": "light"
     },
     "output_type": "display_data"
    }
   ],
   "source": [
    "plt.hist(fs_backgrounds, bins = np.arange(0,1,.02))"
   ]
  },
  {
   "cell_type": "code",
   "execution_count": 59,
   "id": "6b0a4c93",
   "metadata": {},
   "outputs": [
    {
     "name": "stdout",
     "output_type": "stream",
     "text": [
      "-17 10\n",
      "[0.00099058 0.00831422 0.01284112 0.00455307 0.01606672 0.01855291\n",
      " 0.0239089  0.02556385 0.03021638 0.01938236 0.04113213 0.0727263\n",
      " 0.06377316 0.07258392 0.10407773 0.08240611 0.06878559 0.13546353\n",
      " 0.07248688 0.01666552 0.06124516 0.01974455 0.00447546 0.01647706\n",
      " 0.00215614 0.00232123 0.00284312 0.00022571]\n",
      "0.99997940010609\n"
     ]
    }
   ],
   "source": [
    "low = np.min(blosum)\n",
    "high = np.max(blosum)\n",
    "print(low,high)\n",
    "probs = np.zeros(high-low +1)\n",
    "\n",
    "for i in range(A):\n",
    "    for j in range(A):\n",
    "        probs[blosum[i,j]-low] += fs_backgrounds[i]*fs_backgrounds[j]\n",
    "print(probs)\n",
    "print(np.sum(probs))"
   ]
  },
  {
   "cell_type": "code",
   "execution_count": 60,
   "id": "455446b1",
   "metadata": {},
   "outputs": [
    {
     "name": "stdout",
     "output_type": "stream",
     "text": [
      "0.3515685796737671 0.2323420514526176\n"
     ]
    }
   ],
   "source": [
    "lam, k = call_karlin(low, high, probs)\n",
    "print(lam, k)"
   ]
  },
  {
   "cell_type": "code",
   "execution_count": null,
   "id": "c4efeee1",
   "metadata": {},
   "outputs": [],
   "source": [
    "# this matches FS number 0.351568"
   ]
  }
 ],
 "metadata": {
  "kernelspec": {
   "display_name": "Python 3",
   "language": "python",
   "name": "python3"
  },
  "language_info": {
   "codemirror_mode": {
    "name": "ipython",
    "version": 3
   },
   "file_extension": ".py",
   "mimetype": "text/x-python",
   "name": "python",
   "nbconvert_exporter": "python",
   "pygments_lexer": "ipython3",
   "version": "3.8.8"
  }
 },
 "nbformat": 4,
 "nbformat_minor": 5
}
