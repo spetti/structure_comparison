{
 "cells": [
  {
   "cell_type": "code",
   "execution_count": 5,
   "id": "0b266ae6",
   "metadata": {},
   "outputs": [],
   "source": [
    "import ctypes\n",
    "import numpy as np\n"
   ]
  },
  {
   "cell_type": "code",
   "execution_count": 8,
   "id": "1ee46c69",
   "metadata": {},
   "outputs": [],
   "source": []
  },
  {
   "cell_type": "code",
   "execution_count": 13,
   "id": "7cceda18",
   "metadata": {},
   "outputs": [
    {
     "name": "stdout",
     "output_type": "stream",
     "text": [
      "Lambda: 0.3299519121646881, K: 0.15372614418394498\n"
     ]
    }
   ],
   "source": [
    "# Load the shared library\n",
    "lib = ctypes.CDLL('../psublast/libkarlin.so')  # For Windows use '.dll' instead of '.so'\n",
    "\n",
    "\n",
    "\n",
    "# Define the C function prototype\n",
    "lib.karlin.argtypes = [\n",
    "    ctypes.c_int,                   # low (int)\n",
    "    ctypes.c_int,                   # high (int)\n",
    "    ctypes.POINTER(ctypes.c_double),# pr (double *)\n",
    "    ctypes.POINTER(ctypes.c_double),# lambda (double *)\n",
    "    ctypes.POINTER(ctypes.c_double) # K (double *)\n",
    "]\n",
    "\n",
    "lib.karlin.restype = ctypes.c_int    # Return type int\n",
    "\n",
    "# Python function to call the C function\n",
    "def call_karlin(low, high, pr_array):\n",
    "    # Convert pr_array to a ctypes array\n",
    "    pr = (ctypes.c_double * len(pr_array))(*pr_array)\n",
    "    \n",
    "    # Prepare ctypes variables to hold lambda and K\n",
    "    lambda_val = ctypes.c_double()\n",
    "    K_val = ctypes.c_double()\n",
    "    \n",
    "    # Call the C function\n",
    "    result = lib.karlin(low, high, pr, ctypes.byref(lambda_val), ctypes.byref(K_val))\n",
    "    \n",
    "    if result != 1:\n",
    "        raise RuntimeError(\"C function failed\")\n",
    "    \n",
    "    # Return the computed lambda and K\n",
    "    return lambda_val.value, K_val.value\n",
    "\n",
    "# Example usage\n",
    "low = -2\n",
    "high = 3\n",
    "pr_array = np.array([0.7, 0.0, 0.1, 0.0, 0.0, 0.2])  # Example probabilities\n",
    "lambda_val, K_val = call_karlin(low, high, pr_array)\n",
    "\n",
    "print(f\"Lambda: {lambda_val}, K: {K_val}\")"
   ]
  },
  {
   "cell_type": "code",
   "execution_count": null,
   "id": "e1f1a324",
   "metadata": {},
   "outputs": [],
   "source": []
  }
 ],
 "metadata": {
  "kernelspec": {
   "display_name": "Python 3",
   "language": "python",
   "name": "python3"
  },
  "language_info": {
   "codemirror_mode": {
    "name": "ipython",
    "version": 3
   },
   "file_extension": ".py",
   "mimetype": "text/x-python",
   "name": "python",
   "nbconvert_exporter": "python",
   "pygments_lexer": "ipython3",
   "version": "3.8.8"
  }
 },
 "nbformat": 4,
 "nbformat_minor": 5
}
