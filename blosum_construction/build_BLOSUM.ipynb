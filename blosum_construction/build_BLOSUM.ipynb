{
 "cells": [
  {
   "cell_type": "code",
   "execution_count": 13,
   "id": "4793ebef",
   "metadata": {},
   "outputs": [],
   "source": [
    "import numpy as np\n",
    "import jax\n",
    "import jax.numpy as jnp\n",
    "import csv\n",
    "from matplotlib import pyplot as plt\n",
    "import sys\n",
    "import os\n",
    "\n",
    "# Add the path to the directory containing the file\n",
    "sys.path.append(os.path.abspath('../benchmarking/'))\n",
    "from utils import *"
   ]
  },
  {
   "cell_type": "code",
   "execution_count": 14,
   "id": "04bf1fc3",
   "metadata": {},
   "outputs": [
    {
     "data": {
      "text/plain": [
       "[GpuDevice(id=0, process_index=0)]"
      ]
     },
     "execution_count": 14,
     "metadata": {},
     "output_type": "execute_result"
    }
   ],
   "source": [
    "jax.devices()"
   ]
  },
  {
   "cell_type": "code",
   "execution_count": 15,
   "id": "42049665",
   "metadata": {},
   "outputs": [],
   "source": [
    "data_path = \"/cluster/tufts/pettilab/shared/structure_comparison_data\"\n",
    "pairs_path = f\"{data_path}/train_test_val/pairs_training.csv\"\n",
    "#oh_path = f\"{data_path}/alphabets_blosum_coordinates/MSE/MSE.npz\"\n",
    "oh_path = f\"{data_path}/alphabets_blosum_coordinates/3Di/3Di.npz\"\n"
   ]
  },
  {
   "cell_type": "code",
   "execution_count": 16,
   "id": "77cfffe3",
   "metadata": {},
   "outputs": [
    {
     "name": "stdout",
     "output_type": "stream",
     "text": [
      "skipping ('d3bvua3', 'd1o7d.3') because d1o7d.3 is not in the one hot-d\n",
      "skipping ('d1o7d.3', 'd3bvua3') because d1o7d.3 is not in the one hot-d\n",
      "skipping ('d1o7d.3', 'd1k1xa3') because d1o7d.3 is not in the one hot-d\n",
      "skipping ('d1o7d.3', 'd2b5dx2') because d1o7d.3 is not in the one hot-d\n",
      "skipping ('d1o7d.3', 'd1ufaa2') because d1o7d.3 is not in the one hot-d\n",
      "skipping ('d1o7d.3', 'd1z7aa1') because d1o7d.3 is not in the one hot-d\n",
      "skipping ('d1k1xa3', 'd1o7d.3') because d1o7d.3 is not in the one hot-d\n",
      "skipping ('d2cc0a1', 'd1o7d.3') because d1o7d.3 is not in the one hot-d\n",
      "skipping ('d2iw0a1', 'd1o7d.3') because d1o7d.3 is not in the one hot-d\n",
      "skipping ('d2c1ia1', 'd1o7d.3') because d1o7d.3 is not in the one hot-d\n",
      "skipping ('d2j13a1', 'd1o7d.3') because d1o7d.3 is not in the one hot-d\n",
      "skipping ('d2c71a1', 'd1o7d.3') because d1o7d.3 is not in the one hot-d\n",
      "skipping ('d2nlya1', 'd1o7d.3') because d1o7d.3 is not in the one hot-d\n",
      "skipping ('d1twfb_', 'd1smyc_') because issue with alignment\n",
      "skipping ('d1smyc_', 'd1twfb_') because issue with alignment\n",
      "134646\n",
      "134646\n",
      "134646\n"
     ]
    }
   ],
   "source": [
    "oh_d = np.load(oh_path)\n",
    "\n",
    "# remove anything with 'd1e25a_' since we seem to be having some length issues\n",
    "# remove any pairs with length > 512 \n",
    "bad_list = []\n",
    "bad_list.append('d1e25a_')\n",
    "\n",
    "pairs = []\n",
    "alns_as_lists = {}\n",
    "first = True\n",
    "tm_d = {}\n",
    "n2l_d = make_name_to_length_d(oh_d)\n",
    "with open(pairs_path, mode='r') as file:\n",
    "    csv_reader = csv.reader(file)\n",
    "    for row in csv_reader:\n",
    "        pair = (row[1],row[2])\n",
    "        if first:\n",
    "            first = False\n",
    "            continue  \n",
    "        elif pair[0] in bad_list or pair[1] in bad_list:\n",
    "            continue\n",
    "        elif pair[0] not in n2l_d.keys():\n",
    "            print(f\"skipping {pair} because {pair[0]} is not in the one hot-d\")\n",
    "        elif pair[1] not in n2l_d.keys():\n",
    "            print(f\"skipping {pair} because {pair[1]} is not in the one hot-d\")\n",
    "        #elif n2l_d[pair[0]]>512 or n2l_d[pair[1]]>512:\n",
    "        #    continue\n",
    "        else:\n",
    "            try:\n",
    "                alns_as_lists[pair]=[int(i) for i in row[-1].strip('[]').split()]\n",
    "            except:\n",
    "                print(f\"skipping {pair} because issue with alignment\")\n",
    "                continue\n",
    "            pairs.append(pair)\n",
    "            tm_d[pair]= float(row[3])\n",
    "print(len(pairs))\n",
    "print(len(alns_as_lists.keys()))\n",
    "print(len(tm_d.keys()))"
   ]
  },
  {
   "cell_type": "code",
   "execution_count": 17,
   "id": "71632d2d",
   "metadata": {},
   "outputs": [],
   "source": [
    "# sort pairs by length of longer protein\n",
    "pair_max_length_pairs = [(pair, max(n2l_d[pair[0]], n2l_d[pair[1]])) for pair in pairs]\n",
    "sorted_keys = sorted(pair_max_length_pairs, key=lambda x: x[1])\n",
    "sorted_pairs = [key for key, shape in sorted_keys]\n",
    "pairs = sorted_pairs"
   ]
  },
  {
   "cell_type": "code",
   "execution_count": 18,
   "id": "61c835e6",
   "metadata": {},
   "outputs": [],
   "source": [
    "def compute_pairwise_counts(oh1, oh2, aln_list):\n",
    "    \n",
    "    aln_pos1 = jnp.where(aln_list > -.0001, size = oh1.shape[0], fill_value =-1)[0]\n",
    "    aln_pos2 = aln_list.at[aln_pos1].get(mode = \"drop\")\n",
    "\n",
    "    # reduce to matched positions\n",
    "    reduced_oh1 = jnp.zeros_like(oh1)\n",
    "    reduced_oh1 = reduced_oh1.at[:oh1.shape[0]].set(jnp.take(oh1, aln_pos1, axis=0), mode = \"drop\")\n",
    "    reduced_oh2 = jnp.zeros_like(oh2)\n",
    "    reduced_oh2 = reduced_oh2.at[:oh2.shape[0]].set(jnp.take(oh2, aln_pos2, axis=0), mode = \"drop\")\n",
    "\n",
    "    # compute counts\n",
    "    return jnp.einsum('mi,mj->ij', reduced_oh1, reduced_oh2)\n",
    "\n",
    "vv_compute_pairwise_counts = jax.jit(jax.vmap(compute_pairwise_counts,in_axes= (0, 0, 0)))"
   ]
  },
  {
   "cell_type": "code",
   "execution_count": 19,
   "id": "e499caf7",
   "metadata": {},
   "outputs": [],
   "source": [
    "def run_in_batches(long_list, batch_size):\n",
    "    result = None\n",
    "    for i in range(0, len(long_list), batch_size):\n",
    "        batch = long_list[i:i + batch_size]  # Get the current batch\n",
    "        counts = jnp.sum(run_batch(batch), axis = 0)\n",
    "        print(jnp.sum(counts))\n",
    "        if i == 0:\n",
    "            result = counts\n",
    "        else:\n",
    "            result+= counts   # Process and extend results\n",
    "        print(f\"finished batch {i}\")\n",
    "    return result"
   ]
  },
  {
   "cell_type": "code",
   "execution_count": 20,
   "id": "95b4a8b0",
   "metadata": {},
   "outputs": [],
   "source": [
    "def run_batch(pairs):\n",
    "\n",
    "    # compute max length of any protein\n",
    "    names=[item for tup in pairs for item in tup]\n",
    "    max_len = max([n2l_d[name] for name in names])\n",
    "    pad_to = int(jnp.where(max_len < 1, 1, 2 ** jnp.ceil(jnp.log2(max_len))))\n",
    "    print(pad_to)    \n",
    "    \n",
    "    alns = []\n",
    "    for pair in pairs:\n",
    "        alnL=alns_as_lists[pair]\n",
    "        alns.append(jnp.pad(jnp.array(alnL),(0,pad_to-len(alnL)),constant_values =-1))\n",
    "    alns = jnp.stack(alns)\n",
    "    print(jnp.sum(alns>-.001))\n",
    "    \n",
    "    \n",
    "    # get oh and coords for left and right part of pairs, padded\n",
    "    lefts, _ = pad_and_stack_manual([oh_d[pair[0]] for pair in pairs],pad_to = pad_to)\n",
    "    rights, _ = pad_and_stack_manual([oh_d[pair[1]] for pair in pairs], pad_to = pad_to)\n",
    "    \n",
    "    return vv_compute_pairwise_counts(lefts, rights, alns)"
   ]
  },
  {
   "cell_type": "code",
   "execution_count": 21,
   "id": "7c103c76",
   "metadata": {},
   "outputs": [
    {
     "name": "stdout",
     "output_type": "stream",
     "text": [
      "128\n",
      "248109\n",
      "248109\n",
      "finished batch 0\n",
      "128\n",
      "313675\n",
      "313675\n",
      "finished batch 5000\n",
      "128\n",
      "352156\n",
      "352156\n",
      "finished batch 10000\n",
      "128\n",
      "380417\n",
      "380417\n",
      "finished batch 15000\n",
      "128\n",
      "392742\n",
      "392742\n",
      "finished batch 20000\n",
      "128\n",
      "397074\n",
      "397074\n",
      "finished batch 25000\n",
      "128\n",
      "411439\n",
      "411439\n",
      "finished batch 30000\n",
      "128\n",
      "412274\n",
      "412274\n",
      "finished batch 35000\n",
      "128\n",
      "420090\n",
      "420090\n",
      "finished batch 40000\n",
      "128\n",
      "433170\n",
      "433170\n",
      "finished batch 45000\n",
      "128\n",
      "435852\n",
      "435852\n",
      "finished batch 50000\n",
      "128\n",
      "443855\n",
      "443855\n",
      "finished batch 55000\n",
      "128\n",
      "460506\n",
      "460506\n",
      "finished batch 60000\n",
      "256\n",
      "468440\n",
      "468440\n",
      "finished batch 65000\n",
      "256\n",
      "490172\n",
      "490172\n",
      "finished batch 70000\n",
      "256\n",
      "553328\n",
      "553328\n",
      "finished batch 75000\n",
      "256\n",
      "574325\n",
      "574325\n",
      "finished batch 80000\n",
      "256\n",
      "619815\n",
      "619815\n",
      "finished batch 85000\n",
      "256\n",
      "630363\n",
      "630363\n",
      "finished batch 90000\n",
      "256\n",
      "757562\n",
      "757562\n",
      "finished batch 95000\n",
      "256\n",
      "830113\n",
      "830113\n",
      "finished batch 100000\n",
      "256\n",
      "887492\n",
      "888084\n",
      "finished batch 105000\n",
      "512\n",
      "950548\n",
      "950548\n",
      "finished batch 110000\n",
      "512\n",
      "942308\n",
      "942308\n",
      "finished batch 115000\n",
      "512\n",
      "925434\n",
      "925434\n",
      "finished batch 120000\n",
      "512\n",
      "1279163\n",
      "1279163\n",
      "finished batch 125000\n",
      "2048\n",
      "1413359\n",
      "1413359\n",
      "finished batch 130000\n",
      "CPU times: user 2min 54s, sys: 39 s, total: 3min 33s\n",
      "Wall time: 2min 47s\n"
     ]
    }
   ],
   "source": [
    "%%time\n",
    "counts = run_in_batches(pairs,5000)"
   ]
  },
  {
   "cell_type": "code",
   "execution_count": 22,
   "id": "3935c67a",
   "metadata": {},
   "outputs": [],
   "source": [
    "#np.save('MSE_counts.npy',np.array(counts))\n",
    "np.save('3Di_counts.npy',np.array(counts))"
   ]
  },
  {
   "cell_type": "code",
   "execution_count": 35,
   "id": "a453b558",
   "metadata": {},
   "outputs": [],
   "source": [
    "counts_mse = np.load('MSE_counts.npy')"
   ]
  },
  {
   "cell_type": "code",
   "execution_count": 36,
   "id": "2d20ade1",
   "metadata": {},
   "outputs": [],
   "source": [
    "counts_3di = np.load('3Di_counts.npy')"
   ]
  },
  {
   "cell_type": "code",
   "execution_count": 30,
   "id": "19d6640c",
   "metadata": {},
   "outputs": [
    {
     "name": "stdout",
     "output_type": "stream",
     "text": [
      "128\n",
      "248109\n",
      "248109\n",
      "finished batch 0\n",
      "128\n",
      "313675\n",
      "313675\n",
      "finished batch 5000\n",
      "128\n",
      "352156\n",
      "352156\n",
      "finished batch 10000\n",
      "128\n",
      "380417\n",
      "380417\n",
      "finished batch 15000\n",
      "128\n",
      "392742\n",
      "392742\n",
      "finished batch 20000\n",
      "128\n",
      "397074\n",
      "397074\n",
      "finished batch 25000\n",
      "128\n",
      "411439\n",
      "411439\n",
      "finished batch 30000\n",
      "128\n",
      "412274\n",
      "412274\n",
      "finished batch 35000\n",
      "128\n",
      "420090\n",
      "420090\n",
      "finished batch 40000\n",
      "128\n",
      "433170\n",
      "433170\n",
      "finished batch 45000\n",
      "128\n",
      "435852\n",
      "435852\n",
      "finished batch 50000\n",
      "128\n",
      "443855\n",
      "443855\n",
      "finished batch 55000\n",
      "128\n",
      "460506\n",
      "460506\n",
      "finished batch 60000\n",
      "256\n",
      "468440\n",
      "468440\n",
      "finished batch 65000\n",
      "256\n",
      "490172\n",
      "490172\n",
      "finished batch 70000\n",
      "256\n",
      "553328\n",
      "553328\n",
      "finished batch 75000\n",
      "256\n",
      "574325\n",
      "574325\n",
      "finished batch 80000\n",
      "256\n",
      "619815\n",
      "619815\n",
      "finished batch 85000\n",
      "256\n",
      "630363\n",
      "630363\n",
      "finished batch 90000\n",
      "256\n",
      "757562\n",
      "757562\n",
      "finished batch 95000\n",
      "256\n",
      "830113\n",
      "830113\n",
      "finished batch 100000\n",
      "256\n",
      "887492\n",
      "888084\n",
      "finished batch 105000\n",
      "512\n",
      "950548\n",
      "950548\n",
      "finished batch 110000\n",
      "512\n",
      "942308\n",
      "942308\n",
      "finished batch 115000\n",
      "512\n",
      "925434\n",
      "925434\n",
      "finished batch 120000\n",
      "512\n",
      "1279163\n",
      "1279163\n",
      "finished batch 125000\n",
      "512\n",
      "1268988\n",
      "1268988\n",
      "finished batch 130000\n",
      "CPU times: user 7min 8s, sys: 2min 32s, total: 9min 41s\n",
      "Wall time: 9min 49s\n"
     ]
    }
   ],
   "source": [
    "# this was on an A100\n",
    "%%time\n",
    "counts = run_in_batches(pairs,5000)"
   ]
  },
  {
   "cell_type": "markdown",
   "id": "91dcc088",
   "metadata": {},
   "source": [
    "## Convert to BLOSUM"
   ]
  },
  {
   "cell_type": "code",
   "execution_count": null,
   "id": "ad66a043",
   "metadata": {},
   "outputs": [],
   "source": [
    "round(2.0*math.log(pairCounts[key]/(singleCounts[i1]*singleCounts[i2]*(multTwo+1)))/math.log(2))"
   ]
  },
  {
   "cell_type": "code",
   "execution_count": 87,
   "id": "63b56e87",
   "metadata": {},
   "outputs": [
    {
     "name": "stdout",
     "output_type": "stream",
     "text": [
      "9\n",
      "4\n"
     ]
    }
   ],
   "source": [
    "print(np.sum(counts_mse == 0))\n",
    "print(np.sum((counts_mse+counts_mse.T) == 0))"
   ]
  },
  {
   "cell_type": "code",
   "execution_count": 103,
   "id": "92ffcf0a",
   "metadata": {},
   "outputs": [],
   "source": [
    "def counts_to_blosum(counts, eps = 10):\n",
    "    single_counts = np.sum(counts, axis = 0) + np.sum(counts, axis = 1)\n",
    "    total_pairs = np.sum(counts)\n",
    "    b = np.zeros_like(counts)\n",
    "    \n",
    "    # compute blosum score where there are positive counts\n",
    "    for i in range(counts.shape[0]):\n",
    "        for j in range(counts.shape[0]):\n",
    "            if i == j:\n",
    "                cij = counts[i,i]\n",
    "            else:\n",
    "                cij = counts[i,j]+counts[j,i]\n",
    "            if cij != 0:\n",
    "                # (cij/total_pairs) / (single_counts[i]*single_counts[j]/(2*total_pairs * 2*total_pairs))\n",
    "                # = 4 cij* total_pairs / (single_counts[i]*single_counts[j])\n",
    "                b[i,j]= np.round(2/np.log(2)*np.log(4*cij*total_pairs/((1+(i!=j))*single_counts[i]*single_counts[j])))\n",
    "                b[j,i]=b[i,j]\n",
    "               \n",
    "    # fill in zero count positions with lowest value\n",
    "    lowest = np.min(b)\n",
    "    for i in range(counts.shape[0]):\n",
    "        for j in range(counts.shape[0]):\n",
    "            if i == j:\n",
    "                cij = counts[i,i]\n",
    "            else:\n",
    "                cij = counts[i,j]+counts[j,i]\n",
    "            if cij == 0:\n",
    "                b[i,j] = lowest\n",
    "                b[j,i] = lowest\n",
    "    \n",
    "    \n",
    "    return b"
   ]
  },
  {
   "cell_type": "code",
   "execution_count": 104,
   "id": "9b517d99",
   "metadata": {},
   "outputs": [],
   "source": [
    "blosum_3di= counts_to_blosum(counts_3di)\n",
    "blosum_mse= counts_to_blosum(counts_mse)\n"
   ]
  },
  {
   "cell_type": "code",
   "execution_count": 105,
   "id": "686bf3b9",
   "metadata": {},
   "outputs": [],
   "source": [
    "pc_blosum_mse = np.load( f\"{data_path}/alphabets_blosum_coordinates/MSE/MSE.npy\")\n",
    "pc_blosum_3di = np.load( f\"{data_path}/alphabets_blosum_coordinates/3Di/3Di.npy\")"
   ]
  },
  {
   "cell_type": "code",
   "execution_count": 106,
   "id": "16fa6bab",
   "metadata": {},
   "outputs": [
    {
     "data": {
      "image/png": "[encoded data removed]",
      "text/plain": [
       "<Figure size 432x288 with 2 Axes>"
      ]
     },
     "metadata": {
      "needs_background": "light"
     },
     "output_type": "display_data"
    },
    {
     "data": {
      "image/png": "[encoded data removed]",
      "text/plain": [
       "<Figure size 432x288 with 2 Axes>"
      ]
     },
     "metadata": {
      "needs_background": "light"
     },
     "output_type": "display_data"
    },
    {
     "data": {
      "text/plain": [
       "Text(0, 0.5, 'precomputed blosum')"
      ]
     },
     "execution_count": 106,
     "metadata": {},
     "output_type": "execute_result"
    },
    {
     "data": {
      "image/png": "[encoded data removed]",
      "text/plain": [
       "<Figure size 432x288 with 1 Axes>"
      ]
     },
     "metadata": {
      "needs_background": "light"
     },
     "output_type": "display_data"
    }
   ],
   "source": [
    "plt.imshow(blosum_3di, vmin = -15, vmax =15, cmap = 'bwr')\n",
    "plt.colorbar()\n",
    "plt.title(\"current learned blosum\")\n",
    "plt.show()\n",
    "plt.imshow(pc_blosum_3di, vmin = -15, vmax =15, cmap = 'bwr')\n",
    "plt.colorbar()\n",
    "plt.title(\"precomputed blosum\")\n",
    "plt.show()\n",
    "\n",
    "plt.scatter(blosum_3di.flatten(),pc_blosum_3di.flatten(),alpha = .2)\n",
    "plt.axline((0, 0), slope=1, color='black', linestyle='--')\n",
    "plt.xlabel(\"current learned blosum\")\n",
    "plt.ylabel(\"precomputed blosum\")\n"
   ]
  },
  {
   "cell_type": "code",
   "execution_count": 107,
   "id": "9c4ffbac",
   "metadata": {},
   "outputs": [
    {
     "data": {
      "image/png": "[encoded data removed]",
      "text/plain": [
       "<Figure size 432x288 with 2 Axes>"
      ]
     },
     "metadata": {
      "needs_background": "light"
     },
     "output_type": "display_data"
    },
    {
     "data": {
      "image/png": "[encoded data removed]",
      "text/plain": [
       "<Figure size 432x288 with 2 Axes>"
      ]
     },
     "metadata": {
      "needs_background": "light"
     },
     "output_type": "display_data"
    },
    {
     "data": {
      "text/plain": [
       "Text(0, 0.5, 'precomputed blosum')"
      ]
     },
     "execution_count": 107,
     "metadata": {},
     "output_type": "execute_result"
    },
    {
     "data": {
      "image/png": "[encoded data removed]",
      "text/plain": [
       "<Figure size 432x288 with 1 Axes>"
      ]
     },
     "metadata": {
      "needs_background": "light"
     },
     "output_type": "display_data"
    }
   ],
   "source": [
    "plt.imshow(blosum_mse, vmin = -15, vmax =15, cmap = 'bwr')\n",
    "plt.colorbar()\n",
    "plt.title(\"current learned blosum\")\n",
    "plt.show()\n",
    "plt.imshow(pc_blosum_mse, vmin = -15, vmax =15, cmap = 'bwr')\n",
    "plt.colorbar()\n",
    "plt.title(\"precomputed blosum\")\n",
    "plt.show()\n",
    "\n",
    "plt.scatter(blosum_mse.flatten(),pc_blosum_mse.flatten(), alpha = .2)\n",
    "plt.axline((0, 0), slope=1, color='black', linestyle='--')\n",
    "plt.xlabel(\"current learned blosum\")\n",
    "plt.ylabel(\"precomputed blosum\")\n"
   ]
  },
  {
   "cell_type": "code",
   "execution_count": null,
   "id": "50be3ca9",
   "metadata": {},
   "outputs": [],
   "source": []
  },
  {
   "cell_type": "code",
   "execution_count": null,
   "id": "75b17487",
   "metadata": {},
   "outputs": [],
   "source": []
  }
 ],
 "metadata": {
  "kernelspec": {
   "display_name": "Python 3",
   "language": "python",
   "name": "python3"
  },
  "language_info": {
   "codemirror_mode": {
    "name": "ipython",
    "version": 3
   },
   "file_extension": ".py",
   "mimetype": "text/x-python",
   "name": "python",
   "nbconvert_exporter": "python",
   "pygments_lexer": "ipython3",
   "version": "3.8.8"
  }
 },
 "nbformat": 4,
 "nbformat_minor": 5
}
