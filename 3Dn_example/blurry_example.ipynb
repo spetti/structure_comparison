{
 "cells": [
  {
   "cell_type": "markdown",
   "id": "fba991b1",
   "metadata": {},
   "source": [
    "# 3Dn example script\n",
    "\n",
    "In this example, we will demonstrate how to align two proteins using the blurry neighborhood-based 3Dn method."
   ]
  },
  {
   "cell_type": "markdown",
   "id": "97698eb1",
   "metadata": {},
   "source": [
    "## Imports"
   ]
  },
  {
   "cell_type": "code",
   "execution_count": 1,
   "id": "693f8f19",
   "metadata": {},
   "outputs": [],
   "source": [
    "import numpy as np\n",
    "import os\n",
    "import csv\n",
    "import jax\n",
    "from Bio import BiopythonDeprecationWarning\n",
    "from Bio.PDB import PDBParser\n",
    "from Bio.SeqUtils import seq3\n",
    "from Bio.PDB.Polypeptide import *\n",
    "\n",
    "from utils_example import *"
   ]
  },
  {
   "cell_type": "markdown",
   "id": "b0e94308",
   "metadata": {},
   "source": [
    "# Preliminaries\n",
    "\n",
    "Let's first read the relevant files.\n",
    "\n",
    "We are assuming the protein information is available with pdbs, which we will read accordingly.\n",
    "\n",
    "I have demonstrated with two example pdb files; feel free to provide your own!"
   ]
  },
  {
   "cell_type": "code",
   "execution_count": 2,
   "id": "8b2033b3",
   "metadata": {},
   "outputs": [],
   "source": [
    "#pdb file paths\n",
    "file_prot1='refData/d1dlwa_'\n",
    "file_prot2='refData/d2gkma_'\n",
    "\n",
    "#load trained transition matrix for generating blurry neighborhoods from nHot representations\n",
    "tMtx=np.load('refData/transition_mtx.npy')\n",
    "\n",
    "#load trained cluster centers for the blurry neighborhoods\n",
    "cluster_centers=np.load('refData/MI_centers.npy')\n",
    "\n",
    "#load blosums for 3Dn and 3Di alphabets\n",
    "blosum_3Dn=np.load('refData/graph_clusters_blosum.npy')\n",
    "blosum_3Di=np.load('refData/3Di_blosum.npy')"
   ]
  },
  {
   "cell_type": "markdown",
   "id": "5c80901d",
   "metadata": {},
   "source": [
    "## n-Hot and blurry neighborhood representations"
   ]
  },
  {
   "cell_type": "code",
   "execution_count": 3,
   "id": "ef875943",
   "metadata": {},
   "outputs": [],
   "source": [
    "#this generates all 1000 of the bins we used in our discretization (see paper for more details)\n",
    "allBins=generateBinList()\n",
    "\n",
    "#generate and characterize positions and secondary structures of neighbors of prot1 and prot2\n",
    "prot1_neighbors=allBinsNeighborsPerProt(file_prot1)\n",
    "prot2_neighbors=allBinsNeighborsPerProt(file_prot2)\n",
    "\n",
    "#get length of each protein\n",
    "len_prot1=len(prot1_neighbors)\n",
    "len_prot2=len(prot2_neighbors)\n",
    "\n",
    "#generate coordinates of all alpha carbons in each protein\n",
    "CA_positions_prot1=np.array(getAllPositions(file_prot1)[0])\n",
    "CA_positions_prot2=np.array(getAllPositions(file_prot2)[0])\n",
    "\n",
    "#obtain nHot representation from neighbor information \n",
    "prot1_nHot=getOneHot(prot1_neighbors,allBins)\n",
    "prot2_nHot=getOneHot(prot2_neighbors,allBins)\n",
    "\n",
    "#get blurry neighborhoods from transition matrix and nHot representation\n",
    "prot1_bn=np.einsum('ik,kj->ij', prot1_nHot, tMtx)[:,:-1]\n",
    "prot2_bn=np.einsum('ik,kj->ij', prot2_nHot, tMtx)[:,:-1]"
   ]
  },
  {
   "cell_type": "markdown",
   "id": "864f04b6",
   "metadata": {},
   "source": [
    "### 3Dn representation (clustering blurry neighborhoods)"
   ]
  },
  {
   "cell_type": "code",
   "execution_count": 4,
   "id": "fa55489b",
   "metadata": {},
   "outputs": [],
   "source": [
    "#assign 3Dn sequence based on existing cluster centers\n",
    "prot1_seq_bn=seqFromCentroids(prot1_bn,cluster_centers)\n",
    "prot2_seq_bn=seqFromCentroids(prot2_bn,cluster_centers)\n",
    "\n",
    "#get oneHotVersion of clustered sequences\n",
    "#This is the \"3Dn sequence\"\n",
    "prot1_clustered_oneHot=getOneHot_Clustered(prot1_seq_bn)\n",
    "prot2_clustered_oneHot=getOneHot_Clustered(prot2_seq_bn)"
   ]
  },
  {
   "cell_type": "markdown",
   "id": "ef321f34",
   "metadata": {},
   "source": [
    "## Generate alignment"
   ]
  },
  {
   "cell_type": "code",
   "execution_count": 5,
   "id": "4f874a56",
   "metadata": {},
   "outputs": [],
   "source": [
    "#obtain similarity matrix (necessary for local alignment algorithm) between the proteins, using the 3Dn sequences and trained blosum\n",
    "simMtx_3dn=sim_mtx(prot1_clustered_oneHot,prot2_clustered_oneHot,blosum_3Dn)\n",
    "\n",
    "#define Smith-Waterman local sequence alignment algorithm\n",
    "affine_sw_func=jax.jit(sw_affine(batch=False))\n",
    "\n",
    "#get alignment from 3dn blosum\n",
    "#feel free to adjust open and gap penalties to the values you prefer!\n",
    "#we recommend a parameter search to find optimal weights for your specific case\n",
    "mult=1\n",
    "shift=0\n",
    "algt_3Dn=affine_sw_func(mult*(simMtx_3dn-shift),(len_prot1,len_prot2),gap=-.5,open=-10,temp=0.0000001)"
   ]
  },
  {
   "cell_type": "markdown",
   "id": "6538d460",
   "metadata": {},
   "source": [
    "## Evaluate alignment"
   ]
  },
  {
   "cell_type": "code",
   "execution_count": 6,
   "id": "b717f5d4",
   "metadata": {},
   "outputs": [
    {
     "name": "stdout",
     "output_type": "stream",
     "text": [
      "The lDDT using the 3Dn alphabet alignment of your provided proteins: 0.887\n"
     ]
    }
   ],
   "source": [
    "#get lddt to assess alignment quality\n",
    "lddt=lddt2(CA_positions_prot1, CA_positions_prot2, algt_3Dn,len_prot1)\n",
    "print(f'The lDDT using the 3Dn alphabet alignment of your provided proteins: {lddt:.3f}')"
   ]
  },
  {
   "cell_type": "code",
   "execution_count": null,
   "id": "e4874ec2",
   "metadata": {},
   "outputs": [],
   "source": []
  }
 ],
 "metadata": {
  "kernelspec": {
   "display_name": "Python (saba)",
   "language": "python",
   "name": "saba"
  },
  "language_info": {
   "codemirror_mode": {
    "name": "ipython",
    "version": 3
   },
   "file_extension": ".py",
   "mimetype": "text/x-python",
   "name": "python",
   "nbconvert_exporter": "python",
   "pygments_lexer": "ipython3",
   "version": "3.12.2"
  }
 },
 "nbformat": 4,
 "nbformat_minor": 5
}
